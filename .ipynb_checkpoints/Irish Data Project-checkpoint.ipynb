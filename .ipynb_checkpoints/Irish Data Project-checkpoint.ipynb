{
 "cells": [
  {
   "cell_type": "markdown",
   "id": "ed821af3",
   "metadata": {},
   "source": [
    "### This code performs the following tasks:\n",
    "\n",
    "    Loads the data and checks its shape and null values.\n",
    "    Handles null values by dropping features with more than 70% missing values.\n",
    "    Encodes the categorical 'Class' feature using LabelEncoder.\n",
    "    Checks for outliers using a boxplot and finds no obvious outliers.\n",
    "    Plots and analyzes the correlation between features.\n",
    "    Splits the data into training and test sets.\n",
    "    Performs K-Fold cross-validation with logistic regression and prints the mean accuracy scores.\n",
    "    Trains a logistic regression model on the training data.\n",
    "    Predicts the classes on the test data.\n",
    "    Prints the classification report with precision, recall, and F1-score for each class."
   ]
  }
 ],
 "metadata": {
  "kernelspec": {
   "display_name": "Python 3 (ipykernel)",
   "language": "python",
   "name": "python3"
  },
  "language_info": {
   "codemirror_mode": {
    "name": "ipython",
    "version": 3
   },
   "file_extension": ".py",
   "mimetype": "text/x-python",
   "name": "python",
   "nbconvert_exporter": "python",
   "pygments_lexer": "ipython3",
   "version": "3.11.5"
  }
 },
 "nbformat": 4,
 "nbformat_minor": 5
}
