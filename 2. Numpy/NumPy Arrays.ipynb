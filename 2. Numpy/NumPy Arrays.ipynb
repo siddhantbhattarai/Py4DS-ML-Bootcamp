{
 "cells": [
  {
   "cell_type": "markdown",
   "metadata": {},
   "source": [
    "NumPy, which stands for Numerical Python, is a powerful library in Python used for numerical computing. It provides support for large, multi-dimensional arrays and matrices, along with a collection of mathematical functions to operate on these arrays efficiently. NumPy forms the foundation for many other libraries in the scientific computing ecosystem of Python.\n",
    "\n",
    "Key features of NumPy include:\n",
    "\n",
    "1. **Efficient Array Operations:** NumPy arrays are faster and more memory-efficient than Python lists for numerical operations, especially for large datasets. This efficiency is achieved through optimized, compiled C code.\n",
    "\n",
    "2. **Multi-dimensional Arrays:** NumPy supports arrays of any dimensionality, including 1-D arrays (vectors), 2-D arrays (matrices), and higher-dimensional arrays.\n",
    "\n",
    "3. **Broadcasting:** NumPy allows operations on arrays of different shapes and sizes through broadcasting, which automatically aligns arrays to perform element-wise operations.\n",
    "\n",
    "4. **Linear Algebra:** NumPy provides a rich set of functions for linear algebra operations, such as matrix multiplication, eigenvalues, and decomposition.\n",
    "\n",
    "5. **Random Number Generation:** NumPy includes functions for generating random numbers and random sampling from various probability distributions.\n",
    "\n",
    "6. **Integration with Other Libraries:** Many scientific and data analysis libraries in Python, such as SciPy, Pandas, and Matplotlib, are built on top of NumPy, making it an essential component of the Python data science ecosystem.\n",
    "\n",
    "Overall, NumPy is widely used in various domains, including data analysis, machine learning, signal processing, image processing, and computational science, due to its efficiency, flexibility, and extensive functionality for numerical computing tasks."
   ]
  },
  {
   "cell_type": "markdown",
   "metadata": {},
   "source": [
    "An array is a data structure that stores a collection of elements, typically of the same data type, arranged in contiguous memory locations. Arrays provide a way to efficiently manage and manipulate large sets of data in programming languages.\n",
    "\n",
    "Key characteristics of arrays include:\n",
    "\n",
    "1. **Homogeneity:** Arrays contain elements of the same data type, ensuring uniformity and efficient memory usage.\n",
    "\n",
    "2. **Contiguous Memory:** Array elements are stored in adjacent memory locations, allowing for fast access and traversal.\n",
    "\n",
    "3. **Fixed Size:** Arrays have a fixed size determined at the time of creation, which cannot be changed dynamically.\n",
    "\n",
    "4. **Indexing:** Elements in an array are accessed using an index, which represents their position within the array. Array indices typically start from 0.\n",
    "\n",
    "Arrays are widely used in various programming scenarios, including numerical computations, data manipulation, and algorithm implementation. They form the foundation of many higher-level data structures and are essential for efficient data storage and processing in computer science and software development."
   ]
  },
  {
   "cell_type": "code",
   "execution_count": 2,
   "metadata": {},
   "outputs": [],
   "source": [
    "import numpy as np"
   ]
  },
  {
   "cell_type": "code",
   "execution_count": 4,
   "metadata": {},
   "outputs": [
    {
     "name": "stdout",
     "output_type": "stream",
     "text": [
      "1. Creating NumPy Arrays:\n",
      "Heights: [165 170 155 180 172]\n"
     ]
    }
   ],
   "source": [
    "# 1. Creating NumPy Arrays\n",
    "heights_cm = np.array([165, 170, 155, 180, 172])\n",
    "print(\"1. Creating NumPy Arrays:\")\n",
    "print(\"Heights:\", heights_cm)"
   ]
  },
  {
   "cell_type": "code",
   "execution_count": 5,
   "metadata": {},
   "outputs": [
    {
     "name": "stdout",
     "output_type": "stream",
     "text": [
      "2. Array Operations:\n",
      "Average height: 168.4\n",
      "Maximum height: 180\n"
     ]
    }
   ],
   "source": [
    "# 2. Array Operations\n",
    "average_height = np.mean(heights_cm)\n",
    "max_height = np.max(heights_cm)\n",
    "print(\"2. Array Operations:\")\n",
    "print(\"Average height:\", average_height)\n",
    "print(\"Maximum height:\", max_height)"
   ]
  },
  {
   "cell_type": "code",
   "execution_count": 6,
   "metadata": {},
   "outputs": [
    {
     "name": "stdout",
     "output_type": "stream",
     "text": [
      "3. Multi-dimensional Arrays:\n",
      "Temperature data:\n",
      "[[25 28 30]\n",
      " [22 23 24]\n",
      " [30 32 28]]\n"
     ]
    }
   ],
   "source": [
    "# 3. Multi-dimensional Arrays\n",
    "temperature_data = np.array([[25, 28, 30], [22, 23, 24], [30, 32, 28]])\n",
    "print(\"3. Multi-dimensional Arrays:\")\n",
    "print(\"Temperature data:\")\n",
    "print(temperature_data)"
   ]
  },
  {
   "cell_type": "code",
   "execution_count": 7,
   "metadata": {},
   "outputs": [
    {
     "name": "stdout",
     "output_type": "stream",
     "text": [
      "4. Array Indexing and Slicing:\n",
      "Temperatures for the first city: [25 28 30]\n",
      "Temperatures for the second day: [28 23 32]\n"
     ]
    }
   ],
   "source": [
    "# 4. Array Indexing and Slicing\n",
    "first_city_temperatures = temperature_data[0]\n",
    "second_day_temperatures = temperature_data[:, 1]\n",
    "print(\"4. Array Indexing and Slicing:\")\n",
    "print(\"Temperatures for the first city:\", first_city_temperatures)\n",
    "print(\"Temperatures for the second day:\", second_day_temperatures)"
   ]
  },
  {
   "cell_type": "code",
   "execution_count": 8,
   "metadata": {},
   "outputs": [
    {
     "name": "stdout",
     "output_type": "stream",
     "text": [
      "5. Array Broadcasting:\n",
      "Temperatures in Fahrenheit:\n",
      "[[77.  82.4 86. ]\n",
      " [71.6 73.4 75.2]\n",
      " [86.  89.6 82.4]]\n"
     ]
    }
   ],
   "source": [
    "# 5. Array Broadcasting\n",
    "temperatures_fahrenheit = (temperature_data * 9/5) + 32\n",
    "print(\"5. Array Broadcasting:\")\n",
    "print(\"Temperatures in Fahrenheit:\")\n",
    "print(temperatures_fahrenheit)"
   ]
  },
  {
   "cell_type": "code",
   "execution_count": 9,
   "metadata": {},
   "outputs": [
    {
     "name": "stdout",
     "output_type": "stream",
     "text": [
      "6. Linear Algebra Operations:\n",
      "Revenue from sales (in dollars):\n",
      "[[ 7000  5900]\n",
      " [10350  8640]]\n"
     ]
    }
   ],
   "source": [
    "# 6. Linear Algebra Operations\n",
    "sales = np.array([[100, 200, 150], [300, 250, 180]])\n",
    "prices = np.array([[10, 15, 20], [8, 12, 18]])\n",
    "revenue = np.dot(sales, prices.T)\n",
    "print(\"6. Linear Algebra Operations:\")\n",
    "print(\"Revenue from sales (in dollars):\")\n",
    "print(revenue)"
   ]
  },
  {
   "cell_type": "code",
   "execution_count": 10,
   "metadata": {},
   "outputs": [
    {
     "name": "stdout",
     "output_type": "stream",
     "text": [
      "7. Random Number Generation:\n",
      "Dice rolls:\n",
      "[[2 5 5]\n",
      " [3 4 6]]\n"
     ]
    }
   ],
   "source": [
    "# 7. Random Number Generation\n",
    "dice_rolls = np.random.randint(1, 7, size=(2, 3))\n",
    "print(\"7. Random Number Generation:\")\n",
    "print(\"Dice rolls:\")\n",
    "print(dice_rolls)"
   ]
  },
  {
   "cell_type": "markdown",
   "metadata": {},
   "source": [
    "Here are short notes about the methods used in the examples provided:\n",
    "\n",
    "1. **Creating NumPy Arrays:**\n",
    "   - `np.array()`: Converts a Python list to a NumPy array.\n",
    "\n",
    "2. **Array Operations:**\n",
    "   - `np.mean()`: Computes the average of elements in a NumPy array.\n",
    "   - `np.max()`: Finds the maximum value in a NumPy array.\n",
    "\n",
    "3. **Multi-dimensional Arrays:**\n",
    "   - `np.array()`: Creates a multi-dimensional NumPy array from a list of lists.\n",
    "\n",
    "4. **Array Indexing and Slicing:**\n",
    "   - Indexing with `[ ]`: Accesses elements or slices of a NumPy array.\n",
    "\n",
    "5. **Array Broadcasting:**\n",
    "   - Element-wise arithmetic operations are performed on NumPy arrays due to broadcasting.\n",
    "\n",
    "6. **Linear Algebra Operations:**\n",
    "   - `np.dot()`: Computes the dot product of two arrays (matrix multiplication).\n",
    "   - `.T`: Transposes a NumPy array (rows become columns and vice versa).\n",
    "\n",
    "7. **Random Number Generation:**\n",
    "   - `np.random.randint()`: Generates random integers within a specified range.\n",
    "\n",
    "8. **Data Analysis with NumPy:**\n",
    "   - Placeholder for loading and analyzing stock price data from a CSV file. Actual methods would include functions like `np.loadtxt()` for loading data and `np.diff()` for computing differences between consecutive elements.\n",
    "\n",
    "These methods are fundamental to using NumPy arrays effectively and cover basic operations, mathematical computations, data manipulation, and random number generation. Experimenting with these methods and exploring their variations will deepen your understanding of NumPy and its capabilities."
   ]
  },
  {
   "cell_type": "code",
   "execution_count": 12,
   "metadata": {},
   "outputs": [
    {
     "name": "stdout",
     "output_type": "stream",
     "text": [
      "List: [1, 2, 3]\n"
     ]
    }
   ],
   "source": [
    "# Import NumPy library\n",
    "import numpy as np\n",
    "\n",
    "# Creating NumPy Arrays\n",
    "\n",
    "## From a Python List\n",
    "my_list = [1, 2, 3]\n",
    "print(\"List:\", my_list)\n"
   ]
  },
  {
   "cell_type": "code",
   "execution_count": 14,
   "metadata": {},
   "outputs": [
    {
     "name": "stdout",
     "output_type": "stream",
     "text": [
      "NumPy array from list: [1 2 3]\n",
      "\n",
      "Matrix: [[1, 2, 3], [4, 5, 6], [7, 8, 9]]\n",
      "\n",
      "NumPy array from matrix:\n",
      "[[1 2 3]\n",
      " [4 5 6]\n",
      " [7 8 9]]\n"
     ]
    }
   ],
   "source": [
    "# Convert list to NumPy array\n",
    "np_array_from_list = np.array(my_list)\n",
    "print(\"NumPy array from list:\", np_array_from_list)\n",
    "print()\n",
    "\n",
    "my_matrix = [[1, 2, 3], [4, 5, 6], [7, 8, 9]]\n",
    "print(\"Matrix:\", my_matrix)\n",
    "print()\n",
    "\n",
    "# Convert matrix to NumPy array\n",
    "np_array_from_matrix = np.array(my_matrix)\n",
    "print(\"NumPy array from matrix:\")\n",
    "print(np_array_from_matrix)"
   ]
  },
  {
   "cell_type": "code",
   "execution_count": 15,
   "metadata": {},
   "outputs": [
    {
     "name": "stdout",
     "output_type": "stream",
     "text": [
      "np.arange(0, 10): [0 1 2 3 4 5 6 7 8 9]\n",
      "np.arange(0, 11, 2): [ 0  2  4  6  8 10]\n",
      "\n",
      "np.zeros(3): [0. 0. 0.]\n",
      "np.zeros((5, 5)):\n",
      "[[0. 0. 0. 0. 0.]\n",
      " [0. 0. 0. 0. 0.]\n",
      " [0. 0. 0. 0. 0.]\n",
      " [0. 0. 0. 0. 0.]\n",
      " [0. 0. 0. 0. 0.]]\n",
      "\n",
      "np.ones(3): [1. 1. 1.]\n",
      "np.ones((3, 3)):\n",
      "[[1. 1. 1.]\n",
      " [1. 1. 1.]\n",
      " [1. 1. 1.]]\n",
      "\n",
      "np.linspace(0, 10, 3): [ 0.  5. 10.]\n",
      "np.linspace(0, 10, 50): [ 0.          0.20408163  0.40816327  0.6122449   0.81632653  1.02040816\n",
      "  1.2244898   1.42857143  1.63265306  1.83673469  2.04081633  2.24489796\n",
      "  2.44897959  2.65306122  2.85714286  3.06122449  3.26530612  3.46938776\n",
      "  3.67346939  3.87755102  4.08163265  4.28571429  4.48979592  4.69387755\n",
      "  4.89795918  5.10204082  5.30612245  5.51020408  5.71428571  5.91836735\n",
      "  6.12244898  6.32653061  6.53061224  6.73469388  6.93877551  7.14285714\n",
      "  7.34693878  7.55102041  7.75510204  7.95918367  8.16326531  8.36734694\n",
      "  8.57142857  8.7755102   8.97959184  9.18367347  9.3877551   9.59183673\n",
      "  9.79591837 10.        ]\n",
      "\n",
      "np.eye(4):\n",
      "[[1. 0. 0. 0.]\n",
      " [0. 1. 0. 0.]\n",
      " [0. 0. 1. 0.]\n",
      " [0. 0. 0. 1.]]\n",
      "\n",
      "np.random.rand(2): [0.77929487 0.24817306]\n",
      "np.random.rand(5, 5):\n",
      "[[0.67394585 0.88753832 0.25453082 0.71848101 0.35190258]\n",
      " [0.99684228 0.79620474 0.47026372 0.99895766 0.65824273]\n",
      " [0.12507394 0.94752033 0.31327771 0.45409378 0.18493763]\n",
      " [0.70707404 0.58449176 0.06772809 0.15559538 0.41084134]\n",
      " [0.93505759 0.71931793 0.8540344  0.64253099 0.44626203]]\n",
      "\n",
      "np.random.randn(2): [ 0.48877772 -0.03886923]\n",
      "np.random.randn(5, 5):\n",
      "[[ 0.0134371  -1.33581661  0.33078719 -0.34463145 -0.47394176]\n",
      " [ 1.40779368  1.10528558 -0.58489598 -0.72373898 -1.13357364]\n",
      " [ 1.13851251 -1.0697981  -0.14198203  0.06332178  0.37439714]\n",
      " [ 0.78787201 -1.03874772 -1.64903235 -1.3522118  -1.60257607]\n",
      " [ 0.52864044 -0.04146367 -1.38370355 -0.74846632  0.25272969]]\n",
      "\n",
      "np.random.randint(1, 100): 65\n",
      "np.random.randint(1, 100, 10): [67 27 63 73 92  9 20 56  5  7]\n"
     ]
    }
   ],
   "source": [
    "## Built-in Methods\n",
    "\n",
    "### arange\n",
    "print(\"np.arange(0, 10):\", np.arange(0, 10))\n",
    "print(\"np.arange(0, 11, 2):\", np.arange(0, 11, 2))\n",
    "print()\n",
    "\n",
    "### zeros and ones\n",
    "print(\"np.zeros(3):\", np.zeros(3))\n",
    "print(\"np.zeros((5, 5)):\")\n",
    "print(np.zeros((5, 5)))\n",
    "print()\n",
    "\n",
    "print(\"np.ones(3):\", np.ones(3))\n",
    "print(\"np.ones((3, 3)):\")\n",
    "print(np.ones((3, 3)))\n",
    "print()\n",
    "\n",
    "### linspace\n",
    "print(\"np.linspace(0, 10, 3):\", np.linspace(0, 10, 3))\n",
    "print(\"np.linspace(0, 10, 50):\", np.linspace(0, 10, 50))\n",
    "print()\n",
    "\n",
    "## eye\n",
    "print(\"np.eye(4):\")\n",
    "print(np.eye(4))\n",
    "print()\n",
    "\n",
    "## Random \n",
    "\n",
    "### rand\n",
    "print(\"np.random.rand(2):\", np.random.rand(2))\n",
    "print(\"np.random.rand(5, 5):\")\n",
    "print(np.random.rand(5, 5))\n",
    "print()\n",
    "\n",
    "### randn\n",
    "print(\"np.random.randn(2):\", np.random.randn(2))\n",
    "print(\"np.random.randn(5, 5):\")\n",
    "print(np.random.randn(5, 5))\n",
    "print()\n",
    "\n",
    "### randint\n",
    "print(\"np.random.randint(1, 100):\", np.random.randint(1, 100))\n",
    "print(\"np.random.randint(1, 100, 10):\", np.random.randint(1, 100, 10))"
   ]
  },
  {
   "cell_type": "code",
   "execution_count": 16,
   "metadata": {},
   "outputs": [
    {
     "name": "stdout",
     "output_type": "stream",
     "text": [
      "arr: [ 0  1  2  3  4  5  6  7  8  9 10 11 12 13 14 15 16 17 18 19 20 21 22 23\n",
      " 24]\n",
      "arr.reshape(5, 5):\n",
      "[[ 0  1  2  3  4]\n",
      " [ 5  6  7  8  9]\n",
      " [10 11 12 13 14]\n",
      " [15 16 17 18 19]\n",
      " [20 21 22 23 24]]\n",
      "\n",
      "ranarr: [ 2 27 26 40 11 33 41  6 11 19]\n",
      "ranarr.max(): 41\n",
      "ranarr.argmax(): 6\n",
      "ranarr.min(): 2\n",
      "ranarr.argmin(): 0\n",
      "\n",
      "arr.shape: (25,)\n",
      "arr.reshape(1, 25): [[ 0  1  2  3  4  5  6  7  8  9 10 11 12 13 14 15 16 17 18 19 20 21 22 23\n",
      "  24]]\n",
      "arr.reshape(1, 25).shape: (1, 25)\n",
      "arr.reshape(25, 1): [[ 0]\n",
      " [ 1]\n",
      " [ 2]\n",
      " [ 3]\n",
      " [ 4]\n",
      " [ 5]\n",
      " [ 6]\n",
      " [ 7]\n",
      " [ 8]\n",
      " [ 9]\n",
      " [10]\n",
      " [11]\n",
      " [12]\n",
      " [13]\n",
      " [14]\n",
      " [15]\n",
      " [16]\n",
      " [17]\n",
      " [18]\n",
      " [19]\n",
      " [20]\n",
      " [21]\n",
      " [22]\n",
      " [23]\n",
      " [24]]\n",
      "arr.reshape(25, 1).shape: (25, 1)\n",
      "\n",
      "arr.dtype: int64\n"
     ]
    }
   ],
   "source": [
    "# Array Attributes and Methods\n",
    "\n",
    "## Reshape\n",
    "arr = np.arange(25)\n",
    "print(\"arr:\", arr)\n",
    "print(\"arr.reshape(5, 5):\")\n",
    "print(arr.reshape(5, 5))\n",
    "print()\n",
    "\n",
    "### max, min, argmax, argmin\n",
    "ranarr = np.random.randint(0, 50, 10)\n",
    "print(\"ranarr:\", ranarr)\n",
    "print(\"ranarr.max():\", ranarr.max())\n",
    "print(\"ranarr.argmax():\", ranarr.argmax())\n",
    "print(\"ranarr.min():\", ranarr.min())\n",
    "print(\"ranarr.argmin():\", ranarr.argmin())\n",
    "print()\n",
    "\n",
    "## Shape\n",
    "# Vector\n",
    "print(\"arr.shape:\", arr.shape)\n",
    "print(\"arr.reshape(1, 25):\", arr.reshape(1, 25))\n",
    "print(\"arr.reshape(1, 25).shape:\", arr.reshape(1, 25).shape)\n",
    "print(\"arr.reshape(25, 1):\", arr.reshape(25, 1))\n",
    "print(\"arr.reshape(25, 1).shape:\", arr.reshape(25, 1).shape)\n",
    "print()\n",
    "\n",
    "## dtype\n",
    "print(\"arr.dtype:\", arr.dtype)\n",
    "\n",
    "# Congratulations! You've learned about NumPy arrays."
   ]
  }
 ],
 "metadata": {
  "kernelspec": {
   "display_name": "ml_emv",
   "language": "python",
   "name": "python3"
  },
  "language_info": {
   "codemirror_mode": {
    "name": "ipython",
    "version": 3
   },
   "file_extension": ".py",
   "mimetype": "text/x-python",
   "name": "python",
   "nbconvert_exporter": "python",
   "pygments_lexer": "ipython3",
   "version": "3.11.5"
  }
 },
 "nbformat": 4,
 "nbformat_minor": 2
}
