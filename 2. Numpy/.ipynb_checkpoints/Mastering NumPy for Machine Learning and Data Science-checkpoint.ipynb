{
 "cells": [
  {
   "cell_type": "markdown",
   "id": "b623ea75",
   "metadata": {},
   "source": [
    "Here's a structured outline for your NumPy course tailored for machine learning and data science:\n",
    "\n",
    "### Course Title: Mastering NumPy for Machine Learning and Data Science\n",
    "\n",
    "#### Module 1: Introduction to NumPy\n",
    "- Overview of NumPy and its importance in machine learning and data science\n",
    "- Installation and setup\n",
    "- Introduction to `ndarray` and basic array manipulation\n",
    "\n",
    "#### Module 2: Array Operations and Universal Functions (ufuncs)\n",
    "- Understanding element-wise operations\n",
    "- Introduction to universal functions and their significance\n",
    "- Hands-on exercises on basic arithmetic, trigonometric, exponential, and logarithmic operations\n",
    "\n",
    "#### Module 3: Indexing, Slicing, and Reshaping\n",
    "- Indexing and slicing arrays for data extraction\n",
    "- Advanced slicing techniques\n",
    "- Reshaping arrays for compatibility with machine learning algorithms\n",
    "- Exercises on indexing, slicing, and reshaping for data preprocessing\n",
    "\n",
    "#### Module 4: Array Stacking and Splitting\n",
    "- Concatenating and splitting arrays\n",
    "- Vertical and horizontal stacking\n",
    "- Splitting arrays into multiple smaller arrays\n",
    "- Practical examples of array stacking and splitting in data preprocessing\n",
    "\n",
    "#### Module 5: Broadcasting and Vectorization\n",
    "- Understanding broadcasting and its role in NumPy operations\n",
    "- Vectorized operations and their advantages\n",
    "- Hands-on exercises on broadcasting and vectorization for efficient computation\n",
    "\n",
    "#### Module 6: Linear Algebra with NumPy\n",
    "- Introduction to linear algebra operations with NumPy\n",
    "- Matrix multiplication, inversion, and transpose\n",
    "- Solving linear equations using NumPy\n",
    "- Applications of linear algebra in machine learning and data science\n",
    "\n",
    "#### Module 7: Statistical Computing with NumPy\n",
    "- Basic statistical operations using NumPy\n",
    "- Mean, median, standard deviation, variance, and percentiles\n",
    "- Statistical functions for data analysis and hypothesis testing\n",
    "- Real-world examples of statistical computing in data science projects\n",
    "\n",
    "#### Module 8: File I/O and Data Handling\n",
    "- Loading and saving arrays from/to disk\n",
    "- Supported file formats for array storage\n",
    "- Handling large datasets efficiently with NumPy\n",
    "- Practical exercises on reading and writing data files in various formats\n",
    "\n",
    "#### Module 9: Performance Optimization Techniques\n",
    "- Understanding NumPy's performance characteristics\n",
    "- Profiling and benchmarking NumPy code\n",
    "- Techniques for optimizing NumPy code for speed and memory efficiency\n",
    "- Best practices for writing efficient NumPy code in machine learning and data science projects\n",
    "\n",
    "#### Module 10: Advanced Topics and Applications\n",
    "- Introduction to advanced NumPy features and libraries\n",
    "- Integration with other Python libraries like pandas, scikit-learn, and TensorFlow\n",
    "- Advanced NumPy applications in deep learning, image processing, and natural language processing\n",
    "- Capstone project: Applying NumPy skills to solve a real-world machine learning or data science problem\n",
    "\n",
    "#### Conclusion and Further Resources\n",
    "- Recap of key concepts covered in the course\n",
    "- Recommendations for further learning and exploration\n",
    "- Resources for staying updated on NumPy developments and best practices\n",
    "\n",
    "This course outline covers essential topics in NumPy tailored specifically for machine learning and data science practitioners. Each module includes theoretical concepts, hands-on exercises, and practical applications to ensure learners develop a strong foundation in NumPy and its applications in real-world projects."
   ]
  },
  {
   "cell_type": "markdown",
   "id": "c377b7bb",
   "metadata": {},
   "source": [
    "### Module 1: Introduction to NumPy"
   ]
  },
  {
   "cell_type": "markdown",
   "id": "1ce3cf54",
   "metadata": {},
   "source": [
    "NumPy, short for Numerical Python, is a powerful Python library that provides support for large, multi-dimensional arrays and matrices, along with a collection of mathematical functions to operate on these arrays efficiently. It is the fundamental package for numerical computing in Python and forms the basis for many other scientific computing libraries in the Python ecosystem.\n",
    "\n",
    "NumPy is designed to be fast and efficient, primarily because many of its core functions and algorithms are implemented in C and Fortran. This allows NumPy to execute complex mathematical computations with high performance, making it well-suited for tasks such as numerical simulations, data analysis, machine learning, and scientific research.\n",
    "\n",
    "Key features of NumPy include:\n",
    "\n",
    "1. **ndarray**: NumPy's `ndarray` is a multi-dimensional array object that can hold elements of the same data type. These arrays are much more efficient than traditional Python lists, especially for large datasets, and support fast mathematical operations.\n",
    "\n",
    "2. **Array Operations**: NumPy provides a wide range of mathematical functions that operate element-wise on arrays, including arithmetic operations, trigonometric functions, exponential and logarithmic functions, and more.\n",
    "\n",
    "3. **Broadcasting**: NumPy's broadcasting feature allows for efficient computation on arrays of different shapes and sizes by automatically aligning their dimensions.\n",
    "\n",
    "4. **Linear Algebra**: NumPy includes a comprehensive set of functions for performing linear algebra operations such as matrix multiplication, eigenvalue decomposition, singular value decomposition, and solving linear equations.\n",
    "\n",
    "5. **Random Number Generation**: NumPy provides functions for generating random numbers and random arrays with various probability distributions.\n",
    "\n",
    "6. **Integration with other Libraries**: NumPy seamlessly integrates with other Python libraries commonly used in scientific computing, such as SciPy, pandas, Matplotlib, and scikit-learn.\n",
    "\n",
    "Overall, NumPy is an essential tool for numerical computing in Python, and its versatility and performance make it a vital component of many machine learning and data science workflows."
   ]
  },
  {
   "cell_type": "code",
   "execution_count": 10,
   "id": "22428fde",
   "metadata": {},
   "outputs": [
    {
     "name": "stdout",
     "output_type": "stream",
     "text": [
      "Requirement already satisfied: numpy in /home/siddhant/anaconda3/lib/python3.11/site-packages (1.24.3)\n",
      "Note: you may need to restart the kernel to use updated packages.\n"
     ]
    }
   ],
   "source": [
    "# Step 1: Installation and Setup\n",
    "pip install numpy"
   ]
  },
  {
   "cell_type": "markdown",
   "id": "89ddd65d",
   "metadata": {},
   "source": [
    "#### Step 2: Introduction to `ndarray`\n",
    "Let's start by importing NumPy and creating some arrays using the `ndarray` object."
   ]
  },
  {
   "cell_type": "code",
   "execution_count": 12,
   "id": "bf977cb7",
   "metadata": {},
   "outputs": [
    {
     "name": "stdout",
     "output_type": "stream",
     "text": [
      "1D Array:\n",
      "[1 2 3 4 5]\n"
     ]
    }
   ],
   "source": [
    "import numpy as np\n",
    "\n",
    "# Create a 1D array from a Python list\n",
    "arr_1d = np.array([1, 2, 3, 4, 5])\n",
    "print(\"1D Array:\")\n",
    "print(arr_1d)"
   ]
  },
  {
   "cell_type": "code",
   "execution_count": 13,
   "id": "9e89a3c1",
   "metadata": {},
   "outputs": [
    {
     "name": "stdout",
     "output_type": "stream",
     "text": [
      "\n",
      "2D Array:\n",
      "[[1 2 3]\n",
      " [4 5 6]\n",
      " [7 8 9]]\n"
     ]
    }
   ],
   "source": [
    "# Create a 2D array from a list of lists\n",
    "arr_2d = np.array([[1, 2, 3], [4, 5, 6], [7, 8, 9]])\n",
    "print(\"\\n2D Array:\")\n",
    "print(arr_2d)"
   ]
  },
  {
   "cell_type": "code",
   "execution_count": 14,
   "id": "7e03a0da",
   "metadata": {},
   "outputs": [
    {
     "name": "stdout",
     "output_type": "stream",
     "text": [
      "\n",
      "Float Array:\n",
      "[1. 2. 3.]\n"
     ]
    }
   ],
   "source": [
    "# Create an array with a specified data type\n",
    "arr_float = np.array([1, 2, 3], dtype=float)\n",
    "print(\"\\nFloat Array:\")\n",
    "print(arr_float)"
   ]
  },
  {
   "cell_type": "markdown",
   "id": "f871d61d",
   "metadata": {},
   "source": [
    "#### Step 3: Basic Array Manipulation\n",
    "Now, let's perform some basic array manipulation operations like indexing, slicing, and reshaping."
   ]
  },
  {
   "cell_type": "code",
   "execution_count": 15,
   "id": "e7c69b75",
   "metadata": {},
   "outputs": [
    {
     "name": "stdout",
     "output_type": "stream",
     "text": [
      "\n",
      "Indexing and Slicing:\n",
      "First element of arr_1d: 1\n",
      "Last element of arr_1d: 5\n",
      "First row of arr_2d: [1 2 3]\n",
      "Second column of arr_2d: [2 5 8]\n"
     ]
    }
   ],
   "source": [
    "# Indexing and slicing\n",
    "print(\"\\nIndexing and Slicing:\")\n",
    "print(\"First element of arr_1d:\", arr_1d[0])\n",
    "print(\"Last element of arr_1d:\", arr_1d[-1])\n",
    "print(\"First row of arr_2d:\", arr_2d[0])\n",
    "print(\"Second column of arr_2d:\", arr_2d[:, 1])"
   ]
  },
  {
   "cell_type": "code",
   "execution_count": 17,
   "id": "3180b46f",
   "metadata": {},
   "outputs": [
    {
     "name": "stdout",
     "output_type": "stream",
     "text": [
      "[[1 2 3 4 5]]\n",
      "[[1]\n",
      " [2]\n",
      " [3]\n",
      " [4]\n",
      " [5]]\n"
     ]
    }
   ],
   "source": [
    "# Reshaping arr_1d to a 1x5 array\n",
    "arr_reshaped_1x5 = arr_1d.reshape(1, 5)\n",
    "print(arr_reshaped_1x5)\n",
    "\n",
    "# Reshaping arr_1d to a 5x1 array\n",
    "arr_reshaped_5x1 = arr_1d.reshape(5, 1)\n",
    "print(arr_reshaped_5x1)\n"
   ]
  },
  {
   "cell_type": "markdown",
   "id": "740b3bb6",
   "metadata": {},
   "source": [
    "#### Step 4: Array Attributes\n",
    "Explore some important array attributes such as shape, size, and data type."
   ]
  },
  {
   "cell_type": "code",
   "execution_count": 19,
   "id": "b91df8b4",
   "metadata": {},
   "outputs": [
    {
     "name": "stdout",
     "output_type": "stream",
     "text": [
      "\n",
      "Array Attributes:\n",
      "Shape of arr_1d: (5,)\n",
      "Shape of arr_2d: (3, 3)\n",
      "Data type of arr_float: float64\n",
      "Number of elements in arr_2d: 9\n"
     ]
    }
   ],
   "source": [
    "# Array attributes\n",
    "print(\"\\nArray Attributes:\")\n",
    "print(\"Shape of arr_1d:\", arr_1d.shape)\n",
    "print(\"Shape of arr_2d:\", arr_2d.shape)\n",
    "print(\"Data type of arr_float:\", arr_float.dtype)\n",
    "print(\"Number of elements in arr_2d:\", arr_2d.size)"
   ]
  },
  {
   "cell_type": "markdown",
   "id": "42085399",
   "metadata": {},
   "source": [
    "#### Step 5: Additional Exercises\n",
    "- Create your own arrays using different NumPy functions like `np.zeros()`, `np.ones()`, `np.arange()`, and `np.random.rand()`.\n",
    "- Experiment with different array manipulation techniques such as stacking arrays (`np.vstack()` and `np.hstack()`), splitting arrays (`np.split()`), and transposing arrays (`np.transpose()`)."
   ]
  },
  {
   "cell_type": "markdown",
   "id": "efebc6f8",
   "metadata": {},
   "source": [
    "#### Part 1: Creating Arrays\n",
    "\n",
    "1. Create a 3x3 array filled with zeros using `np.zeros()`:"
   ]
  },
  {
   "cell_type": "code",
   "execution_count": 20,
   "id": "8c8c2f49",
   "metadata": {},
   "outputs": [
    {
     "name": "stdout",
     "output_type": "stream",
     "text": [
      "Zeros Array:\n",
      "[[0. 0. 0.]\n",
      " [0. 0. 0.]\n",
      " [0. 0. 0.]]\n"
     ]
    }
   ],
   "source": [
    "import numpy as np\n",
    "\n",
    "zeros_array = np.zeros((3, 3))\n",
    "print(\"Zeros Array:\")\n",
    "print(zeros_array)"
   ]
  },
  {
   "cell_type": "markdown",
   "id": "b25c53a8",
   "metadata": {},
   "source": [
    "2. Create a 2x2 array filled with ones using `np.ones()`:"
   ]
  },
  {
   "cell_type": "code",
   "execution_count": 21,
   "id": "df312fdb",
   "metadata": {},
   "outputs": [
    {
     "name": "stdout",
     "output_type": "stream",
     "text": [
      "\n",
      "Ones Array:\n",
      "[[1. 1.]\n",
      " [1. 1.]]\n"
     ]
    }
   ],
   "source": [
    "ones_array = np.ones((2, 2))\n",
    "print(\"\\nOnes Array:\")\n",
    "print(ones_array)"
   ]
  },
  {
   "cell_type": "markdown",
   "id": "91fd69f1",
   "metadata": {},
   "source": [
    "3. Create a 1D array with values ranging from 0 to 9 using `np.arange()`:"
   ]
  },
  {
   "cell_type": "code",
   "execution_count": 22,
   "id": "01362f66",
   "metadata": {},
   "outputs": [
    {
     "name": "stdout",
     "output_type": "stream",
     "text": [
      "\n",
      "Range Array:\n",
      "[0 1 2 3 4 5 6 7 8 9]\n"
     ]
    }
   ],
   "source": [
    "range_array = np.arange(10)\n",
    "print(\"\\nRange Array:\")\n",
    "print(range_array)"
   ]
  },
  {
   "cell_type": "markdown",
   "id": "ef8f1e68",
   "metadata": {},
   "source": [
    "4. Create a 3x3 array of random numbers between 0 and 1 using `np.random.rand()`:"
   ]
  },
  {
   "cell_type": "code",
   "execution_count": 23,
   "id": "6f54d45b",
   "metadata": {},
   "outputs": [
    {
     "name": "stdout",
     "output_type": "stream",
     "text": [
      "\n",
      "Random Array:\n",
      "[[0.81522983 0.61242573 0.73661549]\n",
      " [0.80031253 0.0169061  0.69847033]\n",
      " [0.95592725 0.00632252 0.0736961 ]]\n"
     ]
    }
   ],
   "source": [
    "random_array = np.random.rand(3, 3)\n",
    "print(\"\\nRandom Array:\")\n",
    "print(random_array)"
   ]
  },
  {
   "cell_type": "markdown",
   "id": "9d010671",
   "metadata": {},
   "source": [
    "#### Part 2: Array Manipulation\n",
    "\n",
    "5. Stack `zeros_array` and `ones_array` vertically using `np.vstack()`:"
   ]
  },
  {
   "cell_type": "code",
   "execution_count": 26,
   "id": "72996e45",
   "metadata": {},
   "outputs": [
    {
     "name": "stdout",
     "output_type": "stream",
     "text": [
      "Vertically Stacked Array:\n",
      "[[0. 0. 0.]\n",
      " [0. 0. 0.]\n",
      " [1. 1. 1.]\n",
      " [1. 1. 1.]]\n"
     ]
    }
   ],
   "source": [
    "import numpy as np\n",
    "\n",
    "# Create arrays with compatible shapes\n",
    "zeros_array = np.zeros((2, 3))\n",
    "ones_array = np.ones((2, 3))\n",
    "\n",
    "# Vertically stack the arrays\n",
    "stacked_vertically = np.vstack((zeros_array, ones_array))\n",
    "print(\"Vertically Stacked Array:\")\n",
    "print(stacked_vertically)"
   ]
  },
  {
   "cell_type": "markdown",
   "id": "7aaa9714",
   "metadata": {},
   "source": [
    "6. Stack `zeros_array` and `ones_array` horizontally using `np.hstack()`:"
   ]
  },
  {
   "cell_type": "code",
   "execution_count": 27,
   "id": "5f8c5419",
   "metadata": {},
   "outputs": [
    {
     "name": "stdout",
     "output_type": "stream",
     "text": [
      "\n",
      "Horizontally Stacked Array:\n",
      "[[0. 0. 0. 1. 1. 1.]\n",
      " [0. 0. 0. 1. 1. 1.]]\n"
     ]
    }
   ],
   "source": [
    "stacked_horizontally = np.hstack((zeros_array, ones_array))\n",
    "print(\"\\nHorizontally Stacked Array:\")\n",
    "print(stacked_horizontally)"
   ]
  },
  {
   "cell_type": "markdown",
   "id": "46920c80",
   "metadata": {},
   "source": [
    "7. Split `range_array` into three equal parts using `np.split()`:"
   ]
  },
  {
   "cell_type": "code",
   "execution_count": 32,
   "id": "f2a40856",
   "metadata": {},
   "outputs": [
    {
     "name": "stdout",
     "output_type": "stream",
     "text": [
      "[0 1 2 3 4 5 6 7 8]\n",
      "\n",
      "Split Arrays:\n",
      "[0 1 2]\n",
      "[3 4 5]\n",
      "[6 7 8]\n"
     ]
    }
   ],
   "source": [
    "import numpy as np\n",
    "\n",
    "# Create a new array with a size that is evenly divisible by the number of sections\n",
    "range_array = np.arange(9)  # Size is 9\n",
    "print(range_array)\n",
    "\n",
    "# Split the array into 3 equal sections\n",
    "split_arrays = np.split(range_array, 3)\n",
    "print(\"\\nSplit Arrays:\")\n",
    "for arr in split_arrays:\n",
    "    print(arr)\n"
   ]
  },
  {
   "cell_type": "markdown",
   "id": "57fcafdf",
   "metadata": {},
   "source": [
    "8. Transpose `random_array` using `np.transpose()`:"
   ]
  },
  {
   "cell_type": "code",
   "execution_count": 33,
   "id": "9aef4dc5",
   "metadata": {},
   "outputs": [
    {
     "name": "stdout",
     "output_type": "stream",
     "text": [
      "\n",
      "Transposed Array:\n",
      "[[0.81522983 0.80031253 0.95592725]\n",
      " [0.61242573 0.0169061  0.00632252]\n",
      " [0.73661549 0.69847033 0.0736961 ]]\n"
     ]
    }
   ],
   "source": [
    "transposed_array = np.transpose(random_array)\n",
    "print(\"\\nTransposed Array:\")\n",
    "print(transposed_array)"
   ]
  },
  {
   "cell_type": "markdown",
   "id": "d59e4c78",
   "metadata": {},
   "source": [
    "### Module 2: Array Operations and Universal Functions (ufuncs)"
   ]
  },
  {
   "cell_type": "markdown",
   "id": "dfa0c15b",
   "metadata": {},
   "source": [
    "#### Lab 1: Basic Arithmetic Operations\n",
    "In this lab, we'll perform basic arithmetic operations on NumPy arrays using universal functions (ufuncs)."
   ]
  },
  {
   "cell_type": "code",
   "execution_count": 35,
   "id": "955352d4",
   "metadata": {},
   "outputs": [
    {
     "name": "stdout",
     "output_type": "stream",
     "text": [
      "Addition Result:\n",
      "[ 7  9 11 13 15]\n",
      "\n",
      "Subtraction Result:\n",
      "[-5 -5 -5 -5 -5]\n",
      "\n",
      "Multiplication Result:\n",
      "[ 6 14 24 36 50]\n",
      "\n",
      "Division Result:\n",
      "[0.16666667 0.28571429 0.375      0.44444444 0.5       ]\n"
     ]
    }
   ],
   "source": [
    "import numpy as np\n",
    "\n",
    "# Create two arrays\n",
    "arr1 = np.array([1, 2, 3, 4, 5])\n",
    "arr2 = np.array([6, 7, 8, 9, 10])\n",
    "\n",
    "# Addition\n",
    "addition_result = np.add(arr1, arr2)\n",
    "print(\"Addition Result:\")\n",
    "print(addition_result)\n",
    "\n",
    "# Subtraction\n",
    "subtraction_result = np.subtract(arr1, arr2)\n",
    "print(\"\\nSubtraction Result:\")\n",
    "print(subtraction_result)\n",
    "\n",
    "# Multiplication\n",
    "multiplication_result = np.multiply(arr1, arr2)\n",
    "print(\"\\nMultiplication Result:\")\n",
    "print(multiplication_result)\n",
    "\n",
    "# Division\n",
    "division_result = np.divide(arr1, arr2)\n",
    "print(\"\\nDivision Result:\")\n",
    "print(division_result)\n"
   ]
  },
  {
   "cell_type": "markdown",
   "id": "117d4fe4",
   "metadata": {},
   "source": [
    "#### Lab 2: Trigonometric Functions\n",
    "Explore trigonometric functions available in NumPy."
   ]
  },
  {
   "cell_type": "code",
   "execution_count": 39,
   "id": "cf17a2df",
   "metadata": {},
   "outputs": [
    {
     "name": "stdout",
     "output_type": "stream",
     "text": [
      "Angles: [0.         0.78539816 1.57079633 2.35619449 3.14159265]\n",
      "\n",
      "Sine Values:\n",
      "[0.00000000e+00 7.07106781e-01 1.00000000e+00 7.07106781e-01\n",
      " 1.22464680e-16]\n",
      "\n",
      "Cosine Values:\n",
      "[ 1.00000000e+00  7.07106781e-01  6.12323400e-17 -7.07106781e-01\n",
      " -1.00000000e+00]\n",
      "\n",
      "Tangent Values:\n",
      "[ 0.00000000e+00  1.00000000e+00  1.63312394e+16 -1.00000000e+00\n",
      " -1.22464680e-16]\n"
     ]
    }
   ],
   "source": [
    "import numpy as np\n",
    "\n",
    "# Create an array of angles\n",
    "angles = np.array([0, np.pi/4, np.pi/2, 3*np.pi/4, np.pi])\n",
    "print(\"Angles:\",angles)\n",
    "\n",
    "# Sine\n",
    "sine_values = np.sin(angles)\n",
    "print(\"\\nSine Values:\")\n",
    "print(sine_values)\n",
    "\n",
    "# Cosine\n",
    "cosine_values = np.cos(angles)\n",
    "print(\"\\nCosine Values:\")\n",
    "print(cosine_values)\n",
    "\n",
    "# Tangent\n",
    "tangent_values = np.tan(angles)\n",
    "print(\"\\nTangent Values:\")\n",
    "print(tangent_values)\n"
   ]
  },
  {
   "cell_type": "markdown",
   "id": "b40f4905",
   "metadata": {},
   "source": [
    "#### Lab 3: Exponential and Logarithmic Functions\n",
    "Experiment with exponential and logarithmic functions in NumPy."
   ]
  },
  {
   "cell_type": "code",
   "execution_count": 41,
   "id": "aa136914",
   "metadata": {},
   "outputs": [
    {
     "name": "stdout",
     "output_type": "stream",
     "text": [
      "Exponential Values:\n",
      "[  2.71828183   7.3890561   20.08553692  54.59815003 148.4131591 ]\n",
      "\n",
      "Natural Logarithm Values:\n",
      "[0.         0.69314718 1.09861229 1.38629436 1.60943791]\n",
      "\n",
      "Base 10 Logarithm Values:\n",
      "[0.         0.30103    0.47712125 0.60205999 0.69897   ]\n"
     ]
    }
   ],
   "source": [
    "import numpy as np\n",
    "\n",
    "# Create an array of numbers\n",
    "numbers = np.array([1, 2, 3, 4, 5])\n",
    "\n",
    "# Exponential\n",
    "exponential_values = np.exp(numbers)\n",
    "print(\"Exponential Values:\")\n",
    "print(exponential_values)\n",
    "\n",
    "# Natural Logarithm\n",
    "log_values = np.log(numbers)\n",
    "print(\"\\nNatural Logarithm Values:\")\n",
    "print(log_values)\n",
    "\n",
    "# Base 10 Logarithm\n",
    "log10_values = np.log10(numbers)\n",
    "print(\"\\nBase 10 Logarithm Values:\")\n",
    "print(log10_values)\n"
   ]
  },
  {
   "cell_type": "markdown",
   "id": "7d0ffdf5",
   "metadata": {},
   "source": [
    "Let's consider a real-world problem where we want to analyze the temperature data collected from different weather stations over a period of time. We'll use NumPy to perform various operations on the temperature data and derive meaningful insights.\n",
    "\n",
    "### Real-World Problem: Temperature Analysis\n",
    "\n",
    "#### Scenario:\n",
    "We have temperature data collected from three weather stations (Station A, Station B, and Station C) over the course of a week. Each station records the temperature (in degrees Celsius) every hour for seven days.\n",
    "\n",
    "#### Data:\n",
    "- Station A:  \n",
    "  Temperature Data: [22, 23, 24, 25, 24, 23, 22] (degrees Celsius)\n",
    "\n",
    "- Station B:  \n",
    "  Temperature Data: [20, 21, 20, 22, 23, 24, 25] (degrees Celsius)\n",
    "\n",
    "- Station C:  \n",
    "  Temperature Data: [25, 25, 24, 23, 22, 21, 20] (degrees Celsius)\n",
    "\n",
    "#### Tasks:\n",
    "1. Calculate the average temperature for each station.\n",
    "2. Determine the maximum temperature recorded at each station.\n",
    "3. Find the day with the highest temperature across all stations.\n",
    "4. Compute the hourly average temperature across all stations for each day."
   ]
  },
  {
   "cell_type": "markdown",
   "id": "25bdb638",
   "metadata": {},
   "source": [
    "#### Solution using NumPy:"
   ]
  },
  {
   "cell_type": "code",
   "execution_count": 42,
   "id": "44dcba2d",
   "metadata": {},
   "outputs": [
    {
     "name": "stdout",
     "output_type": "stream",
     "text": [
      "Average Temperatures for Each Station:\n",
      "[23.28571429 22.14285714 22.85714286]\n",
      "\n",
      "Maximum Temperatures for Each Station:\n",
      "[25 25 25]\n",
      "\n",
      "Hottest Day Index (0-indexed): 3\n",
      "\n",
      "Daily Hourly Average Temperatures:\n",
      "[23.28571429 22.14285714 22.85714286]\n"
     ]
    }
   ],
   "source": [
    "import numpy as np\n",
    "\n",
    "# Temperature data for each station\n",
    "station_a_data = np.array([22, 23, 24, 25, 24, 23, 22])\n",
    "station_b_data = np.array([20, 21, 20, 22, 23, 24, 25])\n",
    "station_c_data = np.array([25, 25, 24, 23, 22, 21, 20])\n",
    "\n",
    "# Task 1: Calculate the average temperature for each station\n",
    "average_temperatures = np.mean([station_a_data, station_b_data, station_c_data], axis=1)\n",
    "print(\"Average Temperatures for Each Station:\")\n",
    "print(average_temperatures)\n",
    "\n",
    "# Task 2: Determine the maximum temperature recorded at each station\n",
    "max_temperatures = np.max([station_a_data, station_b_data, station_c_data], axis=1)\n",
    "print(\"\\nMaximum Temperatures for Each Station:\")\n",
    "print(max_temperatures)\n",
    "\n",
    "# Task 3: Find the day with the highest temperature across all stations\n",
    "hourly_average_temperatures = np.mean([station_a_data, station_b_data, station_c_data], axis=0)\n",
    "hottest_day_index = np.argmax(hourly_average_temperatures)\n",
    "print(\"\\nHottest Day Index (0-indexed):\", hottest_day_index)\n",
    "\n",
    "# Task 4: Compute the hourly average temperature across all stations for each day\n",
    "daily_hourly_average = np.mean([station_a_data, station_b_data, station_c_data], axis=1)\n",
    "print(\"\\nDaily Hourly Average Temperatures:\")\n",
    "print(daily_hourly_average)\n"
   ]
  },
  {
   "cell_type": "markdown",
   "id": "96134379",
   "metadata": {},
   "source": [
    "### Module 3: Indexing, Slicing, and Reshaping"
   ]
  },
  {
   "cell_type": "markdown",
   "id": "6c8483e5",
   "metadata": {},
   "source": [
    "#### Lab 1: Indexing and Slicing Arrays for Data Extraction\n",
    "Practice indexing and slicing arrays to extract specific elements or subarrays."
   ]
  },
  {
   "cell_type": "code",
   "execution_count": 43,
   "id": "6ec317dc",
   "metadata": {},
   "outputs": [
    {
     "name": "stdout",
     "output_type": "stream",
     "text": [
      "Single Element: 5\n",
      "\n",
      "Subarray:\n",
      "[[2 3]\n",
      " [5 6]]\n"
     ]
    }
   ],
   "source": [
    "import numpy as np\n",
    "\n",
    "# Create a 2D array\n",
    "arr = np.array([[1, 2, 3],\n",
    "                [4, 5, 6],\n",
    "                [7, 8, 9]])\n",
    "\n",
    "# Indexing to extract a single element\n",
    "element = arr[1, 1]\n",
    "print(\"Single Element:\", element)\n",
    "\n",
    "# Slicing to extract a subarray\n",
    "subarray = arr[0:2, 1:]\n",
    "print(\"\\nSubarray:\")\n",
    "print(subarray)\n"
   ]
  },
  {
   "cell_type": "markdown",
   "id": "9ba27afb",
   "metadata": {},
   "source": [
    "#### Lab 2: Advanced Slicing Techniques\n",
    "Explore advanced slicing techniques like boolean indexing and fancy indexing."
   ]
  },
  {
   "cell_type": "code",
   "execution_count": 44,
   "id": "5cb83843",
   "metadata": {},
   "outputs": [
    {
     "name": "stdout",
     "output_type": "stream",
     "text": [
      "Boolean Indexing Result:\n",
      "[3 4 5]\n",
      "\n",
      "Fancy Indexing Result:\n",
      "[1 3 5]\n"
     ]
    }
   ],
   "source": [
    "import numpy as np\n",
    "\n",
    "# Create an array\n",
    "arr = np.array([1, 2, 3, 4, 5])\n",
    "\n",
    "# Boolean indexing\n",
    "mask = arr > 2\n",
    "filtered_array = arr[mask]\n",
    "print(\"Boolean Indexing Result:\")\n",
    "print(filtered_array)\n",
    "\n",
    "# Fancy indexing\n",
    "indices = [0, 2, 4]\n",
    "selected_elements = arr[indices]\n",
    "print(\"\\nFancy Indexing Result:\")\n",
    "print(selected_elements)\n"
   ]
  },
  {
   "cell_type": "markdown",
   "id": "02a9edb0",
   "metadata": {},
   "source": [
    "#### Lab 3: Reshaping Arrays for Compatibility\n",
    "Practice reshaping arrays to meet the requirements of machine learning algorithms."
   ]
  },
  {
   "cell_type": "code",
   "execution_count": 46,
   "id": "ae4da05c",
   "metadata": {},
   "outputs": [
    {
     "name": "stdout",
     "output_type": "stream",
     "text": [
      "Reshaped Array:\n",
      "[[ 1  2  3]\n",
      " [ 4  5  6]\n",
      " [ 7  8  9]\n",
      " [10 11 12]]\n"
     ]
    }
   ],
   "source": [
    "import numpy as np\n",
    "\n",
    "# Create a 1D array\n",
    "arr = np.arange(1, 13)\n",
    "\n",
    "# Reshape into a 2D array\n",
    "reshaped_array = arr.reshape(4, 3)\n",
    "print(\"Reshaped Array:\")\n",
    "print(reshaped_array)\n"
   ]
  },
  {
   "cell_type": "markdown",
   "id": "165446a2",
   "metadata": {},
   "source": [
    "#### Lab 4: Data Preprocessing with Indexing, Slicing, and Reshaping\n",
    "Apply indexing, slicing, and reshaping techniques to preprocess a dataset for machine learning."
   ]
  },
  {
   "cell_type": "code",
   "execution_count": 54,
   "id": "346e513f",
   "metadata": {},
   "outputs": [],
   "source": [
    "import numpy as np\n",
    "\n",
    "# Generate random data\n",
    "num_samples = 100\n",
    "num_features = 5\n",
    "\n",
    "data = np.random.rand(num_samples, num_features + 1)  # +1 for the target variable\n",
    "header = [f\"Feature_{i}\" for i in range(num_features)] + [\"Target\"]\n",
    "\n",
    "# Save data to CSV file\n",
    "np.savetxt('dataset.csv', data, delimiter=',', header=','.join(header), comments='')\n"
   ]
  },
  {
   "cell_type": "code",
   "execution_count": 58,
   "id": "22ee7e9b",
   "metadata": {},
   "outputs": [
    {
     "name": "stdout",
     "output_type": "stream",
     "text": [
      "First 5 rows of the dataset:\n",
      "[[0.02493783 0.50537092 0.46168439 0.16181497 0.41545238 0.07875143]\n",
      " [0.49229346 0.78271456 0.53760631 0.03243505 0.87911943 0.85454209]\n",
      " [0.18792342 0.18534564 0.11391961 0.1258641  0.66735654 0.87228729]\n",
      " [0.6671558  0.07973479 0.60331513 0.18685043 0.2688939  0.22755354]\n",
      " [0.44436603 0.16216351 0.52258905 0.47470284 0.66285138 0.15251558]]\n"
     ]
    }
   ],
   "source": [
    "import numpy as np\n",
    "\n",
    "# Load dataset, skipping the header row\n",
    "dataset = np.loadtxt('dataset.csv', delimiter=',', skiprows=1)\n",
    "\n",
    "# Display the first few rows of the dataset\n",
    "print(\"First 5 rows of the dataset:\")\n",
    "print(dataset[:5])  # View the first 5 rows\n"
   ]
  },
  {
   "cell_type": "code",
   "execution_count": 60,
   "id": "b6a50736",
   "metadata": {},
   "outputs": [
    {
     "name": "stdout",
     "output_type": "stream",
     "text": [
      "Reshaped Features:\n",
      "[[2.49378264e-02 5.05370919e-01 4.61684395e-01 1.61814970e-01\n",
      "  4.15452384e-01]\n",
      " [4.92293464e-01 7.82714559e-01 5.37606309e-01 3.24350537e-02\n",
      "  8.79119432e-01]\n",
      " [1.87923415e-01 1.85345643e-01 1.13919615e-01 1.25864100e-01\n",
      "  6.67356535e-01]\n",
      " [6.67155797e-01 7.97347911e-02 6.03315127e-01 1.86850427e-01\n",
      "  2.68893898e-01]\n",
      " [4.44366034e-01 1.62163507e-01 5.22589052e-01 4.74702839e-01\n",
      "  6.62851377e-01]\n",
      " [9.90529831e-01 9.03847180e-01 2.57241585e-01 5.92745383e-01\n",
      "  4.22928667e-01]\n",
      " [1.00628987e-01 1.39333272e-02 7.30318479e-01 6.62965349e-02\n",
      "  9.11580639e-01]\n",
      " [4.40778301e-01 7.41550669e-01 9.23801853e-01 7.69026735e-01\n",
      "  3.79651516e-01]\n",
      " [2.47175369e-01 6.11473820e-01 9.93101319e-02 5.90288554e-01\n",
      "  6.80339132e-01]\n",
      " [7.71831821e-02 4.90881397e-01 2.93712141e-01 1.19247988e-01\n",
      "  1.22150293e-01]\n",
      " [4.32754812e-01 2.14821173e-02 7.96223828e-01 4.14463783e-01\n",
      "  1.40441849e-01]\n",
      " [4.96420260e-01 6.48411462e-02 4.06208966e-01 3.80989397e-01\n",
      "  9.63766263e-01]\n",
      " [5.59900731e-01 3.36236845e-01 8.69350402e-01 6.61443165e-02\n",
      "  3.14768017e-01]\n",
      " [9.15016500e-01 8.26943903e-01 6.15476983e-02 7.72520167e-02\n",
      "  1.03310517e-01]\n",
      " [7.94623743e-01 6.42219627e-02 6.82775924e-03 4.15961436e-01\n",
      "  8.58398028e-01]\n",
      " [8.82427357e-03 8.22976500e-01 8.61983171e-01 6.99181533e-01\n",
      "  9.18086277e-01]\n",
      " [4.01339501e-01 2.48110505e-01 4.05853592e-01 8.85899664e-01\n",
      "  2.74408905e-01]\n",
      " [7.48707384e-01 4.83794721e-01 8.09254937e-04 2.60773993e-01\n",
      "  7.54146062e-01]\n",
      " [4.63330159e-01 9.79860865e-01 7.71168352e-01 7.71237494e-01\n",
      "  3.17597516e-02]\n",
      " [2.35437956e-01 5.31570970e-01 9.64081327e-01 1.62129448e-01\n",
      "  5.73379942e-01]\n",
      " [2.46717119e-01 3.95307601e-01 2.10358275e-01 7.99968334e-01\n",
      "  6.78874803e-01]\n",
      " [9.48512942e-02 8.51563248e-01 8.18331159e-01 9.96139032e-01\n",
      "  7.79178367e-01]\n",
      " [7.16920847e-01 8.15064736e-01 6.19622773e-01 8.39110906e-01\n",
      "  9.03987408e-02]\n",
      " [2.80920379e-01 3.94292999e-01 3.81968453e-01 9.23085357e-01\n",
      "  2.80056918e-02]\n",
      " [1.68681803e-02 3.67365180e-01 1.54685102e-01 9.40780353e-01\n",
      "  6.87138950e-01]\n",
      " [3.10574254e-01 2.08734486e-01 7.45278436e-01 2.00428018e-01\n",
      "  2.22969931e-01]\n",
      " [8.77245839e-01 8.53033730e-01 9.38346641e-01 5.30678218e-01\n",
      "  5.94882983e-01]\n",
      " [4.32861934e-01 1.38559720e-01 5.11559749e-01 9.05349695e-01\n",
      "  1.02450969e-01]\n",
      " [1.44350292e-01 2.83971309e-02 6.67533140e-04 3.31793778e-02\n",
      "  9.75362313e-01]\n",
      " [2.81642991e-01 6.52788603e-01 7.17441725e-01 8.06775498e-01\n",
      "  1.02377459e-01]\n",
      " [2.74610254e-01 6.06702086e-01 8.16400066e-01 4.54657960e-02\n",
      "  1.66979372e-01]\n",
      " [1.29978008e-01 6.63706107e-01 1.11710996e-01 1.34696646e-01\n",
      "  2.91280720e-02]\n",
      " [1.65816198e-01 6.51160049e-01 4.14181832e-01 4.35755506e-01\n",
      "  2.36223209e-01]\n",
      " [9.53609669e-01 2.08946524e-01 7.35414992e-01 8.07411951e-01\n",
      "  8.71613082e-01]\n",
      " [3.98089985e-01 9.19674169e-02 3.78648911e-01 9.04728036e-01\n",
      "  7.82392362e-01]\n",
      " [4.93674014e-01 4.93599784e-02 9.84376391e-01 4.16604061e-01\n",
      "  2.94358614e-01]\n",
      " [4.65251623e-01 6.19155433e-01 6.66725759e-01 5.25174276e-01\n",
      "  6.08717179e-01]\n",
      " [9.63194180e-02 1.22339642e-01 1.29160342e-01 4.65727726e-01\n",
      "  4.54563824e-01]\n",
      " [3.55466918e-02 6.41721096e-01 8.07582345e-01 8.07481980e-01\n",
      "  8.49247380e-01]\n",
      " [7.82327982e-01 2.45170598e-01 1.42044591e-01 6.42936828e-01\n",
      "  7.80721994e-01]\n",
      " [6.61614600e-02 7.42643768e-01 2.02195529e-01 8.70240530e-01\n",
      "  9.46462905e-01]\n",
      " [1.72467858e-01 4.74444036e-01 2.88482025e-01 8.80789530e-01\n",
      "  8.80288333e-01]\n",
      " [2.87886256e-01 5.79505388e-01 9.20186527e-01 6.74595692e-01\n",
      "  7.46103928e-01]\n",
      " [4.55739230e-01 3.69355197e-01 9.38932202e-01 1.42089660e-01\n",
      "  1.57184571e-01]\n",
      " [8.02198237e-01 6.54117278e-01 1.17164675e-01 3.38434342e-01\n",
      "  3.83833435e-01]\n",
      " [4.45414031e-01 3.81631369e-02 8.47879294e-01 2.55189864e-01\n",
      "  5.34056922e-01]\n",
      " [3.45772827e-01 1.44118357e-02 5.85617130e-01 8.26409165e-01\n",
      "  7.17182218e-01]\n",
      " [2.51256234e-01 5.61704606e-01 1.36402650e-01 3.19891627e-01\n",
      "  2.01025137e-01]\n",
      " [1.36392381e-02 1.95048372e-01 9.02209444e-01 9.73710942e-02\n",
      "  4.53803597e-01]\n",
      " [1.93578805e-01 8.29404031e-01 4.35164812e-02 1.22343453e-02\n",
      "  7.36936007e-03]\n",
      " [4.96307445e-01 9.39541412e-01 1.73235232e-01 2.60579931e-01\n",
      "  3.08019009e-01]\n",
      " [3.04762333e-01 6.57190509e-01 4.29081694e-01 1.05790623e-01\n",
      "  5.41718258e-02]\n",
      " [8.13108568e-01 3.09765443e-01 7.04138393e-01 6.19985918e-01\n",
      "  7.36461247e-01]\n",
      " [7.29932962e-01 8.69668028e-01 1.10829320e-01 6.13148821e-01\n",
      "  4.59033096e-01]\n",
      " [2.78766898e-01 1.27741305e-01 4.10521621e-01 7.07617960e-01\n",
      "  7.00783570e-01]\n",
      " [9.50664038e-01 1.38629094e-01 8.18433362e-01 3.04533328e-01\n",
      "  8.96425860e-02]\n",
      " [9.07408392e-01 9.39017258e-01 3.12591007e-01 9.26589489e-01\n",
      "  1.77475757e-01]\n",
      " [2.91302263e-01 9.37721345e-01 2.86049782e-02 9.92958342e-01\n",
      "  1.49701021e-01]\n",
      " [8.07244384e-01 7.59639285e-01 6.72040555e-01 8.13282422e-01\n",
      "  2.32873824e-01]\n",
      " [7.42383031e-01 4.27565595e-01 6.44699695e-01 5.37760909e-01\n",
      "  2.28446974e-01]\n",
      " [5.51652577e-01 6.02389762e-01 9.36782146e-01 7.59549433e-01\n",
      "  7.15196937e-01]\n",
      " [1.46688867e-01 5.42443028e-01 7.18929894e-01 2.30109152e-01\n",
      "  7.03129335e-03]\n",
      " [2.41284374e-02 3.62826244e-01 3.42531116e-01 5.67361400e-01\n",
      "  1.90357087e-01]\n",
      " [7.72576119e-01 5.49625149e-02 1.66493324e-01 3.28372159e-01\n",
      "  3.75231660e-01]\n",
      " [3.22673203e-01 7.58412553e-01 9.26917118e-01 1.61875736e-01\n",
      "  3.50733286e-01]\n",
      " [8.02973793e-02 1.23869387e-01 1.01672027e-01 6.46926124e-01\n",
      "  5.45945607e-01]\n",
      " [1.08668119e-02 5.11399158e-01 8.76524600e-01 5.78078452e-01\n",
      "  3.76026066e-01]\n",
      " [6.78943673e-01 1.68179605e-01 2.74387050e-01 7.69475832e-01\n",
      "  2.90389179e-01]\n",
      " [8.91626202e-02 4.17663615e-01 8.79476017e-01 6.52002819e-01\n",
      "  3.75897426e-01]\n",
      " [1.81790558e-01 6.59226654e-01 3.64207098e-01 8.03448409e-01\n",
      "  2.15651068e-01]\n",
      " [1.09306229e-01 6.26645734e-01 4.47250460e-01 8.04139259e-01\n",
      "  8.33998527e-01]\n",
      " [7.79949480e-01 4.05810919e-01 7.87850723e-01 3.81779828e-01\n",
      "  6.53248073e-01]\n",
      " [8.86753049e-01 4.16413399e-01 6.46556733e-01 3.06983380e-01\n",
      "  2.61290258e-01]\n",
      " [6.45440919e-01 9.70602102e-01 7.42489674e-01 7.74896014e-01\n",
      "  4.97247599e-01]\n",
      " [4.15054128e-01 8.83008046e-01 7.88921371e-01 4.37776322e-01\n",
      "  4.16806228e-01]\n",
      " [9.02889534e-02 4.97185913e-01 5.48221007e-01 7.37453135e-01\n",
      "  1.40862281e-01]\n",
      " [5.98317547e-01 5.41537161e-01 7.68396186e-01 4.84250697e-01\n",
      "  7.10612062e-02]\n",
      " [1.57727704e-02 1.11206111e-01 1.22540375e-02 5.36623258e-01\n",
      "  7.16624768e-01]\n",
      " [5.27642099e-01 7.89790451e-01 2.16915414e-01 2.25747881e-01\n",
      "  1.67549306e-01]\n",
      " [8.53241272e-02 9.33142707e-01 7.14128726e-01 9.75940048e-01\n",
      "  8.49661741e-01]\n",
      " [8.92517544e-01 4.14366820e-01 4.52698935e-01 4.10037790e-01\n",
      "  5.17481911e-01]\n",
      " [5.84901599e-02 3.76614310e-01 9.27378489e-01 3.79100991e-01\n",
      "  2.68252396e-01]\n",
      " [9.30896702e-01 3.12621995e-02 7.66430707e-01 8.83045202e-01\n",
      "  2.01982447e-01]\n",
      " [6.24264481e-01 3.75962128e-01 2.22692686e-01 4.63867594e-01\n",
      "  6.72411450e-01]\n",
      " [2.21092278e-01 4.76536601e-01 3.03961017e-01 1.87441590e-01\n",
      "  6.99943885e-01]\n",
      " [6.22654184e-02 8.89171142e-01 7.46102652e-01 5.47623769e-01\n",
      "  9.61792589e-01]\n",
      " [3.01620638e-01 5.78537505e-01 1.91154190e-01 1.54995867e-01\n",
      "  1.81091513e-01]\n",
      " [6.58262802e-01 1.45560752e-01 7.37071993e-01 7.19394410e-01\n",
      "  6.05100784e-01]\n",
      " [6.69783518e-01 2.09802239e-01 3.61126125e-01 4.70829823e-01\n",
      "  1.60406364e-01]\n",
      " [7.69482189e-01 8.89771915e-02 2.93885592e-01 7.23224821e-01\n",
      "  5.74513502e-01]\n",
      " [1.33339970e-02 7.71010872e-01 6.44002521e-01 8.40060739e-02\n",
      "  3.44155509e-01]\n",
      " [9.26117185e-01 8.25995050e-01 4.82995789e-01 1.67754197e-01\n",
      "  1.47666950e-01]\n",
      " [9.22972127e-01 4.50586485e-01 8.70847622e-01 3.15912124e-01\n",
      "  7.63954006e-01]\n",
      " [2.80358359e-01 9.63354582e-01 6.22005190e-01 2.91384285e-01\n",
      "  4.98150322e-01]\n",
      " [9.76136528e-01 1.72138942e-01 3.10706899e-01 9.70942126e-01\n",
      "  4.73734998e-01]\n",
      " [7.08287387e-01 6.50613306e-01 3.05839482e-01 6.92567695e-01\n",
      "  2.03119375e-01]\n",
      " [1.18301861e-01 7.11529781e-01 5.72141147e-01 8.36706371e-01\n",
      "  6.26254851e-01]\n",
      " [8.97007843e-01 3.19944923e-01 2.49961248e-01 2.02093607e-01\n",
      "  3.97286201e-01]\n",
      " [5.39268869e-01 7.40644346e-01 9.05384525e-02 6.77365186e-01\n",
      "  9.05635907e-01]\n",
      " [9.15199896e-02 3.16886338e-01 3.25750259e-01 9.74245097e-01\n",
      "  8.24409092e-01]]\n"
     ]
    }
   ],
   "source": [
    "# Extract features and target variable\n",
    "X = dataset[:, :-1]  # Features (all columns except the last one)\n",
    "y = dataset[:, -1]   # Target variable (last column)\n",
    "\n",
    "# Reshape features for compatibility with machine learning algorithms\n",
    "X_reshaped = X.reshape(len(X), -1)\n",
    "print(\"Reshaped Features:\")\n",
    "print(X_reshaped)"
   ]
  },
  {
   "cell_type": "markdown",
   "id": "faddb446",
   "metadata": {},
   "source": [
    "In NumPy, the `reshape()` function is used to change the shape of an array without changing its data. Reshaping an array means modifying its dimensions, such as converting a 1D array into a 2D array, or vice versa, or changing the number of rows and columns in a 2D array.\n",
    "\n",
    "Here's the syntax of the `reshape()` function:\n",
    "\n",
    "```python\n",
    "numpy.reshape(array, newshape, order='C')\n",
    "```\n",
    "\n",
    "- `array`: The input array that you want to reshape.\n",
    "- `newshape`: The new shape that you want to give to the array. This can be specified as a tuple of integers or a single integer. If you specify a single integer, it represents the new shape as a tuple with that integer as the only element.\n",
    "- `order`: Optional. Specifies the order in which the elements of the array should be read. By default, it's 'C', which means to read the elements in row-major order (the last index changes fastest). Alternatively, you can use 'F' for column-major order (the first index changes fastest).\n",
    "\n",
    "For example, if you have a 1D array with 12 elements and you want to reshape it into a 3x4 2D array, you would use:"
   ]
  },
  {
   "cell_type": "code",
   "execution_count": 62,
   "id": "15040df4",
   "metadata": {},
   "outputs": [
    {
     "name": "stdout",
     "output_type": "stream",
     "text": [
      "[[ 0  1  2  3]\n",
      " [ 4  5  6  7]\n",
      " [ 8  9 10 11]]\n"
     ]
    }
   ],
   "source": [
    "import numpy as np\n",
    "\n",
    "arr = np.arange(12)  # Create a 1D array with 12 elements\n",
    "reshaped_arr = np.reshape(arr, (3, 4))  # Reshape the array into a 3x4 2D array\n",
    "print(reshaped_arr)"
   ]
  },
  {
   "cell_type": "markdown",
   "id": "c841e974",
   "metadata": {},
   "source": [
    "In this example, the 1D array `[0, 1, 2, 3, 4, 5, 6, 7, 8, 9, 10, 11]` is reshaped into a 3x4 2D array. The elements are arranged row-wise in the new shape."
   ]
  },
  {
   "cell_type": "markdown",
   "id": "500b46c1",
   "metadata": {},
   "source": [
    "#### Lab 1: Concatenating and Splitting Arrays\n",
    "Practice concatenating and splitting arrays using NumPy functions."
   ]
  },
  {
   "cell_type": "code",
   "execution_count": 63,
   "id": "abaaaa18",
   "metadata": {},
   "outputs": [
    {
     "name": "stdout",
     "output_type": "stream",
     "text": [
      "Vertical Concatenation:\n",
      "[[ 1  2  3]\n",
      " [ 4  5  6]\n",
      " [ 7  8  9]\n",
      " [10 11 12]]\n",
      "\n",
      "Horizontal Concatenation:\n",
      "[[ 1  2  3  7  8  9]\n",
      " [ 4  5  6 10 11 12]]\n",
      "\n",
      "Split Arrays:\n",
      "[[1 2 3]\n",
      " [4 5 6]]\n",
      "[[ 7  8  9]\n",
      " [10 11 12]]\n"
     ]
    }
   ],
   "source": [
    "import numpy as np\n",
    "\n",
    "# Create arrays\n",
    "arr1 = np.array([[1, 2, 3],\n",
    "                 [4, 5, 6]])\n",
    "arr2 = np.array([[7, 8, 9],\n",
    "                 [10, 11, 12]])\n",
    "\n",
    "# Concatenate arrays vertically\n",
    "vertical_concatenation = np.concatenate((arr1, arr2), axis=0)\n",
    "print(\"Vertical Concatenation:\")\n",
    "print(vertical_concatenation)\n",
    "\n",
    "# Concatenate arrays horizontally\n",
    "horizontal_concatenation = np.concatenate((arr1, arr2), axis=1)\n",
    "print(\"\\nHorizontal Concatenation:\")\n",
    "print(horizontal_concatenation)\n",
    "\n",
    "# Split arrays vertically\n",
    "split_arrays = np.split(vertical_concatenation, 2, axis=0)\n",
    "print(\"\\nSplit Arrays:\")\n",
    "for arr in split_arrays:\n",
    "    print(arr)\n"
   ]
  },
  {
   "cell_type": "markdown",
   "id": "76c9cdbb",
   "metadata": {},
   "source": [
    "#### Lab 2: Vertical and Horizontal Stacking\n",
    "Experiment with vertical and horizontal stacking of arrays."
   ]
  },
  {
   "cell_type": "code",
   "execution_count": 64,
   "id": "d3b8934c",
   "metadata": {},
   "outputs": [
    {
     "name": "stdout",
     "output_type": "stream",
     "text": [
      "Vertically Stacked Array:\n",
      "[[ 1  2  3]\n",
      " [ 4  5  6]\n",
      " [ 7  8  9]\n",
      " [10 11 12]]\n",
      "\n",
      "Horizontally Stacked Array:\n",
      "[[ 1  2  3  7  8  9]\n",
      " [ 4  5  6 10 11 12]]\n"
     ]
    }
   ],
   "source": [
    "import numpy as np\n",
    "\n",
    "# Create arrays\n",
    "arr1 = np.array([[1, 2, 3],\n",
    "                 [4, 5, 6]])\n",
    "arr2 = np.array([[7, 8, 9],\n",
    "                 [10, 11, 12]])\n",
    "\n",
    "# Vertically stack arrays\n",
    "vertical_stack = np.vstack((arr1, arr2))\n",
    "print(\"Vertically Stacked Array:\")\n",
    "print(vertical_stack)\n",
    "\n",
    "# Horizontally stack arrays\n",
    "horizontal_stack = np.hstack((arr1, arr2))\n",
    "print(\"\\nHorizontally Stacked Array:\")\n",
    "print(horizontal_stack)\n"
   ]
  },
  {
   "cell_type": "markdown",
   "id": "da08c583",
   "metadata": {},
   "source": [
    "#### Lab 3: Splitting Arrays into Multiple Smaller Arrays\n",
    "Practice splitting arrays into multiple smaller arrays."
   ]
  },
  {
   "cell_type": "code",
   "execution_count": 65,
   "id": "47faf007",
   "metadata": {},
   "outputs": [
    {
     "name": "stdout",
     "output_type": "stream",
     "text": [
      "Split Arrays:\n",
      "[[1 2 3 4]]\n",
      "[[5 6 7 8]]\n",
      "[[ 9 10 11 12]]\n"
     ]
    }
   ],
   "source": [
    "import numpy as np\n",
    "\n",
    "# Create an array\n",
    "arr = np.array([[1, 2, 3, 4],\n",
    "                [5, 6, 7, 8],\n",
    "                [9, 10, 11, 12]])\n",
    "\n",
    "# Split the array vertically into 3 smaller arrays\n",
    "split_arrays = np.vsplit(arr, 3)\n",
    "print(\"Split Arrays:\")\n",
    "for arr in split_arrays:\n",
    "    print(arr)\n"
   ]
  },
  {
   "cell_type": "markdown",
   "id": "0da913ed",
   "metadata": {},
   "source": [
    "#### Lab 4: Practical Examples of Array Stacking and Splitting in Data Preprocessing\n",
    "Apply array stacking and splitting techniques in data preprocessing tasks."
   ]
  },
  {
   "cell_type": "code",
   "execution_count": 66,
   "id": "fdda864c",
   "metadata": {},
   "outputs": [
    {
     "name": "stdout",
     "output_type": "stream",
     "text": [
      "Stacked Data:\n",
      "[[2.49378264e-02 5.05370919e-01 4.61684395e-01 1.61814970e-01\n",
      "  4.15452384e-01 7.87514334e-02]\n",
      " [4.92293464e-01 7.82714559e-01 5.37606309e-01 3.24350537e-02\n",
      "  8.79119432e-01 8.54542088e-01]\n",
      " [1.87923415e-01 1.85345643e-01 1.13919615e-01 1.25864100e-01\n",
      "  6.67356535e-01 8.72287288e-01]\n",
      " [6.67155797e-01 7.97347911e-02 6.03315127e-01 1.86850427e-01\n",
      "  2.68893898e-01 2.27553539e-01]\n",
      " [4.44366034e-01 1.62163507e-01 5.22589052e-01 4.74702839e-01\n",
      "  6.62851377e-01 1.52515584e-01]\n",
      " [9.90529831e-01 9.03847180e-01 2.57241585e-01 5.92745383e-01\n",
      "  4.22928667e-01 2.53323814e-02]\n",
      " [1.00628987e-01 1.39333272e-02 7.30318479e-01 6.62965349e-02\n",
      "  9.11580639e-01 4.92222011e-01]\n",
      " [4.40778301e-01 7.41550669e-01 9.23801853e-01 7.69026735e-01\n",
      "  3.79651516e-01 3.58722622e-01]\n",
      " [2.47175369e-01 6.11473820e-01 9.93101319e-02 5.90288554e-01\n",
      "  6.80339132e-01 9.52014868e-01]\n",
      " [7.71831821e-02 4.90881397e-01 2.93712141e-01 1.19247988e-01\n",
      "  1.22150293e-01 7.80576651e-01]\n",
      " [4.32754812e-01 2.14821173e-02 7.96223828e-01 4.14463783e-01\n",
      "  1.40441849e-01 3.56118948e-01]\n",
      " [4.96420260e-01 6.48411462e-02 4.06208966e-01 3.80989397e-01\n",
      "  9.63766263e-01 8.23681432e-01]\n",
      " [5.59900731e-01 3.36236845e-01 8.69350402e-01 6.61443165e-02\n",
      "  3.14768017e-01 9.57685667e-01]\n",
      " [9.15016500e-01 8.26943903e-01 6.15476983e-02 7.72520167e-02\n",
      "  1.03310517e-01 7.54733651e-01]\n",
      " [7.94623743e-01 6.42219627e-02 6.82775924e-03 4.15961436e-01\n",
      "  8.58398028e-01 3.88359659e-01]\n",
      " [8.82427357e-03 8.22976500e-01 8.61983171e-01 6.99181533e-01\n",
      "  9.18086277e-01 9.08180832e-01]\n",
      " [4.01339501e-01 2.48110505e-01 4.05853592e-01 8.85899664e-01\n",
      "  2.74408905e-01 4.95025170e-01]\n",
      " [7.48707384e-01 4.83794721e-01 8.09254937e-04 2.60773993e-01\n",
      "  7.54146062e-01 4.06988394e-03]\n",
      " [4.63330159e-01 9.79860865e-01 7.71168352e-01 7.71237494e-01\n",
      "  3.17597516e-02 4.87727886e-01]\n",
      " [2.35437956e-01 5.31570970e-01 9.64081327e-01 1.62129448e-01\n",
      "  5.73379942e-01 4.20088294e-01]\n",
      " [2.46717119e-01 3.95307601e-01 2.10358275e-01 7.99968334e-01\n",
      "  6.78874803e-01 9.04950765e-01]\n",
      " [9.48512942e-02 8.51563248e-01 8.18331159e-01 9.96139032e-01\n",
      "  7.79178367e-01 1.97860988e-01]\n",
      " [7.16920847e-01 8.15064736e-01 6.19622773e-01 8.39110906e-01\n",
      "  9.03987408e-02 3.80946468e-01]\n",
      " [2.80920379e-01 3.94292999e-01 3.81968453e-01 9.23085357e-01\n",
      "  2.80056918e-02 6.46878927e-01]\n",
      " [1.68681803e-02 3.67365180e-01 1.54685102e-01 9.40780353e-01\n",
      "  6.87138950e-01 3.81699183e-01]\n",
      " [3.10574254e-01 2.08734486e-01 7.45278436e-01 2.00428018e-01\n",
      "  2.22969931e-01 4.04578166e-01]\n",
      " [8.77245839e-01 8.53033730e-01 9.38346641e-01 5.30678218e-01\n",
      "  5.94882983e-01 6.86972108e-01]\n",
      " [4.32861934e-01 1.38559720e-01 5.11559749e-01 9.05349695e-01\n",
      "  1.02450969e-01 5.48040601e-01]\n",
      " [1.44350292e-01 2.83971309e-02 6.67533140e-04 3.31793778e-02\n",
      "  9.75362313e-01 4.18496970e-01]\n",
      " [2.81642991e-01 6.52788603e-01 7.17441725e-01 8.06775498e-01\n",
      "  1.02377459e-01 7.40532379e-02]\n",
      " [2.74610254e-01 6.06702086e-01 8.16400066e-01 4.54657960e-02\n",
      "  1.66979372e-01 4.03458822e-01]\n",
      " [1.29978008e-01 6.63706107e-01 1.11710996e-01 1.34696646e-01\n",
      "  2.91280720e-02 7.24224443e-02]\n",
      " [1.65816198e-01 6.51160049e-01 4.14181832e-01 4.35755506e-01\n",
      "  2.36223209e-01 6.27211244e-01]\n",
      " [9.53609669e-01 2.08946524e-01 7.35414992e-01 8.07411951e-01\n",
      "  8.71613082e-01 6.17625809e-01]\n",
      " [3.98089985e-01 9.19674169e-02 3.78648911e-01 9.04728036e-01\n",
      "  7.82392362e-01 5.74301641e-01]\n",
      " [4.93674014e-01 4.93599784e-02 9.84376391e-01 4.16604061e-01\n",
      "  2.94358614e-01 8.19920796e-01]\n",
      " [4.65251623e-01 6.19155433e-01 6.66725759e-01 5.25174276e-01\n",
      "  6.08717179e-01 1.03500582e-01]\n",
      " [9.63194180e-02 1.22339642e-01 1.29160342e-01 4.65727726e-01\n",
      "  4.54563824e-01 4.64947379e-01]\n",
      " [3.55466918e-02 6.41721096e-01 8.07582345e-01 8.07481980e-01\n",
      "  8.49247380e-01 5.98157744e-01]\n",
      " [7.82327982e-01 2.45170598e-01 1.42044591e-01 6.42936828e-01\n",
      "  7.80721994e-01 4.21762769e-01]\n",
      " [6.61614600e-02 7.42643768e-01 2.02195529e-01 8.70240530e-01\n",
      "  9.46462905e-01 5.69599332e-01]\n",
      " [1.72467858e-01 4.74444036e-01 2.88482025e-01 8.80789530e-01\n",
      "  8.80288333e-01 9.70383174e-01]\n",
      " [2.87886256e-01 5.79505388e-01 9.20186527e-01 6.74595692e-01\n",
      "  7.46103928e-01 7.42829440e-01]\n",
      " [4.55739230e-01 3.69355197e-01 9.38932202e-01 1.42089660e-01\n",
      "  1.57184571e-01 3.82857458e-01]\n",
      " [8.02198237e-01 6.54117278e-01 1.17164675e-01 3.38434342e-01\n",
      "  3.83833435e-01 2.11807016e-01]\n",
      " [4.45414031e-01 3.81631369e-02 8.47879294e-01 2.55189864e-01\n",
      "  5.34056922e-01 5.10387640e-01]\n",
      " [3.45772827e-01 1.44118357e-02 5.85617130e-01 8.26409165e-01\n",
      "  7.17182218e-01 2.30795270e-01]\n",
      " [2.51256234e-01 5.61704606e-01 1.36402650e-01 3.19891627e-01\n",
      "  2.01025137e-01 6.99067009e-01]\n",
      " [1.36392381e-02 1.95048372e-01 9.02209444e-01 9.73710942e-02\n",
      "  4.53803597e-01 8.94218549e-01]\n",
      " [1.93578805e-01 8.29404031e-01 4.35164812e-02 1.22343453e-02\n",
      "  7.36936007e-03 6.60753476e-01]\n",
      " [4.96307445e-01 9.39541412e-01 1.73235232e-01 2.60579931e-01\n",
      "  3.08019009e-01 3.63988778e-01]\n",
      " [3.04762333e-01 6.57190509e-01 4.29081694e-01 1.05790623e-01\n",
      "  5.41718258e-02 2.05873291e-01]\n",
      " [8.13108568e-01 3.09765443e-01 7.04138393e-01 6.19985918e-01\n",
      "  7.36461247e-01 3.85573435e-01]\n",
      " [7.29932962e-01 8.69668028e-01 1.10829320e-01 6.13148821e-01\n",
      "  4.59033096e-01 3.59921028e-01]\n",
      " [2.78766898e-01 1.27741305e-01 4.10521621e-01 7.07617960e-01\n",
      "  7.00783570e-01 9.28860918e-01]\n",
      " [9.50664038e-01 1.38629094e-01 8.18433362e-01 3.04533328e-01\n",
      "  8.96425860e-02 6.39119865e-01]\n",
      " [9.07408392e-01 9.39017258e-01 3.12591007e-01 9.26589489e-01\n",
      "  1.77475757e-01 5.92408570e-01]\n",
      " [2.91302263e-01 9.37721345e-01 2.86049782e-02 9.92958342e-01\n",
      "  1.49701021e-01 8.26400014e-01]\n",
      " [8.07244384e-01 7.59639285e-01 6.72040555e-01 8.13282422e-01\n",
      "  2.32873824e-01 4.32156194e-01]\n",
      " [7.42383031e-01 4.27565595e-01 6.44699695e-01 5.37760909e-01\n",
      "  2.28446974e-01 5.44055958e-01]\n",
      " [5.51652577e-01 6.02389762e-01 9.36782146e-01 7.59549433e-01\n",
      "  7.15196937e-01 9.08256385e-01]\n",
      " [1.46688867e-01 5.42443028e-01 7.18929894e-01 2.30109152e-01\n",
      "  7.03129335e-03 9.73553380e-01]\n",
      " [2.41284374e-02 3.62826244e-01 3.42531116e-01 5.67361400e-01\n",
      "  1.90357087e-01 2.38655109e-01]\n",
      " [7.72576119e-01 5.49625149e-02 1.66493324e-01 3.28372159e-01\n",
      "  3.75231660e-01 7.98527142e-01]\n",
      " [3.22673203e-01 7.58412553e-01 9.26917118e-01 1.61875736e-01\n",
      "  3.50733286e-01 2.29731384e-01]\n",
      " [8.02973793e-02 1.23869387e-01 1.01672027e-01 6.46926124e-01\n",
      "  5.45945607e-01 3.92933985e-01]\n",
      " [1.08668119e-02 5.11399158e-01 8.76524600e-01 5.78078452e-01\n",
      "  3.76026066e-01 7.34946754e-01]\n",
      " [6.78943673e-01 1.68179605e-01 2.74387050e-01 7.69475832e-01\n",
      "  2.90389179e-01 2.84963757e-01]\n",
      " [8.91626202e-02 4.17663615e-01 8.79476017e-01 6.52002819e-01\n",
      "  3.75897426e-01 3.04926332e-01]\n",
      " [1.81790558e-01 6.59226654e-01 3.64207098e-01 8.03448409e-01\n",
      "  2.15651068e-01 9.78235322e-01]\n",
      " [1.09306229e-01 6.26645734e-01 4.47250460e-01 8.04139259e-01\n",
      "  8.33998527e-01 3.93041494e-01]\n",
      " [7.79949480e-01 4.05810919e-01 7.87850723e-01 3.81779828e-01\n",
      "  6.53248073e-01 8.87602484e-01]\n",
      " [8.86753049e-01 4.16413399e-01 6.46556733e-01 3.06983380e-01\n",
      "  2.61290258e-01 3.79682636e-01]\n",
      " [6.45440919e-01 9.70602102e-01 7.42489674e-01 7.74896014e-01\n",
      "  4.97247599e-01 1.15189715e-01]\n",
      " [4.15054128e-01 8.83008046e-01 7.88921371e-01 4.37776322e-01\n",
      "  4.16806228e-01 8.10145210e-01]\n",
      " [9.02889534e-02 4.97185913e-01 5.48221007e-01 7.37453135e-01\n",
      "  1.40862281e-01 7.39460394e-01]\n",
      " [5.98317547e-01 5.41537161e-01 7.68396186e-01 4.84250697e-01\n",
      "  7.10612062e-02 9.78424766e-01]\n",
      " [1.57727704e-02 1.11206111e-01 1.22540375e-02 5.36623258e-01\n",
      "  7.16624768e-01 7.47617112e-01]\n",
      " [5.27642099e-01 7.89790451e-01 2.16915414e-01 2.25747881e-01\n",
      "  1.67549306e-01 5.28184257e-01]\n",
      " [8.53241272e-02 9.33142707e-01 7.14128726e-01 9.75940048e-01\n",
      "  8.49661741e-01 5.52834967e-01]\n",
      " [8.92517544e-01 4.14366820e-01 4.52698935e-01 4.10037790e-01\n",
      "  5.17481911e-01 9.15388315e-01]\n",
      " [5.84901599e-02 3.76614310e-01 9.27378489e-01 3.79100991e-01\n",
      "  2.68252396e-01 4.18734739e-01]\n",
      " [9.30896702e-01 3.12621995e-02 7.66430707e-01 8.83045202e-01\n",
      "  2.01982447e-01 9.94729763e-01]\n",
      " [6.24264481e-01 3.75962128e-01 2.22692686e-01 4.63867594e-01\n",
      "  6.72411450e-01 6.04851081e-01]\n",
      " [2.21092278e-01 4.76536601e-01 3.03961017e-01 1.87441590e-01\n",
      "  6.99943885e-01 5.86043479e-02]\n",
      " [6.22654184e-02 8.89171142e-01 7.46102652e-01 5.47623769e-01\n",
      "  9.61792589e-01 1.83009262e-01]\n",
      " [3.01620638e-01 5.78537505e-01 1.91154190e-01 1.54995867e-01\n",
      "  1.81091513e-01 8.58224013e-01]\n",
      " [6.58262802e-01 1.45560752e-01 7.37071993e-01 7.19394410e-01\n",
      "  6.05100784e-01 7.26293232e-01]\n",
      " [6.69783518e-01 2.09802239e-01 3.61126125e-01 4.70829823e-01\n",
      "  1.60406364e-01 2.81734088e-01]\n",
      " [7.69482189e-01 8.89771915e-02 2.93885592e-01 7.23224821e-01\n",
      "  5.74513502e-01 2.24095979e-01]\n",
      " [1.33339970e-02 7.71010872e-01 6.44002521e-01 8.40060739e-02\n",
      "  3.44155509e-01 5.80910356e-01]\n",
      " [9.26117185e-01 8.25995050e-01 4.82995789e-01 1.67754197e-01\n",
      "  1.47666950e-01 6.48568617e-01]\n",
      " [9.22972127e-01 4.50586485e-01 8.70847622e-01 3.15912124e-01\n",
      "  7.63954006e-01 1.73195684e-01]\n",
      " [2.80358359e-01 9.63354582e-01 6.22005190e-01 2.91384285e-01\n",
      "  4.98150322e-01 3.52596394e-01]\n",
      " [9.76136528e-01 1.72138942e-01 3.10706899e-01 9.70942126e-01\n",
      "  4.73734998e-01 8.48227309e-01]\n",
      " [7.08287387e-01 6.50613306e-01 3.05839482e-01 6.92567695e-01\n",
      "  2.03119375e-01 8.04512040e-01]\n",
      " [1.18301861e-01 7.11529781e-01 5.72141147e-01 8.36706371e-01\n",
      "  6.26254851e-01 5.17274399e-02]\n",
      " [8.97007843e-01 3.19944923e-01 2.49961248e-01 2.02093607e-01\n",
      "  3.97286201e-01 8.85018836e-01]\n",
      " [5.39268869e-01 7.40644346e-01 9.05384525e-02 6.77365186e-01\n",
      "  9.05635907e-01 6.10979430e-01]\n",
      " [9.15199896e-02 3.16886338e-01 3.25750259e-01 9.74245097e-01\n",
      "  8.24409092e-01 9.02152333e-02]]\n"
     ]
    }
   ],
   "source": [
    "import numpy as np\n",
    "\n",
    "# Load dataset\n",
    "dataset = np.loadtxt('dataset.csv', delimiter=',', skiprows=1)\n",
    "\n",
    "# Split features and target variable\n",
    "X = dataset[:, :-1]  # Features (all columns except the last one)\n",
    "y = dataset[:, -1]   # Target variable (last column)\n",
    "\n",
    "# Vertically stack features and target variable\n",
    "stacked_data = np.vstack((X.T, y)).T\n",
    "print(\"Stacked Data:\")\n",
    "print(stacked_data)\n",
    "\n",
    "# Split features and target variable after preprocessing\n",
    "X_train, X_test = np.split(X, [int(0.8 * len(X))])  # Split features into training and testing sets\n",
    "y_train, y_test = np.split(y, [int(0.8 * len(y))])  # Split target variable into training and testing sets\n"
   ]
  },
  {
   "cell_type": "markdown",
   "id": "6f9949c8",
   "metadata": {},
   "source": [
    "In Lab 4, we focus on practical examples of array stacking and splitting in data preprocessing tasks using NumPy. Here's a breakdown of the lab:\n",
    "\n",
    "### Lab 4: Practical Examples of Array Stacking and Splitting in Data Preprocessing\n",
    "\n",
    "#### Objective:\n",
    "Apply array stacking and splitting techniques to preprocess a dataset for machine learning tasks.\n",
    "\n",
    "#### Steps:\n",
    "\n",
    "1. **Load Dataset:**\n",
    "   - Load the dataset from a CSV file using `np.loadtxt()`. The dataset contains features and a target variable.\n",
    "\n",
    "2. **Split Features and Target Variable:**\n",
    "   - Split the dataset into features (X) and the target variable (y) using array slicing. The features are represented by all columns except the last one, while the target variable is represented by the last column.\n",
    "\n",
    "3. **Vertically Stack Features and Target Variable:**\n",
    "   - Vertically stack the features and the target variable using `np.vstack()`. This creates a new array where each row represents a data point, with the features and the target variable combined.\n",
    "\n",
    "4. **Split Features and Target Variable After Preprocessing:**\n",
    "   - Split the features and the target variable into training and testing sets using `np.split()`. This is a common step in machine learning workflows, where the dataset is split into separate sets for training and evaluation. In this example, we split the data such that 80% of the data is used"
   ]
  },
  {
   "cell_type": "code",
   "execution_count": null,
   "id": "c1b44820",
   "metadata": {},
   "outputs": [],
   "source": []
  }
 ],
 "metadata": {
  "kernelspec": {
   "display_name": "Python 3 (ipykernel)",
   "language": "python",
   "name": "python3"
  },
  "language_info": {
   "codemirror_mode": {
    "name": "ipython",
    "version": 3
   },
   "file_extension": ".py",
   "mimetype": "text/x-python",
   "name": "python",
   "nbconvert_exporter": "python",
   "pygments_lexer": "ipython3",
   "version": "3.11.5"
  }
 },
 "nbformat": 4,
 "nbformat_minor": 5
}
