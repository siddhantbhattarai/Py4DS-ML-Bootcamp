{
 "cells": [
  {
   "cell_type": "markdown",
   "metadata": {},
   "source": [
    "Consider a scenario where we have two sets of numbers and want to perform some operations on them. For instance, say we want to add, subtract, multiply, and divide corresponding numbers in these sets and also find some basic attributes about these sets. Wanna see how we can do all of that with Numpy?"
   ]
  },
  {
   "cell_type": "code",
   "execution_count": 2,
   "metadata": {},
   "outputs": [],
   "source": [
    "import numpy as np\n",
    "\n",
    "# Create a 1D Numpy array\n",
    "np_array1 = np.array([1, 2, 3])\n",
    "\n",
    "# Create another 1D Numpy array\n",
    "np_array2 = np.array([4, 5, 6])"
   ]
  },
  {
   "cell_type": "code",
   "execution_count": 3,
   "metadata": {},
   "outputs": [
    {
     "name": "stdout",
     "output_type": "stream",
     "text": [
      "Array 1 - Shape:  (3,)  Size:  3  Data Type:  int64\n",
      "Array 2 - Shape:  (3,)  Size:  3  Data Type:  int64\n"
     ]
    }
   ],
   "source": [
    "# Print their attributes\n",
    "print(\"Array 1 - Shape: \", np_array1.shape, \" Size: \", np_array1.size, \" Data Type: \", np_array1.dtype)\n",
    "print(\"Array 2 - Shape: \", np_array2.shape, \" Size: \", np_array2.size, \" Data Type: \", np_array2.dtype)"
   ]
  },
  {
   "cell_type": "code",
   "execution_count": 4,
   "metadata": {},
   "outputs": [
    {
     "name": "stdout",
     "output_type": "stream",
     "text": [
      "Addition:  [5 7 9]\n",
      "Subtraction:  [-3 -3 -3]\n",
      "Multiplication:  [ 4 10 18]\n",
      "Division:  [0.25 0.4  0.5 ]\n"
     ]
    }
   ],
   "source": [
    "# Perform arithmetic operations\n",
    "print(\"Addition: \", np_array1 + np_array2)\n",
    "print(\"Subtraction: \", np_array1 - np_array2)\n",
    "print(\"Multiplication: \", np_array1 * np_array2)\n",
    "print(\"Division: \", np_array1 / np_array2)"
   ]
  },
  {
   "cell_type": "code",
   "execution_count": 5,
   "metadata": {},
   "outputs": [
    {
     "name": "stdout",
     "output_type": "stream",
     "text": [
      "Reshaped Array 1:\n",
      " [[1]\n",
      " [2]\n",
      " [3]]\n"
     ]
    }
   ],
   "source": [
    "# Reshape np_array1 and print the reshaped array\n",
    "np_array1_reshaped = np_array1.reshape(3, 1)\n",
    "print(\"Reshaped Array 1:\\n\", np_array1_reshaped)"
   ]
  },
  {
   "cell_type": "markdown",
   "metadata": {},
   "source": [
    "Instead of division, let's try to understand how element-wise multiplication works in numpy arrays. Can you change the current code to perform multiplication instead of division? Let's see how this impacts our results."
   ]
  },
  {
   "cell_type": "code",
   "execution_count": 7,
   "metadata": {},
   "outputs": [
    {
     "name": "stdout",
     "output_type": "stream",
     "text": [
      "Resulted Array: [ 20  60 150]\n"
     ]
    }
   ],
   "source": [
    "import numpy as np\n",
    "\n",
    "# create a 1D numpy array\n",
    "np_array1 = np.array([10, 20, 30])\n",
    "\n",
    "# create another 1D numpy array\n",
    "np_array2 = np.array([2, 3, 5])\n",
    "\n",
    "# perform division operation on numpy arrays\n",
    "result_array = np_array1 * np_array2\n",
    "\n",
    "# print the resulting array\n",
    "print(\"Resulted Array:\", result_array)"
   ]
  },
  {
   "cell_type": "markdown",
   "metadata": {},
   "source": [
    "Suppose you are dealing with an array and want to discover some of its details, perform operations on it, and access elements inside it. However, an issue in the code below seems to be preventing it from running correctly.\n",
    "\n",
    "Can you spot the bug and fix it to reveal a slice of the array from index 1 to 3, excluding the end index? Good luck!"
   ]
  },
  {
   "cell_type": "code",
   "execution_count": 8,
   "metadata": {},
   "outputs": [
    {
     "name": "stdout",
     "output_type": "stream",
     "text": [
      "Element at index 2: 8\n",
      "Slice of the array from index 1 to 3: [2 8 1]\n",
      "Multiplied array result: [45 10 40  5 35]\n"
     ]
    }
   ],
   "source": [
    "# Import the necessary libraries\n",
    "import numpy as np\n",
    "\n",
    "# Create a 1D Numpy array\n",
    "np_array = np.array([9, 2, 8, 1, 7])\n",
    "\n",
    "# Access the element at index 2\n",
    "print(\"Element at index 2:\", np_array[2])\n",
    "\n",
    "# Slice the array from index 1 to 3\n",
    "slice_array = np_array[1:4]\n",
    "print(\"Slice of the array from index 1 to 3:\", slice_array)\n",
    "\n",
    "# Perform multiplication operation on the array by 5\n",
    "multiplied_array = np_array * 5\n",
    "print(\"Multiplied array result:\", multiplied_array)"
   ]
  },
  {
   "cell_type": "markdown",
   "metadata": {},
   "source": [
    "Hands-on practice is crucial for solidifying your understanding of Numpy arrays and building practical skills in data science and machine learning. Here are some specific hands-on exercises and projects you can try:\n",
    "\n",
    "1. **Numpy Array Manipulation Exercises**:\n",
    "   - Create Numpy arrays from different types of data structures such as lists, tuples, and nested lists.\n",
    "   - Experiment with array indexing and slicing to extract specific elements or subsets of arrays.\n",
    "   - Try reshaping arrays into different dimensions and explore how it affects the data.\n",
    "\n",
    "2. **Data Manipulation and Analysis**:\n",
    "   - Use Numpy arrays along with Pandas to load and manipulate datasets. Practice tasks like data cleaning, filtering, and transformation.\n",
    "   - Perform basic statistical analysis on datasets using Numpy functions. Calculate measures like mean, median, standard deviation, etc.\n",
    "   - Visualize data using libraries like Matplotlib or Seaborn. Create plots and charts to explore the relationships between variables in the dataset.\n",
    "\n",
    "3. **Implement Algorithms**:\n",
    "   - Implement simple algorithms using Numpy arrays. For example, implement gradient descent for linear regression using Numpy arrays for computation.\n",
    "   - Experiment with clustering algorithms like K-means clustering using Numpy arrays to represent data points and centroids.\n",
    "\n",
    "4. **Machine Learning Projects**:\n",
    "   - Start with small machine learning projects such as binary classification or regression tasks. Use Numpy arrays to represent features and labels.\n",
    "   - Explore different machine learning models (e.g., linear regression, logistic regression, decision trees) and implement them from scratch using Numpy arrays.\n",
    "   - Participate in Kaggle competitions or find open-source datasets to work on. Use Numpy arrays to preprocess data, train models, and make predictions.\n",
    "\n",
    "5. **Advanced Topics**:\n",
    "   - Dive into advanced topics such as neural networks and deep learning. Use libraries like TensorFlow or PyTorch for building and training models, but rely on Numpy arrays for data preprocessing and manipulation.\n",
    "   - Experiment with image processing and computer vision tasks using Numpy arrays to represent images and perform operations like convolution and pooling.\n",
    "\n",
    "6. **Collaborative Projects**:\n",
    "   - Join online communities or forums focused on data science and machine learning. Collaborate with others on projects or participate in code review sessions to learn from peers.\n",
    "   - Contribute to open-source projects related to data science or machine learning. Working on real-world projects with experienced developers will provide valuable hands-on experience.\n",
    "\n",
    "Remember to document your progress, challenges faced, and solutions found along the way. Regularly review and reflect on your work to identify areas for improvement and further exploration. Happy coding!"
   ]
  },
  {
   "cell_type": "code",
   "execution_count": 12,
   "metadata": {},
   "outputs": [
    {
     "name": "stdout",
     "output_type": "stream",
     "text": [
      "Numpy array from list: [1 2 3 4 5]\n",
      "Numpy array from tuple: [ 6  7  8  9 10]\n",
      "Numpy array from nested list:\n",
      " [[1 2 3]\n",
      " [4 5 6]\n",
      " [7 8 9]]\n",
      "Indexed value: 2\n",
      "Sliced row: [4 5 6]\n",
      "Sliced column: [3 6 9]\n",
      "Reshaped array to 3x3 matrix:\n",
      " [[1 2 3]\n",
      " [4 5 6]\n",
      " [7 8 9]]\n",
      "Flattened array: [1 2 3 4 5 6 7 8 9]\n"
     ]
    }
   ],
   "source": [
    "# Python code demonstrating Numpy array manipulation exercises:\n",
    "import numpy as np\n",
    "\n",
    "# Create Numpy arrays from different data structures\n",
    "# From a list\n",
    "list_data = [1, 2, 3, 4, 5]\n",
    "numpy_array_from_list = np.array(list_data)\n",
    "print(\"Numpy array from list:\", numpy_array_from_list)\n",
    "\n",
    "# From a tuple\n",
    "tuple_data = (6, 7, 8, 9, 10)\n",
    "numpy_array_from_tuple = np.array(tuple_data)\n",
    "print(\"Numpy array from tuple:\", numpy_array_from_tuple)\n",
    "\n",
    "# From a nested list\n",
    "nested_list_data = [[1, 2, 3], [4, 5, 6], [7, 8, 9]]\n",
    "numpy_array_from_nested_list = np.array(nested_list_data)\n",
    "print(\"Numpy array from nested list:\\n\", numpy_array_from_nested_list)\n",
    "\n",
    "# Experiment with array indexing and slicing\n",
    "# Indexing\n",
    "print(\"Indexed value:\", numpy_array_from_nested_list[0, 1])  # Access element at row 0, column 1\n",
    "\n",
    "# Slicing\n",
    "print(\"Sliced row:\", numpy_array_from_nested_list[1, :])  # Access all elements of row 1\n",
    "print(\"Sliced column:\", numpy_array_from_nested_list[:, 2])  # Access all elements of column 2\n",
    "\n",
    "# Reshaping arrays\n",
    "# Reshape to 3x3 matrix\n",
    "reshaped_array = numpy_array_from_nested_list.reshape(3, 3)\n",
    "print(\"Reshaped array to 3x3 matrix:\\n\", reshaped_array)\n",
    "\n",
    "# Reshape to 1D array\n",
    "flattened_array = numpy_array_from_nested_list.flatten()\n",
    "print(\"Flattened array:\", flattened_array)\n",
    "\n"
   ]
  },
  {
   "cell_type": "code",
   "execution_count": 14,
   "metadata": {},
   "outputs": [
    {
     "name": "stdout",
     "output_type": "stream",
     "text": [
      "First few rows of the Titanic dataset:\n",
      "   PassengerId  Survived  Pclass  \\\n",
      "0            1         0       3   \n",
      "1            2         1       1   \n",
      "2            3         1       3   \n",
      "3            4         1       1   \n",
      "4            5         0       3   \n",
      "\n",
      "                                                Name     Sex   Age  SibSp  \\\n",
      "0                            Braund, Mr. Owen Harris    male  22.0      1   \n",
      "1  Cumings, Mrs. John Bradley (Florence Briggs Th...  female  38.0      1   \n",
      "2                             Heikkinen, Miss. Laina  female  26.0      0   \n",
      "3       Futrelle, Mrs. Jacques Heath (Lily May Peel)  female  35.0      1   \n",
      "4                           Allen, Mr. William Henry    male  35.0      0   \n",
      "\n",
      "   Parch            Ticket     Fare Cabin Embarked  \n",
      "0      0         A/5 21171   7.2500   NaN        S  \n",
      "1      0          PC 17599  71.2833   C85        C  \n",
      "2      0  STON/O2. 3101282   7.9250   NaN        S  \n",
      "3      0            113803  53.1000  C123        S  \n",
      "4      0            373450   8.0500   NaN        S  \n",
      "\n",
      "Mean age of passengers: 29.69911764705882\n",
      "Median age of passengers: 28.0\n"
     ]
    },
    {
     "data": {
      "image/png": "[encoded data removed]",
      "text/plain": [
       "<Figure size 640x480 with 1 Axes>"
      ]
     },
     "metadata": {},
     "output_type": "display_data"
    },
    {
     "data": {
      "image/png": "[encoded data removed]",
      "text/plain": [
       "<Figure size 640x480 with 1 Axes>"
      ]
     },
     "metadata": {},
     "output_type": "display_data"
    }
   ],
   "source": [
    "# Below is an example code that demonstrates data manipulation, basic statistical analysis, and data visualization using Numpy, Pandas, and Matplotlib:\n",
    "import numpy as np\n",
    "import pandas as pd\n",
    "import matplotlib.pyplot as plt\n",
    "\n",
    "# Load dataset using Pandas\n",
    "url = 'https://raw.githubusercontent.com/datasciencedojo/datasets/master/titanic.csv'\n",
    "titanic_data = pd.read_csv(url)\n",
    "\n",
    "# Display the first few rows of the dataset\n",
    "print(\"First few rows of the Titanic dataset:\")\n",
    "print(titanic_data.head())\n",
    "\n",
    "# Data Cleaning and Filtering\n",
    "# Drop rows with missing values in the 'Age' column\n",
    "cleaned_data = titanic_data.dropna(subset=['Age'])\n",
    "\n",
    "# Filter passengers who are under 18 years old\n",
    "child_passengers = cleaned_data[cleaned_data['Age'] < 18]\n",
    "\n",
    "# Basic Statistical Analysis using Numpy\n",
    "# Calculate mean and median age of passengers\n",
    "mean_age = np.mean(cleaned_data['Age'])\n",
    "median_age = np.median(cleaned_data['Age'])\n",
    "\n",
    "print(\"\\nMean age of passengers:\", mean_age)\n",
    "print(\"Median age of passengers:\", median_age)\n",
    "\n",
    "# Visualize data using Matplotlib\n",
    "# Create a histogram of passenger ages\n",
    "plt.hist(cleaned_data['Age'], bins=20, color='skyblue', edgecolor='black')\n",
    "plt.title('Age Distribution of Passengers')\n",
    "plt.xlabel('Age')\n",
    "plt.ylabel('Frequency')\n",
    "plt.show()\n",
    "\n",
    "# Create a bar chart of passenger class distribution\n",
    "class_distribution = cleaned_data['Pclass'].value_counts()\n",
    "class_distribution.plot(kind='bar', color='lightgreen')\n",
    "plt.title('Passenger Class Distribution')\n",
    "plt.xlabel('Class')\n",
    "plt.ylabel('Number of Passengers')\n",
    "plt.show()\n"
   ]
  },
  {
   "cell_type": "markdown",
   "metadata": {},
   "source": [
    "##### This code accomplishes the following:\n",
    "\n",
    "- Loads the Titanic dataset using Pandas.\n",
    "- Performs data cleaning by removing rows with missing values in the 'Age' column.\n",
    "- Filters the dataset to include only passengers under 18 years old.\n",
    "- Calculates the mean and median age of passengers using Numpy.\n",
    "- Visualizes the age distribution of passengers using a histogram with Matplotlib.\n",
    "- Visualizes the passenger class distribution using a bar chart."
   ]
  },
  {
   "cell_type": "markdown",
   "metadata": {},
   "source": []
  },
  {
   "cell_type": "markdown",
   "metadata": {},
   "source": [
    "Let's start by implementing gradient descent for linear regression using Numpy arrays for computation:\n",
    "\n",
    "```python\n",
    "import numpy as np\n",
    "\n",
    "# Generate sample data\n",
    "np.random.seed(0)\n",
    "X = 2 * np.random.rand(100, 1)\n",
    "y = 4 + 3 * X + np.random.randn(100, 1)\n",
    "\n",
    "# Add bias term to input features\n",
    "X_b = np.c_[np.ones((100, 1)), X]\n",
    "\n",
    "# Gradient Descent function for linear regression\n",
    "def gradient_descent(X, y, learning_rate=0.01, n_iterations=1000):\n",
    "    theta = np.random.randn(2, 1)  # Random initialization of parameters\n",
    "    m = len(X)\n",
    "    \n",
    "    for iteration in range(n_iterations):\n",
    "        gradients = 2/m * X.T.dot(X.dot(theta) - y)\n",
    "        theta = theta - learning_rate * gradients\n",
    "    \n",
    "    return theta\n",
    "\n",
    "# Run gradient descent\n",
    "theta = gradient_descent(X_b, y)\n",
    "print(\"Intercept and Coefficients (theta) using Gradient Descent:\")\n",
    "print(theta)\n",
    "```\n",
    "\n",
    "In this code:\n",
    "\n",
    "- We generate sample data `X` and `y` for linear regression.\n",
    "- We add a bias term to the input features `X` to account for the intercept term.\n",
    "- We define a function `gradient_descent` that performs gradient descent to optimize the parameters (coefficients) of the linear regression model.\n",
    "- We call the `gradient_descent` function with our data and print the resulting parameters (`theta`), which represent the intercept and coefficients of the linear regression model.\n",
    "\n",
    "Now, let's implement K-means clustering using Numpy arrays to represent data points and centroids:\n",
    "\n",
    "```python\n",
    "import numpy as np\n",
    "\n",
    "# Generate sample data\n",
    "np.random.seed(0)\n",
    "X = np.random.randn(100, 2)\n",
    "\n",
    "# K-means clustering function\n",
    "def kmeans(X, k, n_iterations=100):\n",
    "    centroids = X[np.random.choice(X.shape[0], k, replace=False)]\n",
    "    \n",
    "    for _ in range(n_iterations):\n",
    "        # Assign each data point to the closest centroid\n",
    "        labels = np.argmin(np.linalg.norm(X[:, np.newaxis] - centroids, axis=2), axis=1)\n",
    "        \n",
    "        # Update centroids based on the mean of data points assigned to each cluster\n",
    "        centroids = np.array([X[labels == i].mean(axis=0) for i in range(k)])\n",
    "    \n",
    "    return centroids, labels\n",
    "\n",
    "# Run K-means clustering\n",
    "k = 3\n",
    "centroids, labels = kmeans(X, k)\n",
    "print(\"Final centroids:\")\n",
    "print(centroids)\n",
    "print(\"Labels of data points:\")\n",
    "print(labels)\n",
    "```\n",
    "\n",
    "In this code:\n",
    "\n",
    "- We generate sample data `X` for clustering.\n",
    "- We define a function `kmeans` that implements the K-means clustering algorithm.\n",
    "- Inside the `kmeans` function, we initialize centroids randomly and iteratively assign data points to the closest centroid and update centroids based on the mean of data points in each cluster.\n",
    "- We call the `kmeans` function with our data and print the final centroids and labels of data points.\n",
    "\n",
    "These implementations demonstrate how to use Numpy arrays to perform gradient descent for linear regression and K-means clustering."
   ]
  },
  {
   "cell_type": "code",
   "execution_count": 15,
   "metadata": {},
   "outputs": [
    {
     "name": "stdout",
     "output_type": "stream",
     "text": [
      "Intercept and Coefficients (theta) using Gradient Descent:\n",
      "[[4.20607718]\n",
      " [2.98273036]]\n"
     ]
    }
   ],
   "source": [
    "import numpy as np\n",
    "\n",
    "# Generate sample data\n",
    "np.random.seed(0)\n",
    "X = 2 * np.random.rand(100, 1)\n",
    "y = 4 + 3 * X + np.random.randn(100, 1)\n",
    "\n",
    "# Add bias term to input features\n",
    "X_b = np.c_[np.ones((100, 1)), X]\n",
    "\n",
    "# Gradient Descent function for linear regression\n",
    "def gradient_descent(X, y, learning_rate=0.01, n_iterations=1000):\n",
    "    theta = np.random.randn(2, 1)  # Random initialization of parameters\n",
    "    m = len(X)\n",
    "    \n",
    "    for iteration in range(n_iterations):\n",
    "        gradients = 2/m * X.T.dot(X.dot(theta) - y)\n",
    "        theta = theta - learning_rate * gradients\n",
    "    \n",
    "    return theta\n",
    "\n",
    "# Run gradient descent\n",
    "theta = gradient_descent(X_b, y)\n",
    "print(\"Intercept and Coefficients (theta) using Gradient Descent:\")\n",
    "print(theta)\n"
   ]
  },
  {
   "cell_type": "code",
   "execution_count": 16,
   "metadata": {},
   "outputs": [
    {
     "name": "stdout",
     "output_type": "stream",
     "text": [
      "Final centroids:\n",
      "[[ 0.86811053  0.70430635]\n",
      " [ 0.12280914 -1.06036937]\n",
      " [-0.92488334  0.61507033]]\n",
      "Labels of data points:\n",
      "[0 0 1 0 2 0 0 0 0 1 2 1 1 1 0 0 1 2 0 1 1 2 1 2 2 2 1 2 0 2 2 1 1 2 2 0 1\n",
      " 1 1 2 2 1 0 0 2 2 0 0 0 0 1 2 2 1 0 0 2 2 0 0 1 0 2 2 0 2 2 2 0 1 2 0 0 2\n",
      " 2 0 1 1 1 2 2 0 2 1 0 0 1 2 1 2 1 1 1 2 2 2 1 0 0 0]\n"
     ]
    }
   ],
   "source": [
    "import numpy as np\n",
    "\n",
    "# Generate sample data\n",
    "np.random.seed(0)\n",
    "X = np.random.randn(100, 2)\n",
    "\n",
    "# K-means clustering function\n",
    "def kmeans(X, k, n_iterations=100):\n",
    "    centroids = X[np.random.choice(X.shape[0], k, replace=False)]\n",
    "    \n",
    "    for _ in range(n_iterations):\n",
    "        # Assign each data point to the closest centroid\n",
    "        labels = np.argmin(np.linalg.norm(X[:, np.newaxis] - centroids, axis=2), axis=1)\n",
    "        \n",
    "        # Update centroids based on the mean of data points assigned to each cluster\n",
    "        centroids = np.array([X[labels == i].mean(axis=0) for i in range(k)])\n",
    "    \n",
    "    return centroids, labels\n",
    "\n",
    "# Run K-means clustering\n",
    "k = 3\n",
    "centroids, labels = kmeans(X, k)\n",
    "print(\"Final centroids:\")\n",
    "print(centroids)\n",
    "print(\"Labels of data points:\")\n",
    "print(labels)\n"
   ]
  },
  {
   "cell_type": "code",
   "execution_count": null,
   "metadata": {},
   "outputs": [],
   "source": []
  }
 ],
 "metadata": {
  "kernelspec": {
   "display_name": "ml_emv",
   "language": "python",
   "name": "python3"
  },
  "language_info": {
   "codemirror_mode": {
    "name": "ipython",
    "version": 3
   },
   "file_extension": ".py",
   "mimetype": "text/x-python",
   "name": "python",
   "nbconvert_exporter": "python",
   "pygments_lexer": "ipython3",
   "version": "3.11.5"
  }
 },
 "nbformat": 4,
 "nbformat_minor": 2
}
