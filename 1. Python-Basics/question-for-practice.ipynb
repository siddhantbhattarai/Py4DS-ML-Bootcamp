{
 "cells": [
  {
   "cell_type": "code",
   "execution_count": 1,
   "metadata": {},
   "outputs": [],
   "source": [
    "## Dictionaries (3):\n",
    "\n",
    "# 1. Check if a key exists and print its value if it does.\n",
    "def check_key(dictionary, key):\n",
    "    if key in dictionary:\n",
    "        print(\"Value:\", dictionary[key])\n",
    "    else:\n",
    "        print(\"Key not found\")\n",
    "\n",
    "# 2. Create a dictionary to store information about books and add a new book.\n",
    "def add_book(books, title, author, year):\n",
    "    books[title] = {\"Author\": author, \"Year\": year}\n",
    "    print(\"New book added:\", title)\n",
    "    print(\"All books:\", books)\n",
    "\n",
    "# 3. Find the most frequent word in a dictionary.\n",
    "def most_frequent_word(word_freq):\n",
    "    max_freq = max(word_freq.values())\n",
    "    most_frequent_words = [word for word, freq in word_freq.items() if freq == max_freq]\n",
    "    print(\"Most frequent word(s):\", most_frequent_words)"
   ]
  },
  {
   "cell_type": "code",
   "execution_count": 2,
   "metadata": {},
   "outputs": [],
   "source": [
    "## Lists (3):\n",
    "\n",
    "# 4. Reverse the order of elements in a list.\n",
    "def reverse_list(lst):\n",
    "    reversed_lst = lst[::-1]\n",
    "    print(\"Reversed list:\", reversed_lst)\n",
    "\n",
    "# 5. Find the sum of all even numbers in a list.\n",
    "def sum_even_numbers(lst):\n",
    "    even_sum = sum(num for num in lst if num % 2 == 0)\n",
    "    print(\"Sum of even numbers:\", even_sum)\n",
    "\n",
    "# 6. Remove duplicate names from a list while preserving the order.\n",
    "def remove_duplicates(names):\n",
    "    unique_names = []\n",
    "    for name in names:\n",
    "        if name not in unique_names:\n",
    "            unique_names.append(name)\n",
    "    print(\"List with duplicates removed:\", unique_names)"
   ]
  },
  {
   "cell_type": "code",
   "execution_count": 3,
   "metadata": {},
   "outputs": [],
   "source": [
    "## Booleans (2):\n",
    "\n",
    "# 7. Check if a number is even using a conditional statement.\n",
    "def is_even(number):\n",
    "    if number % 2 == 0:\n",
    "        print(\"The number is even\")\n",
    "    else:\n",
    "        print(\"The number is odd\")\n",
    "\n",
    "# 8. Check if any exam score is below 70 and print a message if so.\n",
    "def check_exam_scores(scores):\n",
    "    if any(score < 70 for score in scores):\n",
    "        print(\"There are scores below 70\")\n",
    "    else:\n",
    "        print(\"All scores are 70 or above\")"
   ]
  },
  {
   "cell_type": "code",
   "execution_count": 4,
   "metadata": {},
   "outputs": [],
   "source": [
    "## Sets (2):\n",
    "\n",
    "# 9. Find common fruits liked by two people.\n",
    "def common_fruits(person1_fruits, person2_fruits):\n",
    "    common = person1_fruits.intersection(person2_fruits)\n",
    "    print(\"Common fruits:\", common)\n",
    "\n",
    "# 10. Add new countries and remove duplicates in a set of Asian countries.\n",
    "def update_countries(countries, new_countries):\n",
    "    countries.update(new_countries)\n",
    "    print(\"Updated countries:\", countries)"
   ]
  },
  {
   "cell_type": "code",
   "execution_count": 5,
   "metadata": {},
   "outputs": [],
   "source": [
    "## Tuples (2):\n",
    "\n",
    "# 11. Find the minimum and maximum elements in a tuple.\n",
    "def min_max_tuple(tup):\n",
    "    min_element = min(tup)\n",
    "    max_element = max(tup)\n",
    "    print(\"Minimum:\", min_element)\n",
    "    print(\"Maximum:\", max_element)\n",
    "\n",
    "# 12. Calculate total grade and print a message if it's above 90.\n",
    "def total_grade(student_grades):\n",
    "    total = sum(grades[1] + grades[2] for grades in student_grades)\n",
    "    print(\"Total grade:\", total)\n",
    "    if total > 90:\n",
    "        print(\"Congratulations! Total grade is above 90\")"
   ]
  },
  {
   "cell_type": "code",
   "execution_count": 6,
   "metadata": {},
   "outputs": [],
   "source": [
    "## Conditional Statements (3):\n",
    "\n",
    "# 13. Check if a character is a vowel or consonant using a conditional statement.\n",
    "def check_vowel_consonant(character):\n",
    "    if character.lower() in 'aeiou':\n",
    "        print(\"Vowel\")\n",
    "    else:\n",
    "        print(\"Consonant\")\n",
    "\n",
    "# 14. Print if a number is positive, negative, or zero.\n",
    "def check_number(number):\n",
    "    if number > 0:\n",
    "        print(\"Positive\")\n",
    "    elif number < 0:\n",
    "        print(\"Negative\")\n",
    "    else:\n",
    "        print(\"Zero\")\n",
    "\n",
    "# 15. Calculate the area of a shape based on user input.\n",
    "def calculate_area(shape):\n",
    "    if shape == \"square\":\n",
    "        side = float(input(\"Enter the side length of the square: \"))\n",
    "        area = side ** 2\n",
    "    elif shape == \"rectangle\":\n",
    "        length = float(input(\"Enter the length of the rectangle: \"))\n",
    "        width = float(input(\"Enter the width of the rectangle: \"))\n",
    "        area = length * width\n",
    "    elif shape == \"circle\":\n",
    "        radius = float(input(\"Enter the radius of the circle: \"))\n",
    "        area = 3.14 * radius ** 2\n",
    "    else:\n",
    "        print(\"Invalid shape\")\n",
    "        return\n",
    "    print(\"Area of\", shape, \"is:\", area)"
   ]
  },
  {
   "cell_type": "markdown",
   "metadata": {},
   "source": [
    "### Sample usages:"
   ]
  },
  {
   "cell_type": "code",
   "execution_count": 7,
   "metadata": {},
   "outputs": [
    {
     "name": "stdout",
     "output_type": "stream",
     "text": [
      "New book added: Python Programming\n",
      "All books: {'Python Programming': {'Author': 'John Doe', 'Year': 2020}}\n",
      "Value: {'Author': 'John Doe', 'Year': 2020}\n",
      "Most frequent word(s): ['grape']\n"
     ]
    }
   ],
   "source": [
    "# For dictionaries:\n",
    "books = {}\n",
    "add_book(books, \"Python Programming\", \"John Doe\", 2020)\n",
    "check_key(books, \"Python Programming\")\n",
    "word_freq = {\"apple\": 3, \"banana\": 5, \"orange\": 3, \"grape\": 7}\n",
    "most_frequent_word(word_freq)"
   ]
  },
  {
   "cell_type": "code",
   "execution_count": 8,
   "metadata": {},
   "outputs": [
    {
     "name": "stdout",
     "output_type": "stream",
     "text": [
      "Reversed list: [5, 4, 3, 2, 1]\n",
      "Sum of even numbers: 6\n",
      "List with duplicates removed: ['Alice', 'Bob', 'Charlie']\n"
     ]
    }
   ],
   "source": [
    "# For lists:\n",
    "numbers = [1, 2, 3, 4, 5]\n",
    "reverse_list(numbers)\n",
    "sum_even_numbers(numbers)\n",
    "names = [\"Alice\", \"Bob\", \"Alice\", \"Charlie\", \"Bob\"]\n",
    "remove_duplicates(names)"
   ]
  },
  {
   "cell_type": "code",
   "execution_count": 9,
   "metadata": {},
   "outputs": [
    {
     "name": "stdout",
     "output_type": "stream",
     "text": [
      "The number is odd\n",
      "There are scores below 70\n"
     ]
    }
   ],
   "source": [
    "# For booleans:\n",
    "is_even(7)\n",
    "check_exam_scores([80, 65, 90, 55])\n"
   ]
  },
  {
   "cell_type": "code",
   "execution_count": 10,
   "metadata": {},
   "outputs": [
    {
     "name": "stdout",
     "output_type": "stream",
     "text": [
      "Common fruits: {'banana'}\n",
      "Updated countries: {'India', 'China', 'Japan', 'Korea'}\n"
     ]
    }
   ],
   "source": [
    "# For sets:\n",
    "person1_fruits = {\"apple\", \"banana\", \"orange\"}\n",
    "person2_fruits = {\"banana\", \"grape\", \"kiwi\"}\n",
    "common_fruits(person1_fruits, person2_fruits)\n",
    "asian_countries = {\"Japan\", \"China\", \"India\"}\n",
    "update_countries(asian_countries, {\"Korea\", \"India\"})\n"
   ]
  },
  {
   "cell_type": "code",
   "execution_count": 11,
   "metadata": {},
   "outputs": [
    {
     "name": "stdout",
     "output_type": "stream",
     "text": [
      "Minimum: 1\n",
      "Maximum: 9\n",
      "Total grade: 338\n",
      "Congratulations! Total grade is above 90\n"
     ]
    }
   ],
   "source": [
    "\n",
    "# For tuples:\n",
    "grades = [(\"Alice\", 85, 90), (\"Bob\", 78, 85)]\n",
    "min_max_tuple((3, 7, 1, 9, 4))\n",
    "total_grade(grades)"
   ]
  },
  {
   "cell_type": "code",
   "execution_count": 12,
   "metadata": {},
   "outputs": [
    {
     "name": "stdout",
     "output_type": "stream",
     "text": [
      "Vowel\n",
      "Negative\n",
      "Area of circle is: 113.04\n"
     ]
    }
   ],
   "source": [
    "# For conditional statements:\n",
    "check_vowel_consonant('A')\n",
    "check_number(-5)\n",
    "calculate_area(\"circle\")"
   ]
  }
 ],
 "metadata": {
  "kernelspec": {
   "display_name": "ml_emv",
   "language": "python",
   "name": "python3"
  },
  "language_info": {
   "codemirror_mode": {
    "name": "ipython",
    "version": 3
   },
   "file_extension": ".py",
   "mimetype": "text/x-python",
   "name": "python",
   "nbconvert_exporter": "python",
   "pygments_lexer": "ipython3",
   "version": "3.11.5"
  }
 },
 "nbformat": 4,
 "nbformat_minor": 2
}
