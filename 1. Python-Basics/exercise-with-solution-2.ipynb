{
 "cells": [
  {
   "cell_type": "markdown",
   "metadata": {},
   "source": [
    "### Disctionary\n",
    "1. Check if a key exists in a disctionary and print its value if it does:"
   ]
  },
  {
   "cell_type": "code",
   "execution_count": 2,
   "metadata": {},
   "outputs": [
    {
     "name": "stdout",
     "output_type": "stream",
     "text": [
      "Value of grape: 15\n"
     ]
    }
   ],
   "source": [
    "disctionary = {\n",
    "    \"apple\": 3,\n",
    "    \"banana\": 5,\n",
    "    \"cherry\": 10,\n",
    "    \"orange\": 20,\n",
    "    \"grape\": 15\n",
    "}\n",
    "\n",
    "key_to_check = \"grape\"\n",
    "\n",
    "if key_to_check in disctionary:\n",
    "    print(f\"Value of {key_to_check}:\", disctionary[key_to_check])\n",
    "else:\n",
    "    print(\"Key not found\")\n"
   ]
  },
  {
   "cell_type": "markdown",
   "metadata": {},
   "source": [
    "2. Create a disctionary to store information about books (title, author, year) and add a new book:"
   ]
  },
  {
   "cell_type": "code",
   "execution_count": 4,
   "metadata": {},
   "outputs": [
    {
     "name": "stdout",
     "output_type": "stream",
     "text": [
      "New book added: One Piece\n",
      "All books: {'One Piece': {'Author': 'Monkey D. Luffy', 'Year': 1999}}\n"
     ]
    }
   ],
   "source": [
    "books = {}\n",
    "title = \"One Piece\"\n",
    "author = \"Monkey D. Luffy\"\n",
    "year = 1999\n",
    "books[title] = {\n",
    "    \"Author\": author,\n",
    "    \"Year\": year\n",
    "}\n",
    "print(\"New book added:\", title)\n",
    "print(\"All books:\", books)"
   ]
  },
  {
   "cell_type": "markdown",
   "metadata": {},
   "source": [
    "3. Given a disctionary with word frequencies, find the most frequent word:"
   ]
  },
  {
   "cell_type": "code",
   "execution_count": 9,
   "metadata": {},
   "outputs": [
    {
     "name": "stdout",
     "output_type": "stream",
     "text": [
      "Most frequent word(s): Avenger EndGame\n"
     ]
    }
   ],
   "source": [
    "freq_word = {\n",
    "    \"Lord of the Rings\": 9,\n",
    "    \"The Hobbit\": 8,\n",
    "    \"Game of Thrones\": 9,\n",
    "    \"Star Wars\": 7,\n",
    "    \"Avenger EndGame\": 10 \n",
    "}\n",
    "most_frequent_word = max(freq_word, key=freq_word.get)\n",
    "print(\"Most frequent word(s):\", most_frequent_word)"
   ]
  },
  {
   "cell_type": "markdown",
   "metadata": {},
   "source": [
    "### List\n",
    "4. Reverse the order of elements in a list."
   ]
  },
  {
   "cell_type": "code",
   "execution_count": 10,
   "metadata": {},
   "outputs": [
    {
     "name": "stdout",
     "output_type": "stream",
     "text": [
      "Reversed list using reversed(): [5, 4, 3, 2, 1]\n",
      "Reversed list using list.reverse(): [5, 4, 3, 2, 1]\n"
     ]
    }
   ],
   "source": [
    "# For lists:\n",
    "# 4. Reverse the order of elements in a list.\n",
    "lst = [1, 2, 3, 4, 5]\n",
    "\n",
    "# Using reversed() function\n",
    "reversed_lst = list(reversed(lst))\n",
    "print(\"Reversed list using reversed():\", reversed_lst)\n",
    "\n",
    "# Using list.reverse() method\n",
    "lst.reverse()\n",
    "print(\"Reversed list using list.reverse():\", lst)"
   ]
  },
  {
   "cell_type": "code",
   "execution_count": 11,
   "metadata": {},
   "outputs": [
    {
     "name": "stdout",
     "output_type": "stream",
     "text": [
      "Reversed list: [5, 4, 3, 2, 1]\n"
     ]
    }
   ],
   "source": [
    "# 4. Reverse the order of elements in a list.\n",
    "lst = [1, 2, 3, 4, 5]\n",
    "reversed_lst = lst[::-1]\n",
    "print(\"Reversed list:\", reversed_lst)"
   ]
  },
  {
   "cell_type": "markdown",
   "metadata": {},
   "source": [
    "5. Find the sum of all even numbers in a list."
   ]
  },
  {
   "cell_type": "code",
   "execution_count": 13,
   "metadata": {},
   "outputs": [
    {
     "name": "stdout",
     "output_type": "stream",
     "text": [
      "Sum of even numbers: 6\n"
     ]
    }
   ],
   "source": [
    "numbers = [1, 2, 3, 4, 5]\n",
    "even_sum = sum(num for num in numbers if num % 2 == 0)\n",
    "print(\"Sum of even numbers:\", even_sum)"
   ]
  },
  {
   "cell_type": "code",
   "execution_count": 14,
   "metadata": {},
   "outputs": [
    {
     "name": "stdout",
     "output_type": "stream",
     "text": [
      "Sum of even numbers: 6\n"
     ]
    }
   ],
   "source": [
    "# 5. Find the sum of all even numbers in a list.\n",
    "numbers = [1, 2, 3, 4, 5]\n",
    "even_sum = sum(num for num in numbers if num % 2 == 0)\n",
    "print(\"Sum of even numbers:\", even_sum)"
   ]
  },
  {
   "cell_type": "markdown",
   "metadata": {},
   "source": [
    "6. Remove duplicate names from a list while preserving the order.\n"
   ]
  },
  {
   "cell_type": "code",
   "execution_count": 15,
   "metadata": {},
   "outputs": [
    {
     "name": "stdout",
     "output_type": "stream",
     "text": [
      "List with duplicates removed: ['Alice', 'Bob', 'Charlie']\n"
     ]
    }
   ],
   "source": [
    "names = [\"Alice\", \"Bob\", \"Alice\", \"Charlie\", \"Bob\"]\n",
    "unique_names = []\n",
    "for name in names:\n",
    "    if name not in unique_names:\n",
    "        unique_names.append(name)\n",
    "print(\"List with duplicates removed:\", unique_names)"
   ]
  },
  {
   "cell_type": "code",
   "execution_count": 16,
   "metadata": {},
   "outputs": [
    {
     "name": "stdout",
     "output_type": "stream",
     "text": [
      "List with duplicates removed: ['Bob', 'Charlie', 'Alice']\n"
     ]
    }
   ],
   "source": [
    "names = [\"Alice\", \"Bob\", \"Alice\", \"Charlie\", \"Bob\"]\n",
    "\n",
    "# Convert the list to a set to remove duplicates\n",
    "unique_names = set(names)\n",
    "\n",
    "# Convert the set back to a list\n",
    "unique_names = list(unique_names)\n",
    "\n",
    "print(\"List with duplicates removed:\", unique_names)"
   ]
  },
  {
   "cell_type": "markdown",
   "metadata": {},
   "source": [
    "### For booleans:\n",
    "7. Check if a number is even using a conditional statement."
   ]
  },
  {
   "cell_type": "code",
   "execution_count": 18,
   "metadata": {},
   "outputs": [
    {
     "name": "stdout",
     "output_type": "stream",
     "text": [
      "The number is odd.\n"
     ]
    }
   ],
   "source": [
    "number = 7\n",
    "if number % 2 == 0:\n",
    "    print(\"The number is even.\")\n",
    "else:\n",
    "    print(\"The number is odd.\")"
   ]
  },
  {
   "cell_type": "markdown",
   "metadata": {},
   "source": [
    "8. Check if any exam score is below 70 and print a message if so."
   ]
  },
  {
   "cell_type": "code",
   "execution_count": 19,
   "metadata": {},
   "outputs": [
    {
     "name": "stdout",
     "output_type": "stream",
     "text": [
      "There are scores below 70\n"
     ]
    }
   ],
   "source": [
    "scores = [80, 65, 90, 55]\n",
    "if any(score < 70 for score in scores):\n",
    "    print(\"There are scores below 70\")\n",
    "else:\n",
    "    print(\"All scores are 70 or above\")"
   ]
  },
  {
   "cell_type": "markdown",
   "metadata": {},
   "source": [
    "### For sets:\n",
    "9. Find common fruits liked by two people."
   ]
  },
  {
   "cell_type": "code",
   "execution_count": 20,
   "metadata": {},
   "outputs": [
    {
     "name": "stdout",
     "output_type": "stream",
     "text": [
      "Common fruits: {'banana'}\n"
     ]
    }
   ],
   "source": [
    "person1_fruits = {\"apple\", \"banana\", \"orange\"}\n",
    "person2_fruits = {\"banana\", \"grape\", \"kiwi\"}\n",
    "common_fruits = person1_fruits.intersection(person2_fruits)\n",
    "print(\"Common fruits:\", common_fruits)"
   ]
  },
  {
   "cell_type": "markdown",
   "metadata": {},
   "source": [
    "10. Add new countries and remove duplicates in a set of Asian countries."
   ]
  },
  {
   "cell_type": "code",
   "execution_count": 22,
   "metadata": {},
   "outputs": [
    {
     "name": "stdout",
     "output_type": "stream",
     "text": [
      "Updated countries: {'Japan', 'Nepal', 'India', 'China', 'Korea'}\n"
     ]
    }
   ],
   "source": [
    "asian_countries = {\"Japan\", \"China\", \"India\"}\n",
    "new_countries = {\"Korea\", \"India\", \"Nepal\"}\n",
    "asian_countries.update(new_countries)\n",
    "print(\"Updated countries:\", asian_countries)"
   ]
  },
  {
   "cell_type": "markdown",
   "metadata": {},
   "source": [
    "### For tuples:\n",
    "11. Find the minimum and maximum elements in a tuple."
   ]
  },
  {
   "cell_type": "code",
   "execution_count": 23,
   "metadata": {},
   "outputs": [
    {
     "name": "stdout",
     "output_type": "stream",
     "text": [
      "Minimum: 1\n",
      "Maximum: 9\n"
     ]
    }
   ],
   "source": [
    "tup = (3, 7, 1, 9, 4)\n",
    "min_element = min(tup)\n",
    "max_element = max(tup)\n",
    "print(\"Minimum:\", min_element)\n",
    "print(\"Maximum:\", max_element)"
   ]
  },
  {
   "cell_type": "markdown",
   "metadata": {},
   "source": [
    "12. Calculate total grade and print a message if it's above 90."
   ]
  },
  {
   "cell_type": "code",
   "execution_count": 24,
   "metadata": {},
   "outputs": [
    {
     "name": "stdout",
     "output_type": "stream",
     "text": [
      "Total grade: 338\n",
      "Congratulations! Total grade is above 90\n"
     ]
    }
   ],
   "source": [
    "grades = [(\"Alice\", 85, 90), (\"Bob\", 78, 85)]\n",
    "total = sum(grades[1] + grades[2] for grades in grades)\n",
    "print(\"Total grade:\", total)\n",
    "if total > 90:\n",
    "    print(\"Congratulations! Total grade is above 90\")"
   ]
  },
  {
   "cell_type": "markdown",
   "metadata": {},
   "source": [
    "### For conditional statements:\n",
    "13. Check if a character is a vowel or consonant using a conditional statement."
   ]
  },
  {
   "cell_type": "code",
   "execution_count": 25,
   "metadata": {},
   "outputs": [
    {
     "name": "stdout",
     "output_type": "stream",
     "text": [
      "Vowel\n"
     ]
    }
   ],
   "source": [
    "character = 'A'\n",
    "if character.lower() in 'aeiou':\n",
    "    print(\"Vowel\")\n",
    "else:\n",
    "    print(\"Consonant\")"
   ]
  },
  {
   "cell_type": "markdown",
   "metadata": {},
   "source": [
    "14. Print if a number is positive, negative, or zero."
   ]
  },
  {
   "cell_type": "code",
   "execution_count": 26,
   "metadata": {},
   "outputs": [
    {
     "name": "stdout",
     "output_type": "stream",
     "text": [
      "Negative\n"
     ]
    }
   ],
   "source": [
    "number = -5\n",
    "if number > 0:\n",
    "    print(\"Positive\")\n",
    "elif number < 0:\n",
    "    print(\"Negative\")\n",
    "else:\n",
    "    print(\"Zero\")"
   ]
  },
  {
   "cell_type": "markdown",
   "metadata": {},
   "source": [
    "15. Calculate the area of a shape based on user input."
   ]
  },
  {
   "cell_type": "code",
   "execution_count": 27,
   "metadata": {},
   "outputs": [
    {
     "name": "stdout",
     "output_type": "stream",
     "text": [
      "Area of circle is: 78.5\n"
     ]
    }
   ],
   "source": [
    "shape = \"circle\"  # User input\n",
    "if shape == \"square\":\n",
    "    side = float(input(\"Enter the side length of the square: \"))\n",
    "    area = side ** 2\n",
    "elif shape == \"rectangle\":\n",
    "    length = float(input(\"Enter the length of the rectangle: \"))\n",
    "    width = float(input(\"Enter the width of the rectangle: \"))\n",
    "    area = length * width\n",
    "elif shape == \"circle\":\n",
    "    radius = float(input(\"Enter the radius of the circle: \"))\n",
    "    area = 3.14 * radius ** 2\n",
    "else:\n",
    "    print(\"Invalid shape\")\n",
    "print(\"Area of\", shape, \"is:\", area)"
   ]
  }
 ],
 "metadata": {
  "kernelspec": {
   "display_name": "ml_emv",
   "language": "python",
   "name": "python3"
  },
  "language_info": {
   "codemirror_mode": {
    "name": "ipython",
    "version": 3
   },
   "file_extension": ".py",
   "mimetype": "text/x-python",
   "name": "python",
   "nbconvert_exporter": "python",
   "pygments_lexer": "ipython3",
   "version": "3.11.5"
  }
 },
 "nbformat": 4,
 "nbformat_minor": 2
}
