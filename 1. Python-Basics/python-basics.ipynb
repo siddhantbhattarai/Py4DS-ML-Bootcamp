{
 "cells": [
  {
   "cell_type": "markdown",
   "metadata": {},
   "source": [
    "# Python Crash Course\n",
    "\n",
    "This notebook will just go through the basic topics in order:\n",
    "\n",
    "* Print Statements\n",
    "* Data types\n",
    "    * Numbers\n",
    "    * Strings\n",
    "    * Lists\n",
    "    * Dictionaries\n",
    "    * Booleans\n",
    "    * Tuples \n",
    "    * Sets\n",
    "* Comparison Operators\n",
    "* if,elif, else Statements\n",
    "* for Loops\n",
    "* while Loops\n",
    "* range()\n",
    "* list comprehension\n",
    "* functions\n",
    "* lambda expressions\n",
    "* map and filter\n",
    "* methods\n",
    "____"
   ]
  },
  {
   "cell_type": "markdown",
   "metadata": {},
   "source": [
    "# 1. Print Statements"
   ]
  },
  {
   "cell_type": "code",
   "execution_count": 6,
   "metadata": {},
   "outputs": [
    {
     "name": "stdout",
     "output_type": "stream",
     "text": [
      "Hello Word\n"
     ]
    }
   ],
   "source": [
    "#learn how to print the statement\n",
    "print(\"Hello Word\")"
   ]
  },
  {
   "cell_type": "code",
   "execution_count": 7,
   "metadata": {},
   "outputs": [
    {
     "name": "stdout",
     "output_type": "stream",
     "text": [
      "18\n",
      "John\n"
     ]
    }
   ],
   "source": [
    "# step-1 Creating Variables\n",
    "x = 18\n",
    "y = \"John\"\n",
    "print(x)\n",
    "print(y) "
   ]
  },
  {
   "cell_type": "code",
   "execution_count": 8,
   "metadata": {},
   "outputs": [
    {
     "name": "stdout",
     "output_type": "stream",
     "text": [
      "John is 18 years old.\n"
     ]
    }
   ],
   "source": [
    "# step-2 Using string formatting\n",
    "print(f\"{y} is {x} years old.\")"
   ]
  },
  {
   "cell_type": "code",
   "execution_count": 9,
   "metadata": {},
   "outputs": [
    {
     "name": "stdout",
     "output_type": "stream",
     "text": [
      "John is 18 years old.\n"
     ]
    }
   ],
   "source": [
    "# step-3 Using the format method\n",
    "print(\"{} is {} years old.\" .format(y,x))"
   ]
  },
  {
   "cell_type": "code",
   "execution_count": 10,
   "metadata": {},
   "outputs": [
    {
     "name": "stdout",
     "output_type": "stream",
     "text": [
      "John is 18 years old. \n"
     ]
    }
   ],
   "source": [
    "# step-4 Concatenating strings\n",
    "print(y + \" is \" + str(x) + \" years old. \")"
   ]
  },
  {
   "cell_type": "code",
   "execution_count": 11,
   "metadata": {},
   "outputs": [
    {
     "name": "stdout",
     "output_type": "stream",
     "text": [
      "John is 18 years old.\n"
     ]
    }
   ],
   "source": [
    "# step-5 using the older % string formatting method\n",
    "print(\"%s is %d years old.\" %(y,x))"
   ]
  },
  {
   "cell_type": "markdown",
   "metadata": {},
   "source": [
    "# 2. Data Types"
   ]
  },
  {
   "cell_type": "markdown",
   "metadata": {},
   "source": [
    "2.1 Numbers"
   ]
  },
  {
   "cell_type": "code",
   "execution_count": 12,
   "metadata": {},
   "outputs": [
    {
     "name": "stdout",
     "output_type": "stream",
     "text": [
      "The Addition of a and b is 80.\n",
      "The Subtraction of a and b is 60.\n",
      "The Multiplication of a and b is 700.\n",
      "The Division of a and b is 7.0.\n",
      "The Reminder of a and b is 0.\n"
     ]
    }
   ],
   "source": [
    "# Numbers\n",
    "# - Create two variables, a and b, with numerical values. \n",
    "# - Perform addition, subtraction, multiplication, and division, and print the results.\n",
    "\n",
    "a = 10\n",
    "b = 70\n",
    "print(f\"The Addition of a and b is {a+b}.\")\n",
    "print(f\"The Subtraction of a and b is {b-a}.\")\n",
    "print(f\"The Multiplication of a and b is {a*b}.\")\n",
    "print(f\"The Division of a and b is {b/a}.\")\n",
    "print(f\"The Reminder of a and b is {b%a}.\")"
   ]
  },
  {
   "cell_type": "markdown",
   "metadata": {},
   "source": [
    "2.2 String"
   ]
  },
  {
   "cell_type": "code",
   "execution_count": 14,
   "metadata": {},
   "outputs": [
    {
     "name": "stdout",
     "output_type": "stream",
     "text": [
      "single_quoted_string: Hello, World!\n",
      "double_quoted_string: Python is amazing!\n",
      "concatenated_string: Hello, World! Python is amazing!\n",
      "uppercase_string: HELLO, WORLD! PYTHON IS AMAZING!\n",
      "lowercase_string: hello, world! python is amazing!\n"
     ]
    }
   ],
   "source": [
    "# Single quotes\n",
    "single_quoted_string = 'Hello, World!'\n",
    "print(\"single_quoted_string:\", single_quoted_string)\n",
    "\n",
    "# Double quotes\n",
    "double_quoted_string = \"Python is amazing!\"\n",
    "print(\"double_quoted_string:\", double_quoted_string)\n",
    "\n",
    "# Concatenation\n",
    "concatenated_string = single_quoted_string + ' ' + double_quoted_string\n",
    "print(\"concatenated_string:\", concatenated_string)\n",
    "\n",
    "# String methods\n",
    "uppercase_string = concatenated_string.upper()\n",
    "print(\"uppercase_string:\", uppercase_string)\n",
    "\n",
    "lowercase_string = concatenated_string.lower()\n",
    "print(\"lowercase_string:\", lowercase_string)\n"
   ]
  },
  {
   "cell_type": "code",
   "execution_count": 16,
   "metadata": {},
   "outputs": [
    {
     "name": "stdout",
     "output_type": "stream",
     "text": [
      "Formatted String: My name is Alice and I am 25 years old.\n"
     ]
    }
   ],
   "source": [
    "# 1. String Formatting: You can format strings using the % operator or the format() method.\n",
    "#    Example:\n",
    "name = \"Alice\"\n",
    "age = 25\n",
    "formatted_string = \"My name is %s and I am %d years old.\" % (name, age)\n",
    "print(\"Formatted String:\", formatted_string)"
   ]
  },
  {
   "cell_type": "code",
   "execution_count": 17,
   "metadata": {},
   "outputs": [
    {
     "name": "stdout",
     "output_type": "stream",
     "text": [
      "Substring: tho\n"
     ]
    }
   ],
   "source": [
    "# 2. String Slicing: You can slice strings to extract substrings.\n",
    "#    Example:\n",
    "s = \"Python\"\n",
    "substring = s[2:5]  # Extracts characters from index 2 to 4 (exclusive)\n",
    "print(\"Substring:\", substring)"
   ]
  },
  {
   "cell_type": "code",
   "execution_count": 18,
   "metadata": {},
   "outputs": [
    {
     "name": "stdout",
     "output_type": "stream",
     "text": [
      "Stripped String: Hello, World!\n"
     ]
    }
   ],
   "source": [
    "# 3. String Methods: Python provides many built-in string methods for various operations such as finding substrings, replacing characters, splitting strings, stripping whitespace, etc.\n",
    "#    Example:\n",
    "s = \"  Hello, World!  \"\n",
    "stripped_string = s.strip()  # Removes leading and trailing whitespace\n",
    "print(\"Stripped String:\", stripped_string)"
   ]
  },
  {
   "cell_type": "code",
   "execution_count": 19,
   "metadata": {},
   "outputs": [
    {
     "name": "stdout",
     "output_type": "stream",
     "text": [
      "Word List: ['Hello', 'World', 'Python']\n"
     ]
    }
   ],
   "source": [
    "words = \"Hello,World,Python\"\n",
    "word_list = words.split(\",\")  # Splits the string into a list of words\n",
    "print(\"Word List:\", word_list)"
   ]
  },
  {
   "cell_type": "code",
   "execution_count": 20,
   "metadata": {},
   "outputs": [
    {
     "name": "stdout",
     "output_type": "stream",
     "text": [
      "Sentence: Python is awesome\n"
     ]
    }
   ],
   "source": [
    "# 4. String Concatenation: Besides using the + operator, you can also use the join() method to concatenate strings from an iterable.\n",
    "#    Example:\n",
    "words = [\"Python\", \"is\", \"awesome\"]\n",
    "sentence = \" \".join(words)  # Concatenates words with a space between them\n",
    "print(\"Sentence:\", sentence)"
   ]
  },
  {
   "cell_type": "code",
   "execution_count": 21,
   "metadata": {},
   "outputs": [
    {
     "name": "stdout",
     "output_type": "stream",
     "text": [
      "Index of 'World': 7\n"
     ]
    }
   ],
   "source": [
    "# 5. String Searching and Replacing: You can search for substrings within a string and replace them using methods like find(), replace(), etc.\n",
    "#    Example:\n",
    "s = \"Hello, World!\"\n",
    "index = s.find(\"World\")  # Finds the index of the substring \"World\"\n",
    "print(\"Index of 'World':\", index)"
   ]
  },
  {
   "cell_type": "code",
   "execution_count": 22,
   "metadata": {},
   "outputs": [
    {
     "name": "stdout",
     "output_type": "stream",
     "text": [
      "Replaced String: Hi, World!\n"
     ]
    }
   ],
   "source": [
    "replaced_string = s.replace(\"Hello\", \"Hi\")  # Replaces \"Hello\" with \"Hi\"\n",
    "print(\"Replaced String:\", replaced_string)"
   ]
  },
  {
   "cell_type": "markdown",
   "metadata": {},
   "source": [
    "These are just a few examples of what you can do with strings in Python. Python's string handling capabilities are extensive and versatile, allowing for a wide range of text processing tasks."
   ]
  },
  {
   "cell_type": "markdown",
   "metadata": {},
   "source": [
    "2.3 List"
   ]
  },
  {
   "cell_type": "code",
   "execution_count": 23,
   "metadata": {},
   "outputs": [
    {
     "name": "stdout",
     "output_type": "stream",
     "text": [
      "['Toyota', 'Honda', 'Ford']\n"
     ]
    }
   ],
   "source": [
    "# Example 1: Creating a List\n",
    "# Create a list\n",
    "car_list = [\"Toyota\", \"Honda\", \"Ford\"]\n",
    "print(car_list)"
   ]
  },
  {
   "cell_type": "code",
   "execution_count": 24,
   "metadata": {},
   "outputs": [
    {
     "name": "stdout",
     "output_type": "stream",
     "text": [
      "Toyota\n",
      "Honda\n"
     ]
    }
   ],
   "source": [
    "# Accessing list items\n",
    "print(car_list[0])  # Output: \"Toyota\"\n",
    "print(car_list[1])  # Output: \"Honda\""
   ]
  },
  {
   "cell_type": "code",
   "execution_count": 25,
   "metadata": {},
   "outputs": [
    {
     "name": "stdout",
     "output_type": "stream",
     "text": [
      "3\n"
     ]
    }
   ],
   "source": [
    "# Get the number of items in the list\n",
    "print(len(car_list))  # Output: 3"
   ]
  },
  {
   "cell_type": "code",
   "execution_count": 27,
   "metadata": {},
   "outputs": [
    {
     "name": "stdout",
     "output_type": "stream",
     "text": [
      "List 1: ['Toyota', 'Honda', 'Ford']\n",
      "List 2: [1, 5, 7, 9, 3]\n",
      "List 3: [True, False, False]\n",
      "List 4: ['Toyota', 34, True, 40, 'male']\n",
      "First element of List 4: Toyota\n",
      "Second element of List 4: 34\n"
     ]
    }
   ],
   "source": [
    "# Lists can contain different data types\n",
    "list1 = [\"Toyota\", \"Honda\", \"Ford\"]\n",
    "list2 = [1, 5, 7, 9, 3]\n",
    "list3 = [True, False, False]\n",
    "list4 = [\"Toyota\", 34, True, 40, \"male\"]\n",
    "\n",
    "# Print the lists\n",
    "print(\"List 1:\", list1)\n",
    "print(\"List 2:\", list2)\n",
    "print(\"List 3:\", list3)\n",
    "print(\"List 4:\", list4)\n",
    "\n",
    "# Accessing elements of list4\n",
    "print(\"First element of List 4:\", list4[0])  # Output: \"Toyota\"\n",
    "print(\"Second element of List 4:\", list4[1])  # Output: 34"
   ]
  },
  {
   "cell_type": "code",
   "execution_count": 29,
   "metadata": {},
   "outputs": [
    {
     "name": "stdout",
     "output_type": "stream",
     "text": [
      "<class 'list'>\n"
     ]
    }
   ],
   "source": [
    "# Check the data type of a list\n",
    "print(type(car_list))"
   ]
  },
  {
   "cell_type": "code",
   "execution_count": 30,
   "metadata": {},
   "outputs": [
    {
     "name": "stdout",
     "output_type": "stream",
     "text": [
      "['Toyota', 'Honda', 'Ford']\n"
     ]
    }
   ],
   "source": [
    "# Using list() constructor to create a list\n",
    "thislist = list((\"Toyota\", \"Honda\", \"Ford\"))  # Note the double round-brackets\n",
    "print(thislist)"
   ]
  },
  {
   "cell_type": "code",
   "execution_count": 2,
   "metadata": {},
   "outputs": [
    {
     "name": "stdout",
     "output_type": "stream",
     "text": [
      "[1, 2, 3]\n"
     ]
    }
   ],
   "source": [
    "# Lists: defining lists, indexing, slicing\n",
    "unique_list = [1, 2, 3]\n",
    "print(unique_list)"
   ]
  },
  {
   "cell_type": "code",
   "execution_count": 3,
   "metadata": {},
   "outputs": [
    {
     "name": "stdout",
     "output_type": "stream",
     "text": [
      "['hi', 1, [1, 2]]\n"
     ]
    }
   ],
   "source": [
    "# Lists: defining lists, indexing, slicing\n",
    "mixed_list = ['hi', 1, [1, 2]]\n",
    "print(mixed_list)"
   ]
  },
  {
   "cell_type": "code",
   "execution_count": 4,
   "metadata": {},
   "outputs": [
    {
     "name": "stdout",
     "output_type": "stream",
     "text": [
      "['a', 'b', 'c', 'd']\n",
      "a\n",
      "b\n",
      "['b', 'c', 'd']\n",
      "['a']\n",
      "['NEW', 'b', 'c', 'd']\n"
     ]
    }
   ],
   "source": [
    "# Lists: defining lists, indexing, slicing\n",
    "alpha_list = ['a', 'b', 'c', 'd']\n",
    "print(alpha_list)\n",
    "print(alpha_list[0])  # Indexing\n",
    "print(alpha_list[1])  # Indexing\n",
    "print(alpha_list[1:])  # Slicing\n",
    "print(alpha_list[:1])  # Slicing\n",
    "alpha_list[0] = 'NEW'  # Modifying list elements\n",
    "print(alpha_list)"
   ]
  },
  {
   "cell_type": "code",
   "execution_count": 5,
   "metadata": {},
   "outputs": [
    {
     "name": "stdout",
     "output_type": "stream",
     "text": [
      "[4, 5, ['target']]\n",
      "['target']\n",
      "target\n"
     ]
    }
   ],
   "source": [
    "# Nested lists\n",
    "nested_list = [4, 5, ['target']]\n",
    "print(nested_list)\n",
    "print(nested_list[2])  # Accessing nested list\n",
    "print(nested_list[2][0])  # Accessing element within nested list"
   ]
  },
  {
   "cell_type": "markdown",
   "metadata": {},
   "source": [
    "2.4 Dictionaries"
   ]
  },
  {
   "cell_type": "code",
   "execution_count": 6,
   "metadata": {},
   "outputs": [],
   "source": [
    "# Example dictionary\n",
    "student = {\n",
    "    \"name\": \"Alice\",\n",
    "    \"age\": 20,\n",
    "    \"major\": \"Computer Science\",\n",
    "    \"GPA\": 3.8\n",
    "}"
   ]
  },
  {
   "cell_type": "code",
   "execution_count": 7,
   "metadata": {},
   "outputs": [
    {
     "name": "stdout",
     "output_type": "stream",
     "text": [
      "Student's name: Alice\n"
     ]
    }
   ],
   "source": [
    "# Accessing dictionary items\n",
    "print(\"Student's name:\", student[\"name\"])"
   ]
  },
  {
   "cell_type": "markdown",
   "metadata": {},
   "source": [
    "The repr() function in Python returns a string representation of the object passed to it. It returns a printable representation of the object, which can be used to recreate the object if possible. In the context of dictionaries, repr() converts the dictionary into a string format that represents the dictionary's contents as a Python expression."
   ]
  },
  {
   "cell_type": "code",
   "execution_count": 12,
   "metadata": {},
   "outputs": [
    {
     "name": "stdout",
     "output_type": "stream",
     "text": [
      "# Example dictionary\n",
      "{'name': 'Alice', 'age': 20, 'GPA': 3.9, 'year': 2}\n"
     ]
    }
   ],
   "source": [
    "# Adding a new item\n",
    "student[\"year\"] = 2\n",
    "\n",
    "# Print the dictionary as a string\n",
    "print(\"# Example dictionary\\n\" + repr(student))"
   ]
  },
  {
   "cell_type": "code",
   "execution_count": 13,
   "metadata": {},
   "outputs": [
    {
     "name": "stdout",
     "output_type": "stream",
     "text": [
      "# Example dictionary\n",
      "{'name': 'Alice', 'age': 20, 'GPA': 3.9, 'year': 2}\n"
     ]
    }
   ],
   "source": [
    "# Modifying an existing item\n",
    "student[\"GPA\"] = 3.9\n",
    "\n",
    "# Print the dictionary as a string\n",
    "print(\"# Example dictionary\\n\" + repr(student))"
   ]
  },
  {
   "cell_type": "code",
   "execution_count": 15,
   "metadata": {},
   "outputs": [
    {
     "name": "stdout",
     "output_type": "stream",
     "text": [
      "# Example dictionary\n",
      "{'name': 'Alice', 'age': 20, 'GPA': 3.9, 'year': 2}\n"
     ]
    }
   ],
   "source": [
    "# Deleting an item if it exists\n",
    "if \"major\" in student:\n",
    "    del student[\"major\"]\n",
    "\n",
    "# Print the dictionary as a string\n",
    "print(\"# Example dictionary\\n\" + repr(student))"
   ]
  },
  {
   "cell_type": "code",
   "execution_count": 16,
   "metadata": {},
   "outputs": [
    {
     "name": "stdout",
     "output_type": "stream",
     "text": [
      "Number of items: 4\n"
     ]
    }
   ],
   "source": [
    "# Determining the length of the dictionary\n",
    "print(\"Number of items:\", len(student))"
   ]
  },
  {
   "cell_type": "code",
   "execution_count": 17,
   "metadata": {},
   "outputs": [],
   "source": [
    "# Creating a dictionary with different data types\n",
    "course = {\n",
    "    \"name\": \"Python Programming\",\n",
    "    \"students\": [\"Alice\", \"Bob\", \"Charlie\"],\n",
    "    \"duration\": 12,\n",
    "    \"is_online\": True\n",
    "}"
   ]
  },
  {
   "cell_type": "code",
   "execution_count": 21,
   "metadata": {},
   "outputs": [
    {
     "name": "stdout",
     "output_type": "stream",
     "text": [
      "# Print the course disctionary\n",
      "{'name': 'Python Programming', 'students': ['Alice', 'Bob', 'Charlie'], 'duration': 12, 'is_online': True}\n"
     ]
    }
   ],
   "source": [
    "# Print the dictionary as a string\n",
    "print(\"# Print the course disctionary\\n\" + repr(course))"
   ]
  },
  {
   "cell_type": "code",
   "execution_count": 22,
   "metadata": {},
   "outputs": [
    {
     "name": "stdout",
     "output_type": "stream",
     "text": [
      "# Print the employee disctionary\n",
      "{'name': 'John', 'department': 'HR', 'experience': 5}\n"
     ]
    }
   ],
   "source": [
    "# Using dictionary constructor\n",
    "employee = dict(name=\"John\", department=\"HR\", experience=5)\n",
    "\n",
    "# Print the dictionary as a string\n",
    "print(\"# Print the employee disctionary\\n\" + repr(employee))"
   ]
  },
  {
   "cell_type": "code",
   "execution_count": 23,
   "metadata": {},
   "outputs": [
    {
     "name": "stdout",
     "output_type": "stream",
     "text": [
      "Type of student: <class 'dict'>\n"
     ]
    }
   ],
   "source": [
    "# Displaying type of dictionary\n",
    "print(\"Type of student:\", type(student))"
   ]
  },
  {
   "cell_type": "code",
   "execution_count": 24,
   "metadata": {},
   "outputs": [
    {
     "name": "stdout",
     "output_type": "stream",
     "text": [
      "Student details: {'name': 'Alice', 'age': 20, 'GPA': 3.9, 'year': 2}\n",
      "Course details: {'name': 'Python Programming', 'students': ['Alice', 'Bob', 'Charlie'], 'duration': 12, 'is_online': True}\n",
      "Employee details: {'name': 'John', 'department': 'HR', 'experience': 5}\n"
     ]
    }
   ],
   "source": [
    "# Printing dictionary\n",
    "print(\"Student details:\", student)\n",
    "print(\"Course details:\", course)\n",
    "print(\"Employee details:\", employee)"
   ]
  },
  {
   "cell_type": "markdown",
   "metadata": {},
   "source": [
    "2.5 Boolean"
   ]
  },
  {
   "cell_type": "code",
   "execution_count": 25,
   "metadata": {},
   "outputs": [
    {
     "name": "stdout",
     "output_type": "stream",
     "text": [
      "\n",
      "Example 1: Comparing Values\n",
      "Is 10 greater than 9? True\n",
      "Is 10 equal to 9? False\n",
      "Is 10 less than 9? False\n"
     ]
    }
   ],
   "source": [
    "# Example 1: Comparing Values\n",
    "print(\"\\nExample 1: Comparing Values\")\n",
    "print(\"Is 10 greater than 9?\", 10 > 9)\n",
    "print(\"Is 10 equal to 9?\", 10 == 9)\n",
    "print(\"Is 10 less than 9?\", 10 < 9)"
   ]
  },
  {
   "cell_type": "code",
   "execution_count": 26,
   "metadata": {},
   "outputs": [
    {
     "name": "stdout",
     "output_type": "stream",
     "text": [
      "\n",
      "Example 2: Evaluating Conditions\n",
      "b is not greater than a\n"
     ]
    }
   ],
   "source": [
    "# Example 2: Evaluating Conditions\n",
    "print(\"\\nExample 2: Evaluating Conditions\")\n",
    "a = 200\n",
    "b = 33\n",
    "\n",
    "if b > a:\n",
    "    print(\"b is greater than a\")\n",
    "else:\n",
    "    print(\"b is not greater than a\")"
   ]
  },
  {
   "cell_type": "code",
   "execution_count": 27,
   "metadata": {},
   "outputs": [
    {
     "name": "stdout",
     "output_type": "stream",
     "text": [
      "\n",
      "Example 3: Evaluating Values and Variables\n",
      "Is 'Hello' True? True\n",
      "Is 15 True? True\n",
      "Is x True? True\n",
      "Is y True? True\n"
     ]
    }
   ],
   "source": [
    "# Example 3: Evaluating Values and Variables\n",
    "print(\"\\nExample 3: Evaluating Values and Variables\")\n",
    "print(\"Is 'Hello' True?\", bool(\"Hello\"))\n",
    "print(\"Is 15 True?\", bool(15))\n",
    "x = \"Hello\"\n",
    "y = 15\n",
    "print(\"Is x True?\", bool(x))\n",
    "print(\"Is y True?\", bool(y))"
   ]
  },
  {
   "cell_type": "code",
   "execution_count": 28,
   "metadata": {},
   "outputs": [
    {
     "name": "stdout",
     "output_type": "stream",
     "text": [
      "\n",
      "Example 4: Using Functions to Return Booleans\n",
      "Is 10 even? True\n",
      "Is 7 even? False\n"
     ]
    }
   ],
   "source": [
    "# Example 4: Using Functions to Return Booleans\n",
    "print(\"\\nExample 4: Using Functions to Return Booleans\")\n",
    "def is_even(num):\n",
    "    return num % 2 == 0\n",
    "\n",
    "print(\"Is 10 even?\", is_even(10))\n",
    "print(\"Is 7 even?\", is_even(7))"
   ]
  },
  {
   "cell_type": "markdown",
   "metadata": {},
   "source": [
    "2.6 Tuples"
   ]
  },
  {
   "cell_type": "code",
   "execution_count": 29,
   "metadata": {},
   "outputs": [],
   "source": [
    "# Creating a Tuple\n",
    "my_tuple = (\"apple\", \"banana\", \"cherry\")"
   ]
  },
  {
   "cell_type": "code",
   "execution_count": 30,
   "metadata": {},
   "outputs": [
    {
     "name": "stdout",
     "output_type": "stream",
     "text": [
      "\n",
      "Accessing Tuple Elements:\n",
      "First element: apple\n",
      "Last element: cherry\n"
     ]
    }
   ],
   "source": [
    "# Accessing Tuple Elements\n",
    "print(\"\\nAccessing Tuple Elements:\")\n",
    "print(\"First element:\", my_tuple[0])\n",
    "print(\"Last element:\", my_tuple[-1])"
   ]
  },
  {
   "cell_type": "code",
   "execution_count": 31,
   "metadata": {},
   "outputs": [
    {
     "name": "stdout",
     "output_type": "stream",
     "text": [
      "\n",
      "Tuple Unpacking:\n",
      "Unpacked elements: apple banana cherry\n"
     ]
    }
   ],
   "source": [
    "# Tuple Unpacking\n",
    "print(\"\\nTuple Unpacking:\")\n",
    "a, b, c = my_tuple\n",
    "print(\"Unpacked elements:\", a, b, c)"
   ]
  },
  {
   "cell_type": "code",
   "execution_count": 32,
   "metadata": {},
   "outputs": [
    {
     "name": "stdout",
     "output_type": "stream",
     "text": [
      "\n",
      "Updating a Tuple:\n",
      "Updated tuple: ('apple', 'orange', 'cherry')\n"
     ]
    }
   ],
   "source": [
    "# Updating a Tuple\n",
    "print(\"\\nUpdating a Tuple:\")\n",
    "# Tuples are immutable, so we can't directly update them.\n",
    "# However, we can convert the tuple into a list, update the list, and then convert it back to a tuple.\n",
    "my_list = list(my_tuple)\n",
    "my_list[1] = \"orange\"\n",
    "my_tuple = tuple(my_list)\n",
    "print(\"Updated tuple:\", my_tuple)"
   ]
  },
  {
   "cell_type": "code",
   "execution_count": 33,
   "metadata": {},
   "outputs": [
    {
     "name": "stdout",
     "output_type": "stream",
     "text": [
      "\n",
      "Looping Through a Tuple:\n",
      "apple\n",
      "orange\n",
      "cherry\n"
     ]
    }
   ],
   "source": [
    "# Looping Through a Tuple\n",
    "print(\"\\nLooping Through a Tuple:\")\n",
    "for item in my_tuple:\n",
    "    print(item)"
   ]
  },
  {
   "cell_type": "code",
   "execution_count": 34,
   "metadata": {},
   "outputs": [
    {
     "name": "stdout",
     "output_type": "stream",
     "text": [
      "\n",
      "Joining Tuples:\n",
      "Joined tuple: ('a', 'b', 'c', 1, 2, 3)\n"
     ]
    }
   ],
   "source": [
    "# Joining Tuples\n",
    "print(\"\\nJoining Tuples:\")\n",
    "tuple1 = (\"a\", \"b\", \"c\")\n",
    "tuple2 = (1, 2, 3)\n",
    "joined_tuple = tuple1 + tuple2\n",
    "print(\"Joined tuple:\", joined_tuple)"
   ]
  },
  {
   "cell_type": "code",
   "execution_count": 35,
   "metadata": {},
   "outputs": [
    {
     "name": "stdout",
     "output_type": "stream",
     "text": [
      "\n",
      "Tuple Methods:\n",
      "Count of 'apple': 1\n",
      "Index of 'cherry': 2\n"
     ]
    }
   ],
   "source": [
    "# Tuple Methods\n",
    "print(\"\\nTuple Methods:\")\n",
    "# count() method counts the number of occurrences of a specified value in a tuple\n",
    "print(\"Count of 'apple':\", my_tuple.count('apple'))\n",
    "# index() method returns the index of the first occurrence of a specified value\n",
    "print(\"Index of 'cherry':\", my_tuple.index('cherry'))"
   ]
  },
  {
   "cell_type": "markdown",
   "metadata": {},
   "source": [
    "2.7 Sets"
   ]
  },
  {
   "cell_type": "code",
   "execution_count": 36,
   "metadata": {},
   "outputs": [],
   "source": [
    "# Creating a Set\n",
    "my_set = {\"apple\", \"banana\", \"cherry\"}"
   ]
  },
  {
   "cell_type": "code",
   "execution_count": 37,
   "metadata": {},
   "outputs": [
    {
     "name": "stdout",
     "output_type": "stream",
     "text": [
      "\n",
      "Updating a Set:\n",
      "Updated set after adding 'orange': {'orange', 'banana', 'cherry', 'apple'}\n"
     ]
    }
   ],
   "source": [
    "# Updating a Set\n",
    "print(\"\\nUpdating a Set:\")\n",
    "# Adding elements to a set using add() method\n",
    "my_set.add(\"orange\")\n",
    "print(\"Updated set after adding 'orange':\", my_set)"
   ]
  },
  {
   "cell_type": "code",
   "execution_count": 40,
   "metadata": {},
   "outputs": [
    {
     "name": "stdout",
     "output_type": "stream",
     "text": [
      "Updated set after adding 'mango' and 'pineapple':\n",
      " {'mango', 'apple', 'banana', 'orange', 'pineapple', 'cherry'}\n"
     ]
    }
   ],
   "source": [
    "# Adding multiple elements to a set using update() method\n",
    "my_set.update([\"mango\", \"pineapple\"])\n",
    "print(\"Updated set after adding 'mango' and 'pineapple':\\n\", my_set)"
   ]
  },
  {
   "cell_type": "code",
   "execution_count": 41,
   "metadata": {},
   "outputs": [
    {
     "name": "stdout",
     "output_type": "stream",
     "text": [
      "Updated set after removing 'banana': {'mango', 'apple', 'orange', 'pineapple', 'cherry'}\n"
     ]
    }
   ],
   "source": [
    "# Removing elements from a set using remove() method\n",
    "my_set.remove(\"banana\")\n",
    "print(\"Updated set after removing 'banana':\", my_set)"
   ]
  },
  {
   "cell_type": "code",
   "execution_count": 42,
   "metadata": {},
   "outputs": [
    {
     "name": "stdout",
     "output_type": "stream",
     "text": [
      "\n",
      "Looping Through a Set:\n",
      "mango\n",
      "apple\n",
      "orange\n",
      "pineapple\n",
      "cherry\n"
     ]
    }
   ],
   "source": [
    "# Looping Through a Set\n",
    "print(\"\\nLooping Through a Set:\")\n",
    "for item in my_set:\n",
    "    print(item)"
   ]
  },
  {
   "cell_type": "code",
   "execution_count": 43,
   "metadata": {},
   "outputs": [
    {
     "name": "stdout",
     "output_type": "stream",
     "text": [
      "\n",
      "Set Methods:\n",
      "Another set: {'banana', 'cherry', 'apple'}\n"
     ]
    }
   ],
   "source": [
    "# Set Methods\n",
    "print(\"\\nSet Methods:\")\n",
    "# set() constructor to create a set\n",
    "another_set = set([\"apple\", \"banana\", \"cherry\"])\n",
    "print(\"Another set:\", another_set)"
   ]
  },
  {
   "cell_type": "code",
   "execution_count": 44,
   "metadata": {},
   "outputs": [
    {
     "name": "stdout",
     "output_type": "stream",
     "text": [
      "Updated set after adding 'orange': {'orange', 'banana', 'cherry', 'apple'}\n"
     ]
    }
   ],
   "source": [
    "# add() method to add an element to a set\n",
    "another_set.add(\"orange\")\n",
    "print(\"Updated set after adding 'orange':\", another_set)"
   ]
  },
  {
   "cell_type": "code",
   "execution_count": 46,
   "metadata": {},
   "outputs": [
    {
     "name": "stdout",
     "output_type": "stream",
     "text": [
      "Updated set after adding 'mango' and 'pineapple': {'mango', 'apple', 'orange', 'pineapple', 'cherry'}\n"
     ]
    }
   ],
   "source": [
    "# update() method to add multiple elements to a set\n",
    "another_set.update([\"mango\", \"pineapple\"])\n",
    "print(\"Updated set after adding 'mango' and 'pineapple':\", another_set)"
   ]
  },
  {
   "cell_type": "code",
   "execution_count": 48,
   "metadata": {},
   "outputs": [
    {
     "name": "stdout",
     "output_type": "stream",
     "text": [
      "Updated set after removing 'banana': {'mango', 'apple', 'orange', 'pineapple', 'cherry'}\n"
     ]
    }
   ],
   "source": [
    "# Using discard() method to remove an element without raising an error if it doesn't exist\n",
    "another_set.discard(\"banana\")\n",
    "print(\"Updated set after removing 'banana':\", another_set)"
   ]
  },
  {
   "cell_type": "markdown",
   "metadata": {},
   "source": [
    "# Comparison Operators"
   ]
  },
  {
   "cell_type": "code",
   "execution_count": 49,
   "metadata": {},
   "outputs": [
    {
     "name": "stdout",
     "output_type": "stream",
     "text": [
      "\n",
      "Interactive Examples:\n",
      "Equality Comparison: True\n",
      "Inequality Comparison: True\n",
      "Greater Than Comparison: True\n",
      "Less Than Comparison: True\n",
      "Greater Than or Equal To Comparison: True\n",
      "Less Than or Equal To Comparison: False\n"
     ]
    }
   ],
   "source": [
    "# 1. Interactive Examples\n",
    "print(\"\\nInteractive Examples:\")\n",
    "# Equality comparison\n",
    "print(\"Equality Comparison:\", 5 == 5)\n",
    "# Inequality comparison\n",
    "print(\"Inequality Comparison:\", 5 != 10)\n",
    "# Greater than comparison\n",
    "print(\"Greater Than Comparison:\", 10 > 5)\n",
    "# Less than comparison\n",
    "print(\"Less Than Comparison:\", 5 < 10)\n",
    "# Greater than or equal to comparison\n",
    "print(\"Greater Than or Equal To Comparison:\", 5 >= 5)\n",
    "# Less than or equal to comparison\n",
    "print(\"Less Than or Equal To Comparison:\", 10 <= 5)"
   ]
  },
  {
   "cell_type": "code",
   "execution_count": 50,
   "metadata": {},
   "outputs": [
    {
     "name": "stdout",
     "output_type": "stream",
     "text": [
      "\n",
      "Practical Application in ML/DL:\n",
      "Is prediction correct? True\n"
     ]
    }
   ],
   "source": [
    "# 2. Practical Application in ML/DL\n",
    "print(\"\\nPractical Application in ML/DL:\")\n",
    "# Example: Evaluating model accuracy\n",
    "predicted_label = 1\n",
    "actual_label = 1\n",
    "print(\"Is prediction correct?\", predicted_label == actual_label)\n"
   ]
  },
  {
   "cell_type": "code",
   "execution_count": 51,
   "metadata": {},
   "outputs": [
    {
     "name": "stdout",
     "output_type": "stream",
     "text": [
      "\n",
      "Hands-On Exercises:\n",
      "Filtered Data: [30, 40, 50]\n"
     ]
    }
   ],
   "source": [
    "# 3. Hands-On Exercises\n",
    "print(\"\\nHands-On Exercises:\")\n",
    "# Exercise: Filtering dataset based on a threshold\n",
    "data = [10, 20, 30, 40, 50]\n",
    "threshold = 30\n",
    "filtered_data = [x for x in data if x >= threshold]\n",
    "print(\"Filtered Data:\", filtered_data)"
   ]
  },
  {
   "cell_type": "code",
   "execution_count": 56,
   "metadata": {},
   "outputs": [
    {
     "name": "stdout",
     "output_type": "stream",
     "text": [
      "Requirement already satisfied: scikit-learn in /home/siddhant/anaconda3/envs/ml_emv/lib/python3.11/site-packages (1.4.1.post1)\n",
      "Requirement already satisfied: numpy<2.0,>=1.19.5 in /home/siddhant/anaconda3/envs/ml_emv/lib/python3.11/site-packages (from scikit-learn) (1.26.2)\n",
      "Requirement already satisfied: scipy>=1.6.0 in /home/siddhant/anaconda3/envs/ml_emv/lib/python3.11/site-packages (from scikit-learn) (1.12.0)\n",
      "Requirement already satisfied: joblib>=1.2.0 in /home/siddhant/anaconda3/envs/ml_emv/lib/python3.11/site-packages (from scikit-learn) (1.3.2)\n",
      "Requirement already satisfied: threadpoolctl>=2.0.0 in /home/siddhant/anaconda3/envs/ml_emv/lib/python3.11/site-packages (from scikit-learn) (3.4.0)\n",
      "Note: you may need to restart the kernel to use updated packages.\n"
     ]
    }
   ],
   "source": [
    "pip install scikit-learn"
   ]
  },
  {
   "cell_type": "code",
   "execution_count": 57,
   "metadata": {},
   "outputs": [
    {
     "name": "stdout",
     "output_type": "stream",
     "text": [
      "\n",
      "Real-World Examples:\n",
      "Model Accuracy: 0.8\n"
     ]
    }
   ],
   "source": [
    "# 4. Real-World Examples\n",
    "print(\"\\nReal-World Examples:\")\n",
    "# Example: Using comparison operators in scikit-learn for model evaluation\n",
    "from sklearn.metrics import accuracy_score\n",
    "y_true = [0, 1, 1, 0, 1]\n",
    "y_pred = [0, 1, 0, 0, 1]\n",
    "accuracy = accuracy_score(y_true, y_pred)\n",
    "print(\"Model Accuracy:\", accuracy)"
   ]
  },
  {
   "cell_type": "markdown",
   "metadata": {},
   "source": [
    "# if, elif, else Statements"
   ]
  },
  {
   "cell_type": "code",
   "execution_count": 58,
   "metadata": {},
   "outputs": [
    {
     "name": "stdout",
     "output_type": "stream",
     "text": [
      "\n",
      "Example with if, elif, else Statements:\n",
      "x is equal to 10\n"
     ]
    }
   ],
   "source": [
    "# Example with if, elif, else Statements\n",
    "print(\"\\nExample with if, elif, else Statements:\")\n",
    "x = 10\n",
    "\n",
    "if x > 10:\n",
    "    print(\"x is greater than 10\")\n",
    "elif x < 10:\n",
    "    print(\"x is less than 10\")\n",
    "else:\n",
    "    print(\"x is equal to 10\")"
   ]
  },
  {
   "cell_type": "code",
   "execution_count": 59,
   "metadata": {},
   "outputs": [
    {
     "name": "stdout",
     "output_type": "stream",
     "text": [
      "\n",
      "Practical Application:\n",
      "Prediction is incorrect\n"
     ]
    }
   ],
   "source": [
    "# Practical Application\n",
    "print(\"\\nPractical Application:\")\n",
    "# Example: Decision-making in ML/DL algorithm\n",
    "predicted_label = 1\n",
    "true_label = 0\n",
    "\n",
    "if predicted_label == true_label:\n",
    "    print(\"Prediction is correct\")\n",
    "else:\n",
    "    print(\"Prediction is incorrect\")"
   ]
  },
  {
   "cell_type": "code",
   "execution_count": 60,
   "metadata": {},
   "outputs": [
    {
     "name": "stdout",
     "output_type": "stream",
     "text": [
      "Number is negative\n"
     ]
    }
   ],
   "source": [
    "# Example 1: Checking if a number is positive, negative, or zero\n",
    "num = -5\n",
    "\n",
    "if num > 0:\n",
    "    print(\"Number is positive\")\n",
    "elif num < 0:\n",
    "    print(\"Number is negative\")\n",
    "else:\n",
    "    print(\"Number is zero\")"
   ]
  },
  {
   "cell_type": "code",
   "execution_count": 61,
   "metadata": {},
   "outputs": [
    {
     "name": "stdout",
     "output_type": "stream",
     "text": [
      "Student passed\n"
     ]
    }
   ],
   "source": [
    "# Example 2: Checking if a student's grade is passing or failing\n",
    "grade = 75\n",
    "\n",
    "if grade >= 60:\n",
    "    print(\"Student passed\")\n",
    "else:\n",
    "    print(\"Student failed\")"
   ]
  },
  {
   "cell_type": "code",
   "execution_count": 62,
   "metadata": {},
   "outputs": [
    {
     "name": "stdout",
     "output_type": "stream",
     "text": [
      "Eligible for youth discount\n"
     ]
    }
   ],
   "source": [
    "# Example 3: Checking eligibility for a discount based on age\n",
    "age = 25\n",
    "\n",
    "if age < 18:\n",
    "    print(\"Not eligible for discount\")\n",
    "elif age >= 18 and age <= 30:\n",
    "    print(\"Eligible for youth discount\")\n",
    "else:\n",
    "    print(\"Not eligible for youth discount\")"
   ]
  },
  {
   "cell_type": "code",
   "execution_count": 63,
   "metadata": {},
   "outputs": [
    {
     "name": "stdout",
     "output_type": "stream",
     "text": [
      "Number is odd\n"
     ]
    }
   ],
   "source": [
    "# Example 4: Checking if a number is even or odd\n",
    "number = 7\n",
    "\n",
    "if number % 2 == 0:\n",
    "    print(\"Number is even\")\n",
    "else:\n",
    "    print(\"Number is odd\")"
   ]
  },
  {
   "cell_type": "code",
   "execution_count": 64,
   "metadata": {},
   "outputs": [
    {
     "name": "stdout",
     "output_type": "stream",
     "text": [
      "Spring\n"
     ]
    }
   ],
   "source": [
    "# Example 5: Determining the season based on the month\n",
    "month = \"March\"\n",
    "\n",
    "if month in [\"March\", \"April\", \"May\"]:\n",
    "    print(\"Spring\")\n",
    "elif month in [\"June\", \"July\", \"August\"]:\n",
    "    print(\"Summer\")\n",
    "elif month in [\"September\", \"October\", \"November\"]:\n",
    "    print(\"Autumn\")\n",
    "else:\n",
    "    print(\"Winter\")"
   ]
  },
  {
   "cell_type": "code",
   "execution_count": 65,
   "metadata": {},
   "outputs": [
    {
     "name": "stdout",
     "output_type": "stream",
     "text": [
      "String contains 'Python'\n"
     ]
    }
   ],
   "source": [
    "# Example 6: Checking if a string contains a specific substring\n",
    "text = \"Python is a powerful language\"\n",
    "\n",
    "if \"Python\" in text:\n",
    "    print(\"String contains 'Python'\")\n",
    "else:\n",
    "    print(\"String does not contain 'Python'\")"
   ]
  },
  {
   "cell_type": "code",
   "execution_count": 66,
   "metadata": {},
   "outputs": [
    {
     "name": "stdout",
     "output_type": "stream",
     "text": [
      "Maximum: 20\n"
     ]
    }
   ],
   "source": [
    "# Example 7: Determining the maximum of three numbers\n",
    "a, b, c = 10, 20, 15\n",
    "\n",
    "if a >= b and a >= c:\n",
    "    print(\"Maximum:\", a)\n",
    "elif b >= a and b >= c:\n",
    "    print(\"Maximum:\", b)\n",
    "else:\n",
    "    print(\"Maximum:\", c)"
   ]
  },
  {
   "cell_type": "code",
   "execution_count": 67,
   "metadata": {},
   "outputs": [
    {
     "name": "stdout",
     "output_type": "stream",
     "text": [
      "Leap year\n"
     ]
    }
   ],
   "source": [
    "# Example 8: Checking if a year is a leap year\n",
    "year = 2024\n",
    "\n",
    "if (year % 4 == 0 and year % 100 != 0) or (year % 400 == 0):\n",
    "    print(\"Leap year\")\n",
    "else:\n",
    "    print(\"Not a leap year\")"
   ]
  },
  {
   "cell_type": "markdown",
   "metadata": {},
   "source": [
    "# for Loops"
   ]
  },
  {
   "cell_type": "code",
   "execution_count": 68,
   "metadata": {},
   "outputs": [
    {
     "name": "stdout",
     "output_type": "stream",
     "text": [
      "Example 1:\n",
      "1\n",
      "2\n",
      "3\n",
      "4\n",
      "5\n"
     ]
    }
   ],
   "source": [
    "# Example 1: Iterating over a list of numbers and printing each number\n",
    "numbers = [1, 2, 3, 4, 5]\n",
    "\n",
    "print(\"Example 1:\")\n",
    "for num in numbers:\n",
    "    print(num)"
   ]
  },
  {
   "cell_type": "code",
   "execution_count": 69,
   "metadata": {},
   "outputs": [
    {
     "name": "stdout",
     "output_type": "stream",
     "text": [
      "\n",
      "Example 2:\n",
      "P\n",
      "y\n",
      "t\n",
      "h\n",
      "o\n",
      "n\n"
     ]
    }
   ],
   "source": [
    "# Example 2: Iterating over a string and printing each character\n",
    "string = \"Python\"\n",
    "\n",
    "print(\"\\nExample 2:\")\n",
    "for char in string:\n",
    "    print(char)"
   ]
  },
  {
   "cell_type": "code",
   "execution_count": 70,
   "metadata": {},
   "outputs": [
    {
     "name": "stdout",
     "output_type": "stream",
     "text": [
      "\n",
      "Example 3:\n",
      "0\n",
      "1\n",
      "2\n",
      "3\n",
      "4\n"
     ]
    }
   ],
   "source": [
    "# Example 3: Iterating over a range of numbers and printing each number\n",
    "print(\"\\nExample 3:\")\n",
    "for i in range(5):\n",
    "    print(i)"
   ]
  },
  {
   "cell_type": "code",
   "execution_count": 71,
   "metadata": {},
   "outputs": [
    {
     "name": "stdout",
     "output_type": "stream",
     "text": [
      "\n",
      "Example 4:\n",
      "1\n",
      "2\n",
      "3\n",
      "4\n",
      "5\n"
     ]
    }
   ],
   "source": [
    "# Example 4: Iterating over a range of numbers with a specified start and end\n",
    "print(\"\\nExample 4:\")\n",
    "for i in range(1, 6):\n",
    "    print(i)"
   ]
  },
  {
   "cell_type": "code",
   "execution_count": 72,
   "metadata": {},
   "outputs": [
    {
     "name": "stdout",
     "output_type": "stream",
     "text": [
      "\n",
      "Example 5:\n",
      "0\n",
      "2\n",
      "4\n",
      "6\n",
      "8\n"
     ]
    }
   ],
   "source": [
    "# Example 5: Iterating over a range of numbers with a specified step\n",
    "print(\"\\nExample 5:\")\n",
    "for i in range(0, 10, 2):\n",
    "    print(i)"
   ]
  },
  {
   "cell_type": "code",
   "execution_count": 74,
   "metadata": {},
   "outputs": [
    {
     "name": "stdout",
     "output_type": "stream",
     "text": [
      "\n",
      "Example 6:\n",
      "a : 1\n",
      "b : 2\n",
      "c : 3\n"
     ]
    }
   ],
   "source": [
    "# Example 6: Iterating over a dictionary and printing key-value pairs\n",
    "my_dict = {'a': 1, 'b': 2, 'c': 3}\n",
    "\n",
    "print(\"\\nExample 6:\")\n",
    "for key, value in my_dict.items():\n",
    "    print(key, \":\", value)"
   ]
  },
  {
   "cell_type": "code",
   "execution_count": 75,
   "metadata": {},
   "outputs": [
    {
     "name": "stdout",
     "output_type": "stream",
     "text": [
      "\n",
      "Example 7:\n",
      "(1, 'a')\n",
      "(2, 'b')\n",
      "(3, 'c')\n"
     ]
    }
   ],
   "source": [
    "# Example 7: Iterating over a list of tuples and printing each tuple\n",
    "tuples_list = [(1, 'a'), (2, 'b'), (3, 'c')]\n",
    "\n",
    "print(\"\\nExample 7:\")\n",
    "for item in tuples_list:\n",
    "    print(item)"
   ]
  },
  {
   "cell_type": "code",
   "execution_count": 76,
   "metadata": {},
   "outputs": [
    {
     "name": "stdout",
     "output_type": "stream",
     "text": [
      "\n",
      "Example 8:\n",
      "Number: 1 | Character: a\n",
      "Number: 2 | Character: b\n",
      "Number: 3 | Character: c\n"
     ]
    }
   ],
   "source": [
    "# Example 8: Iterating over a list of tuples and unpacking each tuple\n",
    "print(\"\\nExample 8:\")\n",
    "for num, char in tuples_list:\n",
    "    print(\"Number:\", num, \"| Character:\", char)"
   ]
  },
  {
   "cell_type": "markdown",
   "metadata": {},
   "source": [
    "# while Loops"
   ]
  },
  {
   "cell_type": "code",
   "execution_count": 77,
   "metadata": {},
   "outputs": [
    {
     "name": "stdout",
     "output_type": "stream",
     "text": [
      "Example 1:\n",
      "1\n",
      "2\n",
      "3\n",
      "4\n",
      "5\n"
     ]
    }
   ],
   "source": [
    "# Example 1: Counting from 1 to 5 using a while loop\n",
    "print(\"Example 1:\")\n",
    "count = 1\n",
    "while count <= 5:\n",
    "    print(count)\n",
    "    count += 1"
   ]
  },
  {
   "cell_type": "code",
   "execution_count": 78,
   "metadata": {},
   "outputs": [
    {
     "name": "stdout",
     "output_type": "stream",
     "text": [
      "\n",
      "Example 2:\n",
      "Sum of numbers from 1 to 10: 55\n"
     ]
    }
   ],
   "source": [
    "# Example 2: Summing numbers from 1 to 10 using a while loop\n",
    "print(\"\\nExample 2:\")\n",
    "sum_of_numbers = 0\n",
    "num = 1\n",
    "while num <= 10:\n",
    "    sum_of_numbers += num\n",
    "    num += 1\n",
    "print(\"Sum of numbers from 1 to 10:\", sum_of_numbers)"
   ]
  },
  {
   "cell_type": "code",
   "execution_count": 79,
   "metadata": {},
   "outputs": [
    {
     "name": "stdout",
     "output_type": "stream",
     "text": [
      "\n",
      "Example 3:\n",
      "2\n",
      "4\n",
      "6\n",
      "8\n",
      "10\n"
     ]
    }
   ],
   "source": [
    "# Example 3: Printing even numbers from 1 to 10 using a while loop\n",
    "print(\"\\nExample 3:\")\n",
    "num = 1\n",
    "while num <= 10:\n",
    "    if num % 2 == 0:\n",
    "        print(num)\n",
    "    num += 1"
   ]
  },
  {
   "cell_type": "code",
   "execution_count": 80,
   "metadata": {},
   "outputs": [
    {
     "name": "stdout",
     "output_type": "stream",
     "text": [
      "\n",
      "Example 4:\n",
      "1\n",
      "2\n",
      "3\n",
      "4\n",
      "5\n"
     ]
    }
   ],
   "source": [
    "# Example 4: Iterating over a list and printing each element using a while loop\n",
    "print(\"\\nExample 4:\")\n",
    "my_list = [1, 2, 3, 4, 5]\n",
    "index = 0\n",
    "while index < len(my_list):\n",
    "    print(my_list[index])\n",
    "    index += 1"
   ]
  },
  {
   "cell_type": "code",
   "execution_count": 81,
   "metadata": {},
   "outputs": [
    {
     "name": "stdout",
     "output_type": "stream",
     "text": [
      "\n",
      "Example 5:\n",
      "Factorial of 5: 120\n"
     ]
    }
   ],
   "source": [
    "# Example 5: Finding factorial of a number using a while loop\n",
    "print(\"\\nExample 5:\")\n",
    "number = 5\n",
    "factorial = 1\n",
    "while number > 0:\n",
    "    factorial *= number\n",
    "    number -= 1\n",
    "print(\"Factorial of 5:\", factorial)"
   ]
  },
  {
   "cell_type": "code",
   "execution_count": 82,
   "metadata": {},
   "outputs": [
    {
     "name": "stdout",
     "output_type": "stream",
     "text": [
      "\n",
      "Example 6:\n",
      "Reversed string: nohtyP\n"
     ]
    }
   ],
   "source": [
    "# Example 6: Reversing a string using a while loop\n",
    "print(\"\\nExample 6:\")\n",
    "string = \"Python\"\n",
    "reversed_string = \"\"\n",
    "index = len(string) - 1\n",
    "while index >= 0:\n",
    "    reversed_string += string[index]\n",
    "    index -= 1\n",
    "print(\"Reversed string:\", reversed_string)"
   ]
  },
  {
   "cell_type": "markdown",
   "metadata": {},
   "source": [
    "# range()\n",
    "The range() function in Python is used to generate a sequence of numbers. It's commonly used in for loops to iterate over a sequence of numbers. Here are several examples demonstrating the usage of range():\n",
    "\n"
   ]
  },
  {
   "cell_type": "code",
   "execution_count": 83,
   "metadata": {},
   "outputs": [
    {
     "name": "stdout",
     "output_type": "stream",
     "text": [
      "Example 1:\n",
      "0\n",
      "1\n",
      "2\n",
      "3\n",
      "4\n"
     ]
    }
   ],
   "source": [
    "# Example 1: Using range() to generate a sequence of numbers\n",
    "print(\"Example 1:\")\n",
    "for i in range(5):\n",
    "    print(i)  # Output: 0, 1, 2, 3, 4\n"
   ]
  },
  {
   "cell_type": "code",
   "execution_count": 84,
   "metadata": {},
   "outputs": [
    {
     "name": "stdout",
     "output_type": "stream",
     "text": [
      "\n",
      "Example 2:\n",
      "1\n",
      "2\n",
      "3\n",
      "4\n",
      "5\n"
     ]
    }
   ],
   "source": [
    "# Example 2: Using range() with start and stop parameters\n",
    "print(\"\\nExample 2:\")\n",
    "for i in range(1, 6):\n",
    "    print(i)  # Output: 1, 2, 3, 4, 5"
   ]
  },
  {
   "cell_type": "code",
   "execution_count": 85,
   "metadata": {},
   "outputs": [
    {
     "name": "stdout",
     "output_type": "stream",
     "text": [
      "\n",
      "Example 3:\n",
      "1\n",
      "3\n",
      "5\n",
      "7\n",
      "9\n"
     ]
    }
   ],
   "source": [
    "# Example 3: Using range() with start, stop, and step parameters\n",
    "print(\"\\nExample 3:\")\n",
    "for i in range(1, 10, 2):\n",
    "    print(i)  # Output: 1, 3, 5, 7, 9"
   ]
  },
  {
   "cell_type": "code",
   "execution_count": 86,
   "metadata": {},
   "outputs": [
    {
     "name": "stdout",
     "output_type": "stream",
     "text": [
      "\n",
      "Example 4:\n",
      "10\n",
      "9\n",
      "8\n",
      "7\n",
      "6\n",
      "5\n",
      "4\n",
      "3\n",
      "2\n",
      "1\n"
     ]
    }
   ],
   "source": [
    "# Example 4: Generating a sequence of numbers in reverse order\n",
    "print(\"\\nExample 4:\")\n",
    "for i in range(10, 0, -1):\n",
    "    print(i)  # Output: 10, 9, 8, 7, 6, 5, 4, 3, 2, 1"
   ]
  },
  {
   "cell_type": "code",
   "execution_count": 87,
   "metadata": {},
   "outputs": [
    {
     "name": "stdout",
     "output_type": "stream",
     "text": [
      "\n",
      "Example 5:\n",
      "[1, 2, 3, 4, 5]\n"
     ]
    }
   ],
   "source": [
    "# Example 5: Using range() to create a list of numbers\n",
    "print(\"\\nExample 5:\")\n",
    "numbers = list(range(1, 6))\n",
    "print(numbers)  # Output: [1, 2, 3, 4, 5]"
   ]
  },
  {
   "cell_type": "code",
   "execution_count": 88,
   "metadata": {},
   "outputs": [
    {
     "name": "stdout",
     "output_type": "stream",
     "text": [
      "\n",
      "Example 6:\n",
      "3 is in the range\n"
     ]
    }
   ],
   "source": [
    "# Example 6: Checking if a number is in a range\n",
    "print(\"\\nExample 6:\")\n",
    "if 3 in range(1, 6):\n",
    "    print(\"3 is in the range\")  # Output: 3 is in the range"
   ]
  },
  {
   "cell_type": "code",
   "execution_count": 89,
   "metadata": {},
   "outputs": [
    {
     "name": "stdout",
     "output_type": "stream",
     "text": [
      "\n",
      "Example 7:\n",
      "apple\n",
      "banana\n",
      "cherry\n"
     ]
    }
   ],
   "source": [
    "# Example 7: Using range() in combination with len() to iterate over a list\n",
    "print(\"\\nExample 7:\")\n",
    "my_list = [\"apple\", \"banana\", \"cherry\"]\n",
    "for i in range(len(my_list)):\n",
    "    print(my_list[i])  # Output: apple, banana, cherry"
   ]
  },
  {
   "cell_type": "markdown",
   "metadata": {},
   "source": [
    "# list comprehension"
   ]
  },
  {
   "cell_type": "code",
   "execution_count": 90,
   "metadata": {},
   "outputs": [
    {
     "name": "stdout",
     "output_type": "stream",
     "text": [
      "Example 1 (Using for loop): [0, 1, 4, 9, 16, 25, 36, 49, 64, 81]\n"
     ]
    }
   ],
   "source": [
    "# Example 1: Creating a list of squares of numbers from 0 to 9 using a for loop\n",
    "squares = []\n",
    "for i in range(10):\n",
    "    squares.append(i ** 2)\n",
    "print(\"Example 1 (Using for loop):\", squares)"
   ]
  },
  {
   "cell_type": "code",
   "execution_count": 91,
   "metadata": {},
   "outputs": [
    {
     "name": "stdout",
     "output_type": "stream",
     "text": [
      "Example 2 (Using list comprehension): [0, 1, 4, 9, 16, 25, 36, 49, 64, 81]\n"
     ]
    }
   ],
   "source": [
    "# Example 2: Creating the same list using list comprehension\n",
    "squares = [i ** 2 for i in range(10)]\n",
    "print(\"Example 2 (Using list comprehension):\", squares)"
   ]
  },
  {
   "cell_type": "code",
   "execution_count": 92,
   "metadata": {},
   "outputs": [
    {
     "name": "stdout",
     "output_type": "stream",
     "text": [
      "Example 3 (Using for loop): [0, 2, 4, 6, 8]\n"
     ]
    }
   ],
   "source": [
    "# Example 3: Creating a list of even numbers from 0 to 9 using a for loop\n",
    "even_numbers = []\n",
    "for i in range(10):\n",
    "    if i % 2 == 0:\n",
    "        even_numbers.append(i)\n",
    "print(\"Example 3 (Using for loop):\", even_numbers)"
   ]
  },
  {
   "cell_type": "code",
   "execution_count": 93,
   "metadata": {},
   "outputs": [
    {
     "name": "stdout",
     "output_type": "stream",
     "text": [
      "Example 4 (Using list comprehension with condition): [0, 2, 4, 6, 8]\n"
     ]
    }
   ],
   "source": [
    "# Example 4: Creating the same list using list comprehension with a condition\n",
    "even_numbers = [i for i in range(10) if i % 2 == 0]\n",
    "print(\"Example 4 (Using list comprehension with condition):\", even_numbers)"
   ]
  },
  {
   "cell_type": "code",
   "execution_count": 94,
   "metadata": {},
   "outputs": [
    {
     "name": "stdout",
     "output_type": "stream",
     "text": [
      "Example 5 (Creating list of tuples): [(0, 0), (1, 1), (2, 4), (3, 9), (4, 16), (5, 25), (6, 36), (7, 49), (8, 64), (9, 81)]\n"
     ]
    }
   ],
   "source": [
    "# Example 5: Creating a list of tuples containing the number and its square for numbers from 0 to 9\n",
    "number_square_pairs = [(i, i ** 2) for i in range(10)]\n",
    "print(\"Example 5 (Creating list of tuples):\", number_square_pairs)"
   ]
  },
  {
   "cell_type": "code",
   "execution_count": 95,
   "metadata": {},
   "outputs": [
    {
     "name": "stdout",
     "output_type": "stream",
     "text": [
      "Example 6 (Converting list elements to uppercase): ['HELLO', 'WORLD', 'PYTHON', 'LIST', 'COMPREHENSION']\n"
     ]
    }
   ],
   "source": [
    "# Example 6: Converting a list of strings to uppercase using list comprehension\n",
    "words = ['hello', 'world', 'python', 'list', 'comprehension']\n",
    "uppercase_words = [word.upper() for word in words]\n",
    "print(\"Example 6 (Converting list elements to uppercase):\", uppercase_words)"
   ]
  },
  {
   "cell_type": "code",
   "execution_count": 96,
   "metadata": {},
   "outputs": [
    {
     "name": "stdout",
     "output_type": "stream",
     "text": [
      "Example 7 (Flattening 2D list): [1, 2, 3, 4, 5, 6, 7, 8, 9]\n"
     ]
    }
   ],
   "source": [
    "# Example 7: Flattening a 2D list using list comprehension\n",
    "matrix = [[1, 2, 3], [4, 5, 6], [7, 8, 9]]\n",
    "flattened = [num for row in matrix for num in row]\n",
    "print(\"Example 7 (Flattening 2D list):\", flattened)"
   ]
  },
  {
   "cell_type": "code",
   "execution_count": 97,
   "metadata": {},
   "outputs": [
    {
     "name": "stdout",
     "output_type": "stream",
     "text": [
      "Example 8 (Creating list of even numbers and their squares): [(0, 0), (2, 4), (4, 16), (6, 36), (8, 64)]\n"
     ]
    }
   ],
   "source": [
    "# Example 8: Creating a list of even numbers and squares of even numbers using nested list comprehension\n",
    "even_numbers_and_squares = [(i, i ** 2) for i in range(10) if i % 2 == 0]\n",
    "print(\"Example 8 (Creating list of even numbers and their squares):\", even_numbers_and_squares)"
   ]
  },
  {
   "cell_type": "markdown",
   "metadata": {},
   "source": [
    "# functions\n",
    "Functions in Python allow you to encapsulate reusable pieces of code, making your programs more modular and easier to manage. Here are several examples demonstrating the usage of functions:"
   ]
  },
  {
   "cell_type": "code",
   "execution_count": 98,
   "metadata": {},
   "outputs": [
    {
     "name": "stdout",
     "output_type": "stream",
     "text": [
      "Hello, world!\n"
     ]
    }
   ],
   "source": [
    "# Example 1: Defining and calling a simple function\n",
    "def greet():\n",
    "    print(\"Hello, world!\")\n",
    "\n",
    "greet()  # Output: Hello, world!"
   ]
  },
  {
   "cell_type": "code",
   "execution_count": 99,
   "metadata": {},
   "outputs": [
    {
     "name": "stdout",
     "output_type": "stream",
     "text": [
      "Hello, Alice\n",
      "Hello, Bob\n"
     ]
    }
   ],
   "source": [
    "# Example 2: Function with parameters\n",
    "def greet_name(name):\n",
    "    print(\"Hello,\", name)\n",
    "\n",
    "greet_name(\"Alice\")  # Output: Hello, Alice\n",
    "greet_name(\"Bob\")    # Output: Hello, Bob"
   ]
  },
  {
   "cell_type": "code",
   "execution_count": 100,
   "metadata": {},
   "outputs": [
    {
     "name": "stdout",
     "output_type": "stream",
     "text": [
      "Square of 5: 25\n"
     ]
    }
   ],
   "source": [
    "# Example 3: Function with a return value\n",
    "def square(x):\n",
    "    return x ** 2\n",
    "\n",
    "result = square(5)\n",
    "print(\"Square of 5:\", result)  # Output: Square of 5: 25"
   ]
  },
  {
   "cell_type": "code",
   "execution_count": 101,
   "metadata": {},
   "outputs": [
    {
     "name": "stdout",
     "output_type": "stream",
     "text": [
      "Hello, world\n",
      "Hello, Python\n"
     ]
    }
   ],
   "source": [
    "# Example 4: Function with default parameter value\n",
    "def greet_with_default(name=\"world\"):\n",
    "    print(\"Hello,\", name)\n",
    "\n",
    "greet_with_default()    # Output: Hello, world\n",
    "greet_with_default(\"Python\")  # Output: Hello, Python"
   ]
  },
  {
   "cell_type": "code",
   "execution_count": 102,
   "metadata": {},
   "outputs": [
    {
     "name": "stdout",
     "output_type": "stream",
     "text": [
      "Min number: 1\n",
      "Max number: 9\n"
     ]
    }
   ],
   "source": [
    "# Example 5: Function with multiple return values\n",
    "def min_max(numbers):\n",
    "    return min(numbers), max(numbers)\n",
    "\n",
    "nums = [3, 1, 4, 1, 5, 9, 2, 6, 5]\n",
    "min_num, max_num = min_max(nums)\n",
    "print(\"Min number:\", min_num)  # Output: Min number: 1\n",
    "print(\"Max number:\", max_num)  # Output: Max number: 9"
   ]
  },
  {
   "cell_type": "code",
   "execution_count": 103,
   "metadata": {},
   "outputs": [
    {
     "name": "stdout",
     "output_type": "stream",
     "text": [
      "Factorial of 5: 120\n"
     ]
    }
   ],
   "source": [
    "# Example 6: Recursive function to calculate factorial\n",
    "def factorial(n):\n",
    "    if n == 0:\n",
    "        return 1\n",
    "    else:\n",
    "        return n * factorial(n - 1)\n",
    "\n",
    "print(\"Factorial of 5:\", factorial(5))  # Output: Factorial of 5: 120"
   ]
  },
  {
   "cell_type": "code",
   "execution_count": 104,
   "metadata": {},
   "outputs": [
    {
     "name": "stdout",
     "output_type": "stream",
     "text": [
      "Sum of 1, 2, and 3: 6\n"
     ]
    }
   ],
   "source": [
    "# Example 7: Function with variable number of arguments\n",
    "def sum_all(*args):\n",
    "    total = 0\n",
    "    for num in args:\n",
    "        total += num\n",
    "    return total\n",
    "\n",
    "print(\"Sum of 1, 2, and 3:\", sum_all(1, 2, 3))  # Output: Sum of 1, 2, and 3: 6"
   ]
  },
  {
   "cell_type": "code",
   "execution_count": 105,
   "metadata": {},
   "outputs": [
    {
     "name": "stdout",
     "output_type": "stream",
     "text": [
      "Hello, Mr. Smith\n",
      "Hello, Ms. Alice\n"
     ]
    }
   ],
   "source": [
    "# Example 8: Function with keyword arguments\n",
    "def greet_person(name, title=\"Mr.\"):\n",
    "    print(\"Hello,\", title, name)\n",
    "\n",
    "greet_person(\"Smith\")                      # Output: Hello, Mr. Smith\n",
    "greet_person(\"Alice\", title=\"Ms.\")         # Output: Hello, Ms. Alice"
   ]
  },
  {
   "cell_type": "code",
   "execution_count": 106,
   "metadata": {},
   "outputs": [
    {
     "name": "stdout",
     "output_type": "stream",
     "text": [
      "Square of 3: 9\n"
     ]
    }
   ],
   "source": [
    "# Example 9: Lambda functions (anonymous functions)\n",
    "square = lambda x: x ** 2\n",
    "print(\"Square of 3:\", square(3))  # Output: Square of 3: 9"
   ]
  },
  {
   "cell_type": "code",
   "execution_count": 107,
   "metadata": {},
   "outputs": [
    {
     "name": "stdout",
     "output_type": "stream",
     "text": [
      "Result of adding 3 and 5: 8\n"
     ]
    }
   ],
   "source": [
    "# Example 10: Function as a parameter\n",
    "def apply_operation(x, y, operation):\n",
    "    return operation(x, y)\n",
    "\n",
    "def add(x, y):\n",
    "    return x + y\n",
    "\n",
    "print(\"Result of adding 3 and 5:\", apply_operation(3, 5, add))  # Output: Result of adding 3 and 5: 8"
   ]
  },
  {
   "cell_type": "markdown",
   "metadata": {},
   "source": [
    "# Lambda expressions\n",
    "Lambda expressions, also known as lambda functions or anonymous functions, allow you to create small, inline functions without explicitly defining them using the def keyword. Lambda expressions are particularly useful for creating simple functions on the fly or passing functions as arguments to higher-order functions. Here are several examples demonstrating the usage of lambda expressions:"
   ]
  },
  {
   "cell_type": "code",
   "execution_count": 108,
   "metadata": {},
   "outputs": [
    {
     "name": "stdout",
     "output_type": "stream",
     "text": [
      "Square of 3: 9\n"
     ]
    }
   ],
   "source": [
    "# Example 1: Creating a lambda function to square a number\n",
    "square = lambda x: x ** 2\n",
    "print(\"Square of 3:\", square(3))  # Output: Square of 3: 9"
   ]
  },
  {
   "cell_type": "code",
   "execution_count": 109,
   "metadata": {},
   "outputs": [
    {
     "name": "stdout",
     "output_type": "stream",
     "text": [
      "Sum of 3 and 5: 8\n"
     ]
    }
   ],
   "source": [
    "# Example 2: Creating a lambda function to add two numbers\n",
    "add = lambda x, y: x + y\n",
    "print(\"Sum of 3 and 5:\", add(3, 5))  # Output: Sum of 3 and 5: 8"
   ]
  },
  {
   "cell_type": "code",
   "execution_count": 110,
   "metadata": {},
   "outputs": [
    {
     "name": "stdout",
     "output_type": "stream",
     "text": [
      "Sorted names by length: ['Bob', 'Alice', 'David', 'Charlie']\n"
     ]
    }
   ],
   "source": [
    "# Example 3: Using lambda function as a key function in sorting\n",
    "names = ['Alice', 'Bob', 'Charlie', 'David']\n",
    "sorted_names = sorted(names, key=lambda name: len(name))\n",
    "print(\"Sorted names by length:\", sorted_names)  # Output: Sorted names by length: ['Bob', 'Alice', 'David', 'Charlie']"
   ]
  },
  {
   "cell_type": "code",
   "execution_count": 111,
   "metadata": {},
   "outputs": [
    {
     "name": "stdout",
     "output_type": "stream",
     "text": [
      "Even numbers: [2, 4, 6, 8, 10]\n"
     ]
    }
   ],
   "source": [
    "# Example 4: Filtering a list using lambda function\n",
    "numbers = [1, 2, 3, 4, 5, 6, 7, 8, 9, 10]\n",
    "even_numbers = list(filter(lambda x: x % 2 == 0, numbers))\n",
    "print(\"Even numbers:\", even_numbers)  # Output: Even numbers: [2, 4, 6, 8, 10]"
   ]
  },
  {
   "cell_type": "code",
   "execution_count": 112,
   "metadata": {},
   "outputs": [
    {
     "name": "stdout",
     "output_type": "stream",
     "text": [
      "Squared numbers: [1, 4, 9, 16, 25, 36, 49, 64, 81, 100]\n"
     ]
    }
   ],
   "source": [
    "# Example 5: Mapping a function to a list using lambda function\n",
    "squared_numbers = list(map(lambda x: x ** 2, numbers))\n",
    "print(\"Squared numbers:\", squared_numbers)  # Output: Squared numbers: [1, 4, 9, 16, 25, 36, 49, 64, 81, 100]"
   ]
  },
  {
   "cell_type": "code",
   "execution_count": 113,
   "metadata": {},
   "outputs": [
    {
     "name": "stdout",
     "output_type": "stream",
     "text": [
      "Is 5 even? False\n"
     ]
    }
   ],
   "source": [
    "# Example 6: Using lambda function with conditional expression\n",
    "is_even = lambda x: True if x % 2 == 0 else False\n",
    "print(\"Is 5 even?\", is_even(5))  # Output: Is 5 even? False"
   ]
  },
  {
   "cell_type": "code",
   "execution_count": 114,
   "metadata": {},
   "outputs": [
    {
     "name": "stdout",
     "output_type": "stream",
     "text": [
      "Result of combining: (8, 2, 15)\n"
     ]
    }
   ],
   "source": [
    "# Example 7: Combining multiple lambda expressions\n",
    "combine = lambda x, y: (x + y, x - y, x * y)\n",
    "result = combine(5, 3)\n",
    "print(\"Result of combining:\", result)  # Output: Result of combining: (8, 2, 15)"
   ]
  },
  {
   "cell_type": "markdown",
   "metadata": {},
   "source": [
    "# map and filter\n",
    "map() and filter() are built-in functions in Python that are used to process iterables (like lists, tuples, etc.) in a functional programming style. Here are examples demonstrating the usage of both functions:"
   ]
  },
  {
   "cell_type": "code",
   "execution_count": 115,
   "metadata": {},
   "outputs": [
    {
     "name": "stdout",
     "output_type": "stream",
     "text": [
      "Doubled numbers: [2, 4, 6, 8, 10]\n",
      "Uppercase words: ['HELLO', 'WORLD', 'PYTHON']\n"
     ]
    }
   ],
   "source": [
    "# Example 1: Doubling each number in a list using map()\n",
    "numbers = [1, 2, 3, 4, 5]\n",
    "doubled_numbers = map(lambda x: x * 2, numbers)\n",
    "print(\"Doubled numbers:\", list(doubled_numbers))  # Output: Doubled numbers: [2, 4, 6, 8, 10]\n",
    "\n",
    "# Example 2: Converting strings to uppercase using map()\n",
    "words = ['hello', 'world', 'python']\n",
    "uppercase_words = map(str.upper, words)\n",
    "print(\"Uppercase words:\", list(uppercase_words))  # Output: Uppercase words: ['HELLO', 'WORLD', 'PYTHON']\n"
   ]
  },
  {
   "cell_type": "code",
   "execution_count": 116,
   "metadata": {},
   "outputs": [
    {
     "name": "stdout",
     "output_type": "stream",
     "text": [
      "Even numbers: [2, 4, 6, 8, 10]\n",
      "Long words: ['python', 'comprehension']\n"
     ]
    }
   ],
   "source": [
    "# Example 3: Filtering even numbers from a list using filter()\n",
    "numbers = [1, 2, 3, 4, 5, 6, 7, 8, 9, 10]\n",
    "even_numbers = filter(lambda x: x % 2 == 0, numbers)\n",
    "print(\"Even numbers:\", list(even_numbers))  # Output: Even numbers: [2, 4, 6, 8, 10]\n",
    "\n",
    "# Example 4: Filtering strings with length greater than 5 using filter()\n",
    "words = ['hello', 'world', 'python', 'list', 'comprehension']\n",
    "long_words = filter(lambda x: len(x) > 5, words)\n",
    "print(\"Long words:\", list(long_words))  # Output: Long words: ['python', 'comprehension']\n"
   ]
  },
  {
   "cell_type": "markdown",
   "metadata": {},
   "source": [
    "# methods\n",
    "Methods in Python are functions associated with objects. They are called using the dot notation and typically act on the object they belong to. Here are examples demonstrating the usage of methods:"
   ]
  },
  {
   "cell_type": "markdown",
   "metadata": {},
   "source": [
    "String Methods:"
   ]
  },
  {
   "cell_type": "code",
   "execution_count": 117,
   "metadata": {},
   "outputs": [
    {
     "name": "stdout",
     "output_type": "stream",
     "text": [
      "capitalize(): Hello world\n",
      "upper(): HELLO WORLD\n",
      "lower(): hello world\n",
      "replace(): hello Python\n",
      "split(): ['hello', 'world']\n"
     ]
    }
   ],
   "source": [
    "# Example 1: Using string methods\n",
    "my_string = \"hello world\"\n",
    "\n",
    "# capitalize(): Converts the first character to uppercase\n",
    "print(\"capitalize():\", my_string.capitalize())  # Output: Hello world\n",
    "\n",
    "# upper(): Converts all characters to uppercase\n",
    "print(\"upper():\", my_string.upper())  # Output: HELLO WORLD\n",
    "\n",
    "# lower(): Converts all characters to lowercase\n",
    "print(\"lower():\", my_string.lower())  # Output: hello world\n",
    "\n",
    "# replace(): Replaces a substring with another substring\n",
    "print(\"replace():\", my_string.replace(\"world\", \"Python\"))  # Output: hello Python\n",
    "\n",
    "# split(): Splits the string into a list of substrings\n",
    "print(\"split():\", my_string.split())  # Output: ['hello', 'world']\n"
   ]
  },
  {
   "cell_type": "markdown",
   "metadata": {},
   "source": [
    "List Methods:"
   ]
  },
  {
   "cell_type": "code",
   "execution_count": 118,
   "metadata": {},
   "outputs": [
    {
     "name": "stdout",
     "output_type": "stream",
     "text": [
      "append(): [1, 2, 3, 4, 5, 6]\n",
      "pop(): 6\n",
      "Updated list: [1, 2, 3, 4, 5]\n",
      "sort(): [1, 2, 3, 4, 5]\n",
      "reverse(): [5, 4, 3, 2, 1]\n"
     ]
    }
   ],
   "source": [
    "# Example 2: Using list methods\n",
    "my_list = [1, 2, 3, 4, 5]\n",
    "\n",
    "# append(): Adds an element to the end of the list\n",
    "my_list.append(6)\n",
    "print(\"append():\", my_list)  # Output: [1, 2, 3, 4, 5, 6]\n",
    "\n",
    "# pop(): Removes and returns the last element from the list\n",
    "popped_element = my_list.pop()\n",
    "print(\"pop():\", popped_element)  # Output: 6\n",
    "print(\"Updated list:\", my_list)  # Output: [1, 2, 3, 4, 5]\n",
    "\n",
    "# sort(): Sorts the list in ascending order\n",
    "my_list.sort()\n",
    "print(\"sort():\", my_list)  # Output: [1, 2, 3, 4, 5]\n",
    "\n",
    "# reverse(): Reverses the elements of the list in place\n",
    "my_list.reverse()\n",
    "print(\"reverse():\", my_list)  # Output: [5, 4, 3, 2, 1]"
   ]
  },
  {
   "cell_type": "markdown",
   "metadata": {},
   "source": [
    "Dictionary Methods:"
   ]
  },
  {
   "cell_type": "code",
   "execution_count": 119,
   "metadata": {},
   "outputs": [
    {
     "name": "stdout",
     "output_type": "stream",
     "text": [
      "keys(): dict_keys(['a', 'b', 'c'])\n",
      "values(): dict_values([1, 2, 3])\n",
      "items(): dict_items([('a', 1), ('b', 2), ('c', 3)])\n",
      "get('a'): 1\n",
      "get('x'): Not found\n"
     ]
    }
   ],
   "source": [
    "# Example 3: Using dictionary methods\n",
    "my_dict = {'a': 1, 'b': 2, 'c': 3}\n",
    "\n",
    "# keys(): Returns a view of all keys in the dictionary\n",
    "print(\"keys():\", my_dict.keys())  # Output: dict_keys(['a', 'b', 'c'])\n",
    "\n",
    "# values(): Returns a view of all values in the dictionary\n",
    "print(\"values():\", my_dict.values())  # Output: dict_values([1, 2, 3])\n",
    "\n",
    "# items(): Returns a view of all key-value pairs in the dictionary\n",
    "print(\"items():\", my_dict.items())  # Output: dict_items([('a', 1), ('b', 2), ('c', 3)])\n",
    "\n",
    "# get(): Returns the value for the specified key, or a default value if the key is not found\n",
    "print(\"get('a'):\", my_dict.get('a'))  # Output: 1\n",
    "print(\"get('x'):\", my_dict.get('x', 'Not found'))  # Output: Not found"
   ]
  }
 ],
 "metadata": {
  "kernelspec": {
   "display_name": "ml_emv",
   "language": "python",
   "name": "python3"
  },
  "language_info": {
   "codemirror_mode": {
    "name": "ipython",
    "version": 3
   },
   "file_extension": ".py",
   "mimetype": "text/x-python",
   "name": "python",
   "nbconvert_exporter": "python",
   "pygments_lexer": "ipython3",
   "version": "3.11.5"
  }
 },
 "nbformat": 4,
 "nbformat_minor": 2
}
