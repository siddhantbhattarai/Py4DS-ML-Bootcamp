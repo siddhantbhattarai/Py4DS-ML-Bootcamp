{
 "cells": [
  {
   "cell_type": "markdown",
   "metadata": {},
   "source": [
    "# Python Crash Course\n",
    "\n",
    "This notebook will just go through the basic topics in order:\n",
    "\n",
    "* Print Statements\n",
    "* Data types\n",
    "    * Numbers\n",
    "    * Strings\n",
    "    * Lists\n",
    "    * Dictionaries\n",
    "    * Booleans\n",
    "    * Tuples \n",
    "    * Sets\n",
    "* Comparison Operators\n",
    "* if,elif, else Statements\n",
    "* for Loops\n",
    "* while Loops\n",
    "* range()\n",
    "* list comprehension\n",
    "* functions\n",
    "* lambda expressions\n",
    "* map and filter\n",
    "* methods\n",
    "____"
   ]
  },
  {
   "cell_type": "markdown",
   "metadata": {},
   "source": [
    "1. Print Statements"
   ]
  },
  {
   "cell_type": "code",
   "execution_count": 6,
   "metadata": {},
   "outputs": [
    {
     "name": "stdout",
     "output_type": "stream",
     "text": [
      "Hello Word\n"
     ]
    }
   ],
   "source": [
    "#learn how to print the statement\n",
    "print(\"Hello Word\")"
   ]
  },
  {
   "cell_type": "code",
   "execution_count": 7,
   "metadata": {},
   "outputs": [
    {
     "name": "stdout",
     "output_type": "stream",
     "text": [
      "18\n",
      "John\n"
     ]
    }
   ],
   "source": [
    "# step-1 Creating Variables\n",
    "x = 18\n",
    "y = \"John\"\n",
    "print(x)\n",
    "print(y) "
   ]
  },
  {
   "cell_type": "code",
   "execution_count": 8,
   "metadata": {},
   "outputs": [
    {
     "name": "stdout",
     "output_type": "stream",
     "text": [
      "John is 18 years old.\n"
     ]
    }
   ],
   "source": [
    "# step-2 Using string formatting\n",
    "print(f\"{y} is {x} years old.\")"
   ]
  },
  {
   "cell_type": "code",
   "execution_count": 9,
   "metadata": {},
   "outputs": [
    {
     "name": "stdout",
     "output_type": "stream",
     "text": [
      "John is 18 years old.\n"
     ]
    }
   ],
   "source": [
    "# step-3 Using the format method\n",
    "print(\"{} is {} years old.\" .format(y,x))"
   ]
  },
  {
   "cell_type": "code",
   "execution_count": 10,
   "metadata": {},
   "outputs": [
    {
     "name": "stdout",
     "output_type": "stream",
     "text": [
      "John is 18 years old. \n"
     ]
    }
   ],
   "source": [
    "# step-4 Concatenating strings\n",
    "print(y + \" is \" + str(x) + \" years old. \")"
   ]
  },
  {
   "cell_type": "code",
   "execution_count": 11,
   "metadata": {},
   "outputs": [
    {
     "name": "stdout",
     "output_type": "stream",
     "text": [
      "John is 18 years old.\n"
     ]
    }
   ],
   "source": [
    "# step-5 using the older % string formatting method\n",
    "print(\"%s is %d years old.\" %(y,x))"
   ]
  },
  {
   "cell_type": "markdown",
   "metadata": {},
   "source": [
    "2. Data Types"
   ]
  },
  {
   "cell_type": "markdown",
   "metadata": {},
   "source": [
    "2.1 Numbers"
   ]
  },
  {
   "cell_type": "code",
   "execution_count": 12,
   "metadata": {},
   "outputs": [
    {
     "name": "stdout",
     "output_type": "stream",
     "text": [
      "The Addition of a and b is 80.\n",
      "The Subtraction of a and b is 60.\n",
      "The Multiplication of a and b is 700.\n",
      "The Division of a and b is 7.0.\n",
      "The Reminder of a and b is 0.\n"
     ]
    }
   ],
   "source": [
    "# Numbers\n",
    "# - Create two variables, a and b, with numerical values. \n",
    "# - Perform addition, subtraction, multiplication, and division, and print the results.\n",
    "\n",
    "a = 10\n",
    "b = 70\n",
    "print(f\"The Addition of a and b is {a+b}.\")\n",
    "print(f\"The Subtraction of a and b is {b-a}.\")\n",
    "print(f\"The Multiplication of a and b is {a*b}.\")\n",
    "print(f\"The Division of a and b is {b/a}.\")\n",
    "print(f\"The Reminder of a and b is {b%a}.\")"
   ]
  },
  {
   "cell_type": "markdown",
   "metadata": {},
   "source": [
    "2.2 String"
   ]
  },
  {
   "cell_type": "code",
   "execution_count": 14,
   "metadata": {},
   "outputs": [
    {
     "name": "stdout",
     "output_type": "stream",
     "text": [
      "single_quoted_string: Hello, World!\n",
      "double_quoted_string: Python is amazing!\n",
      "concatenated_string: Hello, World! Python is amazing!\n",
      "uppercase_string: HELLO, WORLD! PYTHON IS AMAZING!\n",
      "lowercase_string: hello, world! python is amazing!\n"
     ]
    }
   ],
   "source": [
    "# Single quotes\n",
    "single_quoted_string = 'Hello, World!'\n",
    "print(\"single_quoted_string:\", single_quoted_string)\n",
    "\n",
    "# Double quotes\n",
    "double_quoted_string = \"Python is amazing!\"\n",
    "print(\"double_quoted_string:\", double_quoted_string)\n",
    "\n",
    "# Concatenation\n",
    "concatenated_string = single_quoted_string + ' ' + double_quoted_string\n",
    "print(\"concatenated_string:\", concatenated_string)\n",
    "\n",
    "# String methods\n",
    "uppercase_string = concatenated_string.upper()\n",
    "print(\"uppercase_string:\", uppercase_string)\n",
    "\n",
    "lowercase_string = concatenated_string.lower()\n",
    "print(\"lowercase_string:\", lowercase_string)\n"
   ]
  },
  {
   "cell_type": "code",
   "execution_count": 16,
   "metadata": {},
   "outputs": [
    {
     "name": "stdout",
     "output_type": "stream",
     "text": [
      "Formatted String: My name is Alice and I am 25 years old.\n"
     ]
    }
   ],
   "source": [
    "# 1. String Formatting: You can format strings using the % operator or the format() method.\n",
    "#    Example:\n",
    "name = \"Alice\"\n",
    "age = 25\n",
    "formatted_string = \"My name is %s and I am %d years old.\" % (name, age)\n",
    "print(\"Formatted String:\", formatted_string)"
   ]
  },
  {
   "cell_type": "code",
   "execution_count": 17,
   "metadata": {},
   "outputs": [
    {
     "name": "stdout",
     "output_type": "stream",
     "text": [
      "Substring: tho\n"
     ]
    }
   ],
   "source": [
    "# 2. String Slicing: You can slice strings to extract substrings.\n",
    "#    Example:\n",
    "s = \"Python\"\n",
    "substring = s[2:5]  # Extracts characters from index 2 to 4 (exclusive)\n",
    "print(\"Substring:\", substring)"
   ]
  },
  {
   "cell_type": "code",
   "execution_count": 18,
   "metadata": {},
   "outputs": [
    {
     "name": "stdout",
     "output_type": "stream",
     "text": [
      "Stripped String: Hello, World!\n"
     ]
    }
   ],
   "source": [
    "# 3. String Methods: Python provides many built-in string methods for various operations such as finding substrings, replacing characters, splitting strings, stripping whitespace, etc.\n",
    "#    Example:\n",
    "s = \"  Hello, World!  \"\n",
    "stripped_string = s.strip()  # Removes leading and trailing whitespace\n",
    "print(\"Stripped String:\", stripped_string)"
   ]
  },
  {
   "cell_type": "code",
   "execution_count": 19,
   "metadata": {},
   "outputs": [
    {
     "name": "stdout",
     "output_type": "stream",
     "text": [
      "Word List: ['Hello', 'World', 'Python']\n"
     ]
    }
   ],
   "source": [
    "words = \"Hello,World,Python\"\n",
    "word_list = words.split(\",\")  # Splits the string into a list of words\n",
    "print(\"Word List:\", word_list)"
   ]
  },
  {
   "cell_type": "code",
   "execution_count": 20,
   "metadata": {},
   "outputs": [
    {
     "name": "stdout",
     "output_type": "stream",
     "text": [
      "Sentence: Python is awesome\n"
     ]
    }
   ],
   "source": [
    "# 4. String Concatenation: Besides using the + operator, you can also use the join() method to concatenate strings from an iterable.\n",
    "#    Example:\n",
    "words = [\"Python\", \"is\", \"awesome\"]\n",
    "sentence = \" \".join(words)  # Concatenates words with a space between them\n",
    "print(\"Sentence:\", sentence)"
   ]
  },
  {
   "cell_type": "code",
   "execution_count": 21,
   "metadata": {},
   "outputs": [
    {
     "name": "stdout",
     "output_type": "stream",
     "text": [
      "Index of 'World': 7\n"
     ]
    }
   ],
   "source": [
    "# 5. String Searching and Replacing: You can search for substrings within a string and replace them using methods like find(), replace(), etc.\n",
    "#    Example:\n",
    "s = \"Hello, World!\"\n",
    "index = s.find(\"World\")  # Finds the index of the substring \"World\"\n",
    "print(\"Index of 'World':\", index)"
   ]
  },
  {
   "cell_type": "code",
   "execution_count": 22,
   "metadata": {},
   "outputs": [
    {
     "name": "stdout",
     "output_type": "stream",
     "text": [
      "Replaced String: Hi, World!\n"
     ]
    }
   ],
   "source": [
    "replaced_string = s.replace(\"Hello\", \"Hi\")  # Replaces \"Hello\" with \"Hi\"\n",
    "print(\"Replaced String:\", replaced_string)"
   ]
  },
  {
   "cell_type": "markdown",
   "metadata": {},
   "source": [
    "These are just a few examples of what you can do with strings in Python. Python's string handling capabilities are extensive and versatile, allowing for a wide range of text processing tasks."
   ]
  },
  {
   "cell_type": "markdown",
   "metadata": {},
   "source": [
    "2.3 List"
   ]
  },
  {
   "cell_type": "code",
   "execution_count": 23,
   "metadata": {},
   "outputs": [
    {
     "name": "stdout",
     "output_type": "stream",
     "text": [
      "['Toyota', 'Honda', 'Ford']\n"
     ]
    }
   ],
   "source": [
    "# Example 1: Creating a List\n",
    "# Create a list\n",
    "car_list = [\"Toyota\", \"Honda\", \"Ford\"]\n",
    "print(car_list)"
   ]
  },
  {
   "cell_type": "code",
   "execution_count": 24,
   "metadata": {},
   "outputs": [
    {
     "name": "stdout",
     "output_type": "stream",
     "text": [
      "Toyota\n",
      "Honda\n"
     ]
    }
   ],
   "source": [
    "# Accessing list items\n",
    "print(car_list[0])  # Output: \"Toyota\"\n",
    "print(car_list[1])  # Output: \"Honda\""
   ]
  },
  {
   "cell_type": "code",
   "execution_count": 25,
   "metadata": {},
   "outputs": [
    {
     "name": "stdout",
     "output_type": "stream",
     "text": [
      "3\n"
     ]
    }
   ],
   "source": [
    "# Get the number of items in the list\n",
    "print(len(car_list))  # Output: 3"
   ]
  },
  {
   "cell_type": "code",
   "execution_count": 27,
   "metadata": {},
   "outputs": [
    {
     "name": "stdout",
     "output_type": "stream",
     "text": [
      "List 1: ['Toyota', 'Honda', 'Ford']\n",
      "List 2: [1, 5, 7, 9, 3]\n",
      "List 3: [True, False, False]\n",
      "List 4: ['Toyota', 34, True, 40, 'male']\n",
      "First element of List 4: Toyota\n",
      "Second element of List 4: 34\n"
     ]
    }
   ],
   "source": [
    "# Lists can contain different data types\n",
    "list1 = [\"Toyota\", \"Honda\", \"Ford\"]\n",
    "list2 = [1, 5, 7, 9, 3]\n",
    "list3 = [True, False, False]\n",
    "list4 = [\"Toyota\", 34, True, 40, \"male\"]\n",
    "\n",
    "# Print the lists\n",
    "print(\"List 1:\", list1)\n",
    "print(\"List 2:\", list2)\n",
    "print(\"List 3:\", list3)\n",
    "print(\"List 4:\", list4)\n",
    "\n",
    "# Accessing elements of list4\n",
    "print(\"First element of List 4:\", list4[0])  # Output: \"Toyota\"\n",
    "print(\"Second element of List 4:\", list4[1])  # Output: 34"
   ]
  },
  {
   "cell_type": "code",
   "execution_count": 29,
   "metadata": {},
   "outputs": [
    {
     "name": "stdout",
     "output_type": "stream",
     "text": [
      "<class 'list'>\n"
     ]
    }
   ],
   "source": [
    "# Check the data type of a list\n",
    "print(type(car_list))"
   ]
  },
  {
   "cell_type": "code",
   "execution_count": 30,
   "metadata": {},
   "outputs": [
    {
     "name": "stdout",
     "output_type": "stream",
     "text": [
      "['Toyota', 'Honda', 'Ford']\n"
     ]
    }
   ],
   "source": [
    "# Using list() constructor to create a list\n",
    "thislist = list((\"Toyota\", \"Honda\", \"Ford\"))  # Note the double round-brackets\n",
    "print(thislist)"
   ]
  }
 ],
 "metadata": {
  "kernelspec": {
   "display_name": "ml_emv",
   "language": "python",
   "name": "python3"
  },
  "language_info": {
   "codemirror_mode": {
    "name": "ipython",
    "version": 3
   },
   "file_extension": ".py",
   "mimetype": "text/x-python",
   "name": "python",
   "nbconvert_exporter": "python",
   "pygments_lexer": "ipython3",
   "version": "3.11.5"
  }
 },
 "nbformat": 4,
 "nbformat_minor": 2
}
