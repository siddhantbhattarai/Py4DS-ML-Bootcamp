{
 "cells": [
  {
   "cell_type": "markdown",
   "metadata": {},
   "source": [
    "Here are some real-world practice questions for dictionaries and lists that align with data science and machine learning:\n",
    "\n",
    "**Dictionaries:**\n",
    "\n",
    "1. **Data Visualization:**\n",
    "   You have collected data from a survey where respondents provided their favorite programming languages along with the number of respondents who chose each language. Create a dictionary to store this data and write a program to visualize the popularity of programming languages using a bar chart.\n",
    "\n",
    "2. **Data Preprocessing:**\n",
    "   You are working on a natural language processing project and need to preprocess a large text corpus. Create a dictionary to store word frequencies, where keys are individual words and values are the number of occurrences of each word. Write a program to preprocess the text and generate this dictionary.\n",
    "\n",
    "3. **Feature Engineering:**\n",
    "   You have a dataset with information about customers, including age, gender, income, and purchase history. Create a dictionary to store customer segments based on their demographics and buying behavior. Write a program to assign each customer to a segment and analyze the characteristics of each segment.\n",
    "\n",
    "**Lists:**\n",
    "\n",
    "1. **Data Cleaning:**\n",
    "   You have a dataset with missing values in certain columns. Create a list of lists to represent the dataset, where each inner list corresponds to a row of data. Write a program to clean the dataset by removing rows with missing values or imputing missing values using appropriate techniques.\n",
    "\n",
    "2. **Model Evaluation:**\n",
    "   You have trained multiple machine learning models on a dataset and obtained their performance metrics such as accuracy, precision, recall, and F1-score. Create a list of dictionaries to store the performance metrics for each model, where each dictionary represents the metrics for a single model. Write a program to compare the performance of different models and identify the best-performing model.\n",
    "\n",
    "3. **Data Transformation:**\n",
    "   You have collected data from multiple sources in different formats such as CSV files, Excel sheets, and JSON files. Create a list of dictionaries to store the data from each source, where each dictionary represents a single data entry. Write a program to transform and integrate the data from different sources into a single unified format for further analysis.\n",
    "\n",
    "These practice questions involve common tasks encountered in data science and machine learning projects and provide opportunities to apply Python programming skills to real-world problems."
   ]
  },
  {
   "cell_type": "markdown",
   "metadata": {},
   "source": [
    "let's provide solutions for the practice questions:\n",
    "\n",
    "**Dictionaries:**\n",
    "\n",
    "1. **Data Visualization:**\n",
    "```python\n",
    "import matplotlib.pyplot as plt\n",
    "\n",
    "# Sample data\n",
    "programming_languages = {'Python': 150, 'Java': 100, 'R': 80, 'JavaScript': 120}\n",
    "\n",
    "# Plotting\n",
    "plt.bar(programming_languages.keys(), programming_languages.values())\n",
    "plt.xlabel('Programming Languages')\n",
    "plt.ylabel('Number of Respondents')\n",
    "plt.title('Popularity of Programming Languages')\n",
    "plt.show()\n",
    "```\n",
    "\n",
    "2. **Data Preprocessing:**\n",
    "```python\n",
    "import re\n",
    "\n",
    "# Sample text\n",
    "text = \"Natural language processing (NLP) is a subfield of linguistics, computer science, information engineering, and artificial intelligence concerned with the interactions between computers and human (natural) languages.\"\n",
    "\n",
    "# Preprocessing\n",
    "words = re.findall(r'\\b\\w+\\b', text.lower())\n",
    "word_freq = {}\n",
    "for word in words:\n",
    "    if word in word_freq:\n",
    "        word_freq[word] += 1\n",
    "    else:\n",
    "        word_freq[word] = 1\n",
    "\n",
    "print(\"Word Frequencies:\", word_freq)\n",
    "```\n",
    "\n",
    "3. **Feature Engineering:**\n",
    "```python\n",
    "# Sample customer data\n",
    "customers = [\n",
    "    {\"age\": 25, \"gender\": \"Male\", \"income\": 50000, \"purchase_history\": [\"Product A\", \"Product B\"]},\n",
    "    {\"age\": 35, \"gender\": \"Female\", \"income\": 60000, \"purchase_history\": [\"Product B\", \"Product C\"]},\n",
    "    {\"age\": 45, \"gender\": \"Male\", \"income\": 70000, \"purchase_history\": [\"Product A\", \"Product C\"]},\n",
    "    # Add more customer data as needed\n",
    "]\n",
    "\n",
    "# Segmenting customers based on demographics and purchase behavior\n",
    "customer_segments = {}\n",
    "for customer in customers:\n",
    "    segment_key = (customer[\"age\"], customer[\"gender\"])  # Define segmentation criteria\n",
    "    if segment_key in customer_segments:\n",
    "        customer_segments[segment_key].append(customer)\n",
    "    else:\n",
    "        customer_segments[segment_key] = [customer]\n",
    "\n",
    "# Analyzing characteristics of each segment\n",
    "for segment_key, segment_customers in customer_segments.items():\n",
    "    print(\"Segment:\", segment_key)\n",
    "    for customer in segment_customers:\n",
    "        print(\" - Age:\", customer[\"age\"], \"- Gender:\", customer[\"gender\"], \"- Income:\", customer[\"income\"])\n",
    "    print(\"Total Customers:\", len(segment_customers))\n",
    "```\n",
    "\n",
    "**Lists:**\n",
    "\n",
    "1. **Data Cleaning:**\n",
    "```python\n",
    "# Sample dataset with missing values\n",
    "dataset = [\n",
    "    [1, 25, 'Male', 'Product A'],\n",
    "    [2, None, 'Female', 'Product B'],\n",
    "    [3, 35, 'Male', None],\n",
    "    [4, 40, None, 'Product A'],\n",
    "    # Add more rows with missing values as needed\n",
    "]\n",
    "\n",
    "# Cleaning the dataset\n",
    "cleaned_dataset = [row for row in dataset if all(value is not None for value in row)]\n",
    "\n",
    "print(\"Cleaned Dataset:\", cleaned_dataset)\n",
    "```\n",
    "\n",
    "2. **Model Evaluation:**\n",
    "```python\n",
    "# Sample model performance metrics\n",
    "model_metrics = [\n",
    "    {'model': 'Logistic Regression', 'accuracy': 0.85, 'precision': 0.88, 'recall': 0.82, 'f1-score': 0.85},\n",
    "    {'model': 'Random Forest', 'accuracy': 0.90, 'precision': 0.92, 'recall': 0.88, 'f1-score': 0.90},\n",
    "    {'model': 'Support Vector Machine', 'accuracy': 0.87, 'precision': 0.86, 'recall': 0.89, 'f1-score': 0.87},\n",
    "    # Add more models and their metrics as needed\n",
    "]\n",
    "\n",
    "# Comparing model performance\n",
    "best_model = max(model_metrics, key=lambda x: x['accuracy'])\n",
    "print(\"Best Performing Model:\", best_model['model'])\n",
    "print(\"Accuracy:\", best_model['accuracy'])\n",
    "print(\"Precision:\", best_model['precision'])\n",
    "print(\"Recall:\", best_model['recall'])\n",
    "print(\"F1-score:\", best_model['f1-score'])\n",
    "```\n",
    "\n",
    "3. **Data Transformation:**\n",
    "```python\n",
    "# Sample data from different sources\n",
    "csv_data = [{'id': 1, 'name': 'John', 'age': 30},\n",
    "            {'id': 2, 'name': 'Alice', 'age': 25}]\n",
    "excel_data = [{'id': 3, 'name': 'Bob', 'age': 35},\n",
    "              {'id': 4, 'name': 'Emily', 'age': 28}]\n",
    "json_data = [{'id': 5, 'name': 'Charlie', 'age': 40},\n",
    "             {'id': 6, 'name': 'Sophia', 'age': 27}]\n",
    "\n",
    "# Integrating data from different sources\n",
    "integrated_data = []\n",
    "integrated_data.extend(csv_data)\n",
    "integrated_data.extend(excel_data)\n",
    "integrated_data.extend(json_data)\n",
    "\n",
    "print(\"Integrated Data:\", integrated_data)\n",
    "```\n",
    "\n",
    "These solutions demonstrate how dictionaries and lists can be used to solve various real-world problems encountered in data science and machine learning projects."
   ]
  },
  {
   "cell_type": "code",
   "execution_count": 2,
   "metadata": {},
   "outputs": [
    {
     "data": {
      "image/png": "[encoded data removed]",
      "text/plain": [
       "<Figure size 640x480 with 1 Axes>"
      ]
     },
     "metadata": {},
     "output_type": "display_data"
    }
   ],
   "source": [
    "# Data Visualization:\n",
    "import matplotlib.pyplot as plt\n",
    "\n",
    "# Sample data\n",
    "programming_languages = {'Python': 150, 'Java': 100, 'R': 80, 'JavaScript': 120}\n",
    "\n",
    "# Plotting\n",
    "plt.bar(programming_languages.keys(), programming_languages.values())\n",
    "plt.xlabel('Programming Languages')\n",
    "plt.ylabel('Number of Respondents')\n",
    "plt.title('Popularity of Programming Languages')\n",
    "plt.show()"
   ]
  },
  {
   "cell_type": "code",
   "execution_count": 3,
   "metadata": {},
   "outputs": [
    {
     "name": "stdout",
     "output_type": "stream",
     "text": [
      "Word Frequencies: {'natural': 2, 'language': 1, 'processing': 1, 'nlp': 1, 'is': 1, 'a': 1, 'subfield': 1, 'of': 1, 'linguistics': 1, 'computer': 1, 'science': 1, 'information': 1, 'engineering': 1, 'and': 2, 'artificial': 1, 'intelligence': 1, 'concerned': 1, 'with': 1, 'the': 1, 'interactions': 1, 'between': 1, 'computers': 1, 'human': 1, 'languages': 1}\n"
     ]
    }
   ],
   "source": [
    "# Data Preprocessing:\n",
    "import re\n",
    "\n",
    "# Sample text\n",
    "text = \"Natural language processing (NLP) is a subfield of linguistics, computer science, information engineering, and artificial intelligence concerned with the interactions between computers and human (natural) languages.\"\n",
    "\n",
    "# Preprocessing\n",
    "words = re.findall(r'\\b\\w+\\b', text.lower())\n",
    "word_freq = {}\n",
    "for word in words:\n",
    "    if word in word_freq:\n",
    "        word_freq[word] += 1\n",
    "    else:\n",
    "        word_freq[word] = 1\n",
    "\n",
    "print(\"Word Frequencies:\", word_freq)"
   ]
  },
  {
   "cell_type": "code",
   "execution_count": 4,
   "metadata": {},
   "outputs": [
    {
     "name": "stdout",
     "output_type": "stream",
     "text": [
      "Segment: (25, 'Male')\n",
      " - Age: 25 - Gender: Male - Income: 50000\n",
      "Total Customers: 1\n",
      "Segment: (35, 'Female')\n",
      " - Age: 35 - Gender: Female - Income: 60000\n",
      "Total Customers: 1\n",
      "Segment: (45, 'Male')\n",
      " - Age: 45 - Gender: Male - Income: 70000\n",
      "Total Customers: 1\n"
     ]
    }
   ],
   "source": [
    "# Feature Engineering:\n",
    "# Sample customer data\n",
    "customers = [\n",
    "    {\"age\": 25, \"gender\": \"Male\", \"income\": 50000, \"purchase_history\": [\"Product A\", \"Product B\"]},\n",
    "    {\"age\": 35, \"gender\": \"Female\", \"income\": 60000, \"purchase_history\": [\"Product B\", \"Product C\"]},\n",
    "    {\"age\": 45, \"gender\": \"Male\", \"income\": 70000, \"purchase_history\": [\"Product A\", \"Product C\"]},\n",
    "    # Add more customer data as needed\n",
    "]\n",
    "\n",
    "# Segmenting customers based on demographics and purchase behavior\n",
    "customer_segments = {}\n",
    "for customer in customers:\n",
    "    segment_key = (customer[\"age\"], customer[\"gender\"])  # Define segmentation criteria\n",
    "    if segment_key in customer_segments:\n",
    "        customer_segments[segment_key].append(customer)\n",
    "    else:\n",
    "        customer_segments[segment_key] = [customer]\n",
    "\n",
    "# Analyzing characteristics of each segment\n",
    "for segment_key, segment_customers in customer_segments.items():\n",
    "    print(\"Segment:\", segment_key)\n",
    "    for customer in segment_customers:\n",
    "        print(\" - Age:\", customer[\"age\"], \"- Gender:\", customer[\"gender\"], \"- Income:\", customer[\"income\"])\n",
    "    print(\"Total Customers:\", len(segment_customers))\n"
   ]
  },
  {
   "cell_type": "code",
   "execution_count": 5,
   "metadata": {},
   "outputs": [
    {
     "name": "stdout",
     "output_type": "stream",
     "text": [
      "Cleaned Dataset: [[1, 25, 'Male', 'Product A']]\n"
     ]
    }
   ],
   "source": [
    "# Data Cleaning:\n",
    "# Sample dataset with missing values\n",
    "dataset = [\n",
    "    [1, 25, 'Male', 'Product A'],\n",
    "    [2, None, 'Female', 'Product B'],\n",
    "    [3, 35, 'Male', None],\n",
    "    [4, 40, None, 'Product A'],\n",
    "    # Add more rows with missing values as needed\n",
    "]\n",
    "\n",
    "# Cleaning the dataset\n",
    "cleaned_dataset = [row for row in dataset if all(value is not None for value in row)]\n",
    "\n",
    "print(\"Cleaned Dataset:\", cleaned_dataset)\n"
   ]
  },
  {
   "cell_type": "code",
   "execution_count": 6,
   "metadata": {},
   "outputs": [
    {
     "name": "stdout",
     "output_type": "stream",
     "text": [
      "Best Performing Model: Random Forest\n",
      "Accuracy: 0.9\n",
      "Precision: 0.92\n",
      "Recall: 0.88\n",
      "F1-score: 0.9\n"
     ]
    }
   ],
   "source": [
    "# Model Evaluation:\n",
    "# Sample model performance metrics\n",
    "model_metrics = [\n",
    "    {'model': 'Logistic Regression', 'accuracy': 0.85, 'precision': 0.88, 'recall': 0.82, 'f1-score': 0.85},\n",
    "    {'model': 'Random Forest', 'accuracy': 0.90, 'precision': 0.92, 'recall': 0.88, 'f1-score': 0.90},\n",
    "    {'model': 'Support Vector Machine', 'accuracy': 0.87, 'precision': 0.86, 'recall': 0.89, 'f1-score': 0.87},\n",
    "    # Add more models and their metrics as needed\n",
    "]\n",
    "\n",
    "# Comparing model performance\n",
    "best_model = max(model_metrics, key=lambda x: x['accuracy'])\n",
    "print(\"Best Performing Model:\", best_model['model'])\n",
    "print(\"Accuracy:\", best_model['accuracy'])\n",
    "print(\"Precision:\", best_model['precision'])\n",
    "print(\"Recall:\", best_model['recall'])\n",
    "print(\"F1-score:\", best_model['f1-score'])"
   ]
  },
  {
   "cell_type": "code",
   "execution_count": 7,
   "metadata": {},
   "outputs": [
    {
     "name": "stdout",
     "output_type": "stream",
     "text": [
      "Integrated Data: [{'id': 1, 'name': 'John', 'age': 30}, {'id': 2, 'name': 'Alice', 'age': 25}, {'id': 3, 'name': 'Bob', 'age': 35}, {'id': 4, 'name': 'Emily', 'age': 28}, {'id': 5, 'name': 'Charlie', 'age': 40}, {'id': 6, 'name': 'Sophia', 'age': 27}]\n"
     ]
    }
   ],
   "source": [
    "# Data Transformation:\n",
    "# Sample data from different sources\n",
    "csv_data = [{'id': 1, 'name': 'John', 'age': 30},\n",
    "            {'id': 2, 'name': 'Alice', 'age': 25}]\n",
    "excel_data = [{'id': 3, 'name': 'Bob', 'age': 35},\n",
    "              {'id': 4, 'name': 'Emily', 'age': 28}]\n",
    "json_data = [{'id': 5, 'name': 'Charlie', 'age': 40},\n",
    "             {'id': 6, 'name': 'Sophia', 'age': 27}]\n",
    "\n",
    "# Integrating data from different sources\n",
    "integrated_data = []\n",
    "integrated_data.extend(csv_data)\n",
    "integrated_data.extend(excel_data)\n",
    "integrated_data.extend(json_data)\n",
    "\n",
    "print(\"Integrated Data:\", integrated_data)"
   ]
  }
 ],
 "metadata": {
  "kernelspec": {
   "display_name": "ml_emv",
   "language": "python",
   "name": "python3"
  },
  "language_info": {
   "codemirror_mode": {
    "name": "ipython",
    "version": 3
   },
   "file_extension": ".py",
   "mimetype": "text/x-python",
   "name": "python",
   "nbconvert_exporter": "python",
   "pygments_lexer": "ipython3",
   "version": "3.11.5"
  }
 },
 "nbformat": 4,
 "nbformat_minor": 2
}
