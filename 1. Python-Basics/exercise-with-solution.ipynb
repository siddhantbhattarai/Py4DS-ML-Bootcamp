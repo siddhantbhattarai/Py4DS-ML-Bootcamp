{
 "cells": [
  {
   "cell_type": "markdown",
   "metadata": {},
   "source": [
    "Exercise:\n",
    "\n",
    "String Manipulation:\n",
    "1. Create a string variable containing your full name.\n",
    "2. Use string methods to convert the first letter of each word in your name to uppercase.\n",
    "3. Replace any spaces in your name with hyphens (-).\n",
    "4. Print the modified string.\n",
    "\n",
    "List Operations:\n",
    "1. Create a list of your favorite fruits.\n",
    "2. Add two more fruits to the list using list methods.\n",
    "3. Remove one fruit from the list using another list method.\n",
    "4. Sort the list in alphabetical order.\n",
    "5. Print the final list of fruits.\n",
    "\n",
    "Dictionary Operations:\n",
    "1. Create a dictionary representing your personal information (e.g., name, age, city).\n",
    "2. Add an additional key-value pair to the dictionary.\n",
    "3. Remove one key-value pair from the dictionary.\n",
    "4. Print the updated dictionary.\n",
    "\n",
    "Function Practice:\n",
    "1. Define a function that takes a list of numbers as input and returns the sum of all the numbers.\n",
    "2. Define another function that takes a string as input and returns the string in reversed order.\n",
    "3. Test both functions with sample inputs and print the results."
   ]
  },
  {
   "cell_type": "code",
   "execution_count": 1,
   "metadata": {},
   "outputs": [
    {
     "name": "stdout",
     "output_type": "stream",
     "text": [
      "Modified Name: John-Doe\n"
     ]
    }
   ],
   "source": [
    "# 1. String Manipulation\n",
    "full_name = \"john doe\"\n",
    "modified_name = full_name.title().replace(\" \", \"-\")\n",
    "print(\"Modified Name:\", modified_name)"
   ]
  },
  {
   "cell_type": "code",
   "execution_count": 2,
   "metadata": {},
   "outputs": [
    {
     "name": "stdout",
     "output_type": "stream",
     "text": [
      "Favorite Fruits: ['apple', 'banana', 'grapes', 'pineapple', 'watermelon']\n"
     ]
    }
   ],
   "source": [
    "# 2. List Operations\n",
    "favorite_fruits = ['apple', 'banana', 'orange']\n",
    "favorite_fruits.append('grapes')\n",
    "favorite_fruits.extend(['pineapple', 'watermelon'])\n",
    "favorite_fruits.remove('orange')\n",
    "favorite_fruits.sort()\n",
    "print(\"Favorite Fruits:\", favorite_fruits)"
   ]
  },
  {
   "cell_type": "code",
   "execution_count": 3,
   "metadata": {},
   "outputs": [
    {
     "name": "stdout",
     "output_type": "stream",
     "text": [
      "Updated Personal Info: {'name': 'John', 'city': 'New York', 'occupation': 'Software Engineer'}\n"
     ]
    }
   ],
   "source": [
    "# 3. Dictionary Operations\n",
    "personal_info = {'name': 'John', 'age': 30, 'city': 'New York'}\n",
    "personal_info['occupation'] = 'Software Engineer'\n",
    "personal_info.pop('age')\n",
    "print(\"Updated Personal Info:\", personal_info)"
   ]
  },
  {
   "cell_type": "code",
   "execution_count": 4,
   "metadata": {},
   "outputs": [
    {
     "name": "stdout",
     "output_type": "stream",
     "text": [
      "Sum of Numbers: 15\n",
      "Reversed String: olleh\n"
     ]
    }
   ],
   "source": [
    "# 4. Function Practice\n",
    "def sum_of_numbers(numbers):\n",
    "    return sum(numbers)\n",
    "\n",
    "def reverse_string(s):\n",
    "    return s[::-1]\n",
    "\n",
    "sample_numbers = [1, 2, 3, 4, 5]\n",
    "print(\"Sum of Numbers:\", sum_of_numbers(sample_numbers))\n",
    "print(\"Reversed String:\", reverse_string(\"hello\"))\n"
   ]
  }
 ],
 "metadata": {
  "kernelspec": {
   "display_name": "ml_emv",
   "language": "python",
   "name": "python3"
  },
  "language_info": {
   "codemirror_mode": {
    "name": "ipython",
    "version": 3
   },
   "file_extension": ".py",
   "mimetype": "text/x-python",
   "name": "python",
   "nbconvert_exporter": "python",
   "pygments_lexer": "ipython3",
   "version": "3.11.5"
  }
 },
 "nbformat": 4,
 "nbformat_minor": 2
}
