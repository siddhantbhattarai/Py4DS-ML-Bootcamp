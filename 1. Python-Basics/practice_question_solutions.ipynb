{
 "cells": [
  {
   "cell_type": "markdown",
   "metadata": {},
   "source": [
    "Sure, Here's an overview of the topics that we will cover in this course:\n",
    "\n",
    "**Python Programming**\n",
    "\n",
    "1. **Using Escape Sequences**: Introduce escape sequences in Python, such as `\\n` for newline and `\\t` for tab. Demonstrate how to use them to print words or strings on separate lines.\n",
    "\n",
    "2. **Creating Lists**: Explain how to create lists in Python and explore various methods like `list comprehension` and the `range()` function to generate lists of even numbers between a specified range.\n",
    "\n",
    "3. **String Manipulation**: Cover string operations like slicing, splitting, and replacing. Provide examples of how to replace a given word in a string with another word.\n",
    "\n",
    "4. **Fibonacci Series**: Introduce the concept of the Fibonacci series and teach how to generate the first N numbers of the series using loops or recursion.\n",
    "\n",
    "5. **Sum of Digits**: Explain how to iterate over the digits of a number and calculate their sum using techniques like modulus operator and integer division.\n",
    "\n",
    "6. **Factorial Calculation**: Demonstrate how to calculate the factorial of a given number using loops or recursion.\n",
    "\n",
    "7. **Accepting User Input**: Teach how to accept multiple values from the user and store them in a list or other data structures.\n",
    "\n",
    "8. **Armstrong Numbers**: Introduce the concept of Armstrong numbers and provide a solution to check if a given number is an Armstrong number or not.\n",
    "\n",
    "9. **Arithmetic Progression**: Explain arithmetic progressions and show how to find the Nth term given the initial value and common difference.\n",
    "\n",
    "10. **Geometric Progression**: Similar to arithmetic progression, but cover geometric progressions and how to generate the sequence given the initial value and common ratio.\n",
    "\n",
    "11. **String Analysis**: Demonstrate how to count the occurrences of lowercase, uppercase, and numeric characters in a given string.\n",
    "\n",
    "12. **Palindrome Checking**: Introduce palindromes and provide a solution to check if a given string is a palindrome or not.\n",
    "\n",
    "13. **Sorting Lists**: Cover sorting algorithms like bubble sort, insertion sort, or Python's built-in `sort()` method. Teach how to sort a list of numbers and print them separated by commas.\n",
    "\n",
    "14. **Dictionary Operations**: Explain dictionaries in Python and demonstrate how to concatenate two or more dictionaries.\n",
    "\n",
    "15. **Nested Dictionaries**: Introduce nested dictionaries and provide examples of how to work with them, such as representing student performance data.\n",
    "\n",
    "16. **NumPy Introduction**: Introduce NumPy, a popular Python library for numerical computing. Explain how to create and manipulate NumPy arrays.\n",
    "\n",
    "17. **Pandas DataFrames**: Teach how to convert dictionaries into Pandas DataFrames and perform operations like printing the head and tail rows.\n",
    "\n",
    "18. **Functions and Banking**: Develop a Python script that defines a function to debit and credit money from a simulated bank account.\n",
    "\n",
    "19. **Date and Time Operations**: Cover Python's `datetime` module and demonstrate how to find the difference between two dates.\n",
    "\n",
    "20. **Regular Expressions**: Introduce regular expressions and show how to use them for tasks like validating email addresses.\n",
    "\n",
    "21. **Exception Handling**: Explain the concept of exceptions in Python and demonstrate how to handle exceptions using `try` and `except` blocks, including an example of dividing a number.\n",
    "\n",
    "22. **Matrix Operations with NumPy**: Revisit NumPy and teach how to perform matrix operations like multiplication using NumPy arrays.\n",
    "\n",
    "Throughout the course, provide plenty of examples, coding exercises, and projects to reinforce the concepts and give students hands-on practice with Python programming."
   ]
  },
  {
   "cell_type": "code",
   "execution_count": 1,
   "metadata": {},
   "outputs": [
    {
     "name": "stdout",
     "output_type": "stream",
     "text": [
      "Hey!\n",
      "Welcome\n",
      "to\n",
      "ISMT\n",
      "College!\n"
     ]
    }
   ],
   "source": [
    "# Printing each word in different lines:\n",
    "\n",
    "def print_each_word_in_different_lines(sentence):\n",
    "    words = sentence.split()\n",
    "    for word in words:\n",
    "        print(word)\n",
    "\n",
    "# Sample Usage\n",
    "sentence = 'Hey! Welcome to ISMT College!'\n",
    "print_each_word_in_different_lines(sentence)"
   ]
  },
  {
   "cell_type": "code",
   "execution_count": 7,
   "metadata": {},
   "outputs": [
    {
     "name": "stdout",
     "output_type": "stream",
     "text": [
      "Hey!\n",
      "Welcome\n",
      "to\n",
      "ISMT College!\n"
     ]
    }
   ],
   "source": [
    "# Alternatively, you can also use the newline character \\n directly in the string:\n",
    "\n",
    "text = \"Hey!\\nWelcome\\nto\\nISMT College!\"\n",
    "print(text)\n"
   ]
  },
  {
   "cell_type": "code",
   "execution_count": 8,
   "metadata": {},
   "outputs": [
    {
     "name": "stdout",
     "output_type": "stream",
     "text": [
      "[2, 4, 6, 8, 10, 12, 14, 16, 18, 20]\n"
     ]
    }
   ],
   "source": [
    "# Creating a list of even numbers from 2 to 20\n",
    "even_list = [num for num in range(2, 21, 2)]\n",
    "\n",
    "# Printing the output\n",
    "print(even_list)"
   ]
  },
  {
   "cell_type": "code",
   "execution_count": 9,
   "metadata": {},
   "outputs": [
    {
     "name": "stdout",
     "output_type": "stream",
     "text": [
      "Hello, Python!\n"
     ]
    }
   ],
   "source": [
    "# Python program to replace a given word X with Y from a string:\n",
    "\n",
    "# Input text\n",
    "text = \"Hello, world!\"\n",
    "\n",
    "# Replacing \"world\" with \"Python\"\n",
    "new_text = text.replace(\"world\", \"Python\")\n",
    "\n",
    "# Printing the output\n",
    "print(new_text)"
   ]
  },
  {
   "cell_type": "code",
   "execution_count": 10,
   "metadata": {},
   "outputs": [
    {
     "name": "stdout",
     "output_type": "stream",
     "text": [
      "Fibonacci Series: [0, 1, 1, 2, 3, 5, 8, 13, 21, 34]\n"
     ]
    }
   ],
   "source": [
    "# Python program to generate N numbers Fibonacci series separated by space:\n",
    "\n",
    "def generate_fibonacci_series(n):\n",
    "    fibonacci_series = [0, 1]\n",
    "    for i in range(2, n):\n",
    "        fibonacci_series.append(fibonacci_series[-1] + fibonacci_series[-2])\n",
    "    return fibonacci_series\n",
    "\n",
    "n = 10\n",
    "fibonacci_series = generate_fibonacci_series(n)\n",
    "print(\"Fibonacci Series:\", fibonacci_series)\n"
   ]
  },
  {
   "cell_type": "code",
   "execution_count": 11,
   "metadata": {},
   "outputs": [
    {
     "name": "stdout",
     "output_type": "stream",
     "text": [
      "[0, 1, 1, 2, 3, 5, 8, 13, 21, 34]\n"
     ]
    }
   ],
   "source": [
    "# Function to generate the first n Fibonacci numbers\n",
    "def Fibonacci(n):\n",
    "    fib_series = []\n",
    "    # Check for incorrect input\n",
    "    if n <= 0:\n",
    "        print(\"Incorrect input\")\n",
    "    # First Fibonacci number is 0\n",
    "    elif n == 1:\n",
    "        fib_series.append(0)\n",
    "    # Second Fibonacci number is 1\n",
    "    elif n == 2:\n",
    "        fib_series.extend([0, 1])\n",
    "    else:\n",
    "        fib_series.extend([0, 1])\n",
    "        # Generate Fibonacci numbers up to n\n",
    "        for i in range(2, n):\n",
    "            fib_series.append(fib_series[i-1] + fib_series[i-2])\n",
    "    return fib_series\n",
    "\n",
    "# Driver Program\n",
    "# Print the first 10 Fibonacci numbers\n",
    "print(Fibonacci(10))\n"
   ]
  },
  {
   "cell_type": "code",
   "execution_count": 12,
   "metadata": {},
   "outputs": [
    {
     "name": "stdout",
     "output_type": "stream",
     "text": [
      "Sum of Digits: 15\n"
     ]
    }
   ],
   "source": [
    "# Finding the sum of digits from a given integer number:\n",
    "\n",
    "def sum_of_digits(n):\n",
    "    return sum(int(digit) for digit in str(n))\n",
    "\n",
    "# Sample Usage\n",
    "number = 12345\n",
    "print(\"Sum of Digits:\", sum_of_digits(number))\n"
   ]
  },
  {
   "cell_type": "code",
   "execution_count": 14,
   "metadata": {},
   "outputs": [
    {
     "name": "stdout",
     "output_type": "stream",
     "text": [
      "Factorial of 5 : 120\n"
     ]
    }
   ],
   "source": [
    "# Finding the factorial of a given number:\n",
    "def factorial(n):\n",
    "    if n == 0:\n",
    "        return 1\n",
    "    else:\n",
    "        return n * factorial(n-1)\n",
    "\n",
    "# Sample Usage\n",
    "n = 5\n",
    "print(\"Factorial of\", n, \":\", factorial(n))"
   ]
  },
  {
   "cell_type": "code",
   "execution_count": 15,
   "metadata": {},
   "outputs": [
    {
     "name": "stdout",
     "output_type": "stream",
     "text": [
      "[1, 2, 3, 4, 5]\n"
     ]
    }
   ],
   "source": [
    "# Printing values as a list:\n",
    "def print_as_list(*args):\n",
    "    print(list(args))\n",
    "\n",
    "# Sample Usage\n",
    "print_as_list(1, 2, 3, 4, 5)\n"
   ]
  },
  {
   "cell_type": "code",
   "execution_count": 17,
   "metadata": {},
   "outputs": [
    {
     "name": "stdout",
     "output_type": "stream",
     "text": [
      "Is 153 an Armstrong number? True\n"
     ]
    }
   ],
   "source": [
    "def is_armstrong_number(n):\n",
    "    num_str = str(n)\n",
    "    length = len(num_str)\n",
    "    sum_digits = sum(int(digit)**length for digit in num_str)\n",
    "    return sum_digits == n\n",
    "\n",
    "# Sample Usage\n",
    "number = 153\n",
    "print(\"Is\", number, \"an Armstrong number?\", is_armstrong_number(number))\n"
   ]
  },
  {
   "cell_type": "code",
   "execution_count": 19,
   "metadata": {},
   "outputs": [
    {
     "name": "stdout",
     "output_type": "stream",
     "text": [
      "123 is not an Armstrong number\n"
     ]
    }
   ],
   "source": [
    "def is_armstrong(num):\n",
    "    # Convert number to string to find the length\n",
    "    num_str = str(num)\n",
    "    # Calculate the number of digits\n",
    "    num_digits = len(num_str)\n",
    "    # Initialize sum\n",
    "    armstrong_sum = 0\n",
    "    # Iterate through each digit\n",
    "    for digit in num_str:\n",
    "        armstrong_sum += int(digit) ** num_digits\n",
    "    # Check if the sum equals the original number\n",
    "    return armstrong_sum == num\n",
    "\n",
    "# Take input from the user\n",
    "number = int(input(\"Enter a number to check if it's an Armstrong number: \"))\n",
    "\n",
    "# Check if the number is an Armstrong number and print the result\n",
    "if is_armstrong(number):\n",
    "    print(number, \"is an Armstrong number\")\n",
    "else:\n",
    "    print(number, \"is not an Armstrong number\")\n"
   ]
  }
 ],
 "metadata": {
  "kernelspec": {
   "display_name": "ml_emv",
   "language": "python",
   "name": "python3"
  },
  "language_info": {
   "codemirror_mode": {
    "name": "ipython",
    "version": 3
   },
   "file_extension": ".py",
   "mimetype": "text/x-python",
   "name": "python",
   "nbconvert_exporter": "python",
   "pygments_lexer": "ipython3",
   "version": "3.11.5"
  }
 },
 "nbformat": 4,
 "nbformat_minor": 2
}
